{
  "cells": [
    {
      "cell_type": "markdown",
      "source": [
        "# Automated ML\n",
        "\n",
        "## Azure ML and pipeline SDK-specific imports"
      ],
      "metadata": {}
    },
    {
      "cell_type": "code",
      "source": [
        "import logging\n",
        "import os\n",
        "import csv\n",
        "import pkg_resources\n",
        "import json\n",
        "import requests\n",
        "\n",
        "import numpy as np\n",
        "import pandas as pd\n",
        "\n",
        "from matplotlib import pyplot as plt\n",
        "\n",
        "import sklearn\n",
        "from sklearn import datasets\n",
        "from sklearn.metrics import confusion_matrix\n",
        "\n",
        "import azureml.core\n",
        "from azureml.core import Model\n",
        "from azureml.core.compute import AmlCompute\n",
        "from azureml.core.compute import ComputeTarget\n",
        "from azureml.core.compute_target import ComputeTargetException\n",
        "from azureml.core.dataset import Dataset\n",
        "from azureml.core.environment import Environment\n",
        "from azureml.core.experiment import Experiment\n",
        "from azureml.core.model import InferenceConfig\n",
        "from azureml.core.resource_configuration import ResourceConfiguration\n",
        "from azureml.core.webservice import AciWebservice\n",
        "from azureml.core.workspace import Workspace\n",
        "from azureml.train.automl import AutoMLConfig\n",
        "from azureml.widgets import RunDetails\n",
        "\n",
        "# Check core SDK version number\n",
        "print(\"SDK version:\", azureml.core.VERSION)"
      ],
      "outputs": [
        {
          "output_type": "stream",
          "name": "stdout",
          "text": [
            "SDK version: 1.27.0\n"
          ]
        }
      ],
      "execution_count": 1,
      "metadata": {
        "gather": {
          "logged": 1620762333449
        },
        "jupyter": {
          "outputs_hidden": false,
          "source_hidden": false
        },
        "nteract": {
          "transient": {
            "deleting": false
          }
        }
      }
    },
    {
      "cell_type": "markdown",
      "source": [
        "## Initialize workspace\n",
        "\n",
        "Initialize a workspace object from persisted configuration."
      ],
      "metadata": {
        "nteract": {
          "transient": {
            "deleting": false
          }
        }
      }
    },
    {
      "cell_type": "code",
      "source": [
        "ws = Workspace.from_config()\n",
        "\n",
        "print(\n",
        "    'Workspace name: ' + ws.name, \n",
        "    'Azure region: ' + ws.location, \n",
        "    'Subscription id: ' + ws.subscription_id, \n",
        "    'Resource group: ' + ws.resource_group, sep = '\\n'\n",
        "    )"
      ],
      "outputs": [
        {
          "output_type": "stream",
          "name": "stdout",
          "text": [
            "Workspace name: udacity-ml-capstone-ws\n",
            "Azure region: eastus\n",
            "Subscription id: b329467a-d1f8-4c9b-b3dc-95cdc7bff7fa\n",
            "Resource group: udacity-ml-capstone-rg\n"
          ]
        }
      ],
      "execution_count": 2,
      "metadata": {
        "collapsed": true,
        "jupyter": {
          "source_hidden": false,
          "outputs_hidden": false
        },
        "nteract": {
          "transient": {
            "deleting": false
          }
        },
        "gather": {
          "logged": 1620762337078
        }
      }
    },
    {
      "cell_type": "markdown",
      "source": [
        "## Create an Azure ML experiment\n",
        "\n",
        "Let's create an experiment named `heart-failure-aml-exp` and a folder to hold the training scripts. The script runs will be recorded under the experiment in Azure.\n",
        "\n",
        "The best practice is to use separate folders for scripts and its dependent files for each step and specify that folder as the `source_directory` for the step. This helps reduce the size of the snapshot created for the step (only the specific folder is snapshotted). Since changes in any files in the source_directory would trigger a re-upload of the snapshot, this helps keep the reuse of the step when there are no changes in the source_directory of the step."
      ],
      "metadata": {
        "nteract": {
          "transient": {
            "deleting": false
          }
        }
      }
    },
    {
      "cell_type": "code",
      "source": [
        "# Choose a name for the run history container in the workspace\n",
        "experiment_name = 'heart-failure-aml-exp'\n",
        "project_folder = './heart-failure-aml-proj'\n",
        "\n",
        "experiment = Experiment(ws, experiment_name)\n",
        "experiment"
      ],
      "outputs": [
        {
          "output_type": "execute_result",
          "execution_count": 3,
          "data": {
            "text/plain": "Experiment(Name: heart-failure-aml-exp,\nWorkspace: udacity-ml-capstone-ws)",
            "text/html": "<table style=\"width:100%\"><tr><th>Name</th><th>Workspace</th><th>Report Page</th><th>Docs Page</th></tr><tr><td>heart-failure-aml-exp</td><td>udacity-ml-capstone-ws</td><td><a href=\"https://ml.azure.com/experiments/id/b71a4b28-0230-4012-ad48-72eeee8ac7ea?wsid=/subscriptions/b329467a-d1f8-4c9b-b3dc-95cdc7bff7fa/resourcegroups/udacity-ml-capstone-rg/workspaces/udacity-ml-capstone-ws&amp;tid=d2e5496e-227d-4db9-89b8-356c2cf9a452\" target=\"_blank\" rel=\"noopener\">Link to Azure Machine Learning studio</a></td><td><a href=\"https://docs.microsoft.com/en-us/python/api/azureml-core/azureml.core.experiment.Experiment?view=azure-ml-py\" target=\"_blank\" rel=\"noopener\">Link to Documentation</a></td></tr></table>"
          },
          "metadata": {}
        }
      ],
      "execution_count": 3,
      "metadata": {
        "collapsed": true,
        "jupyter": {
          "source_hidden": false,
          "outputs_hidden": false
        },
        "nteract": {
          "transient": {
            "deleting": false
          }
        },
        "gather": {
          "logged": 1620762339420
        }
      }
    },
    {
      "cell_type": "markdown",
      "source": [
        "### Create or attach an AmlCompute cluster\n",
        "\n",
        "You will need to create a [compute target](https://docs.microsoft.com/azure/machine-learning/service/concept-azure-machine-learning-architecture#compute-target) for your AutoML run."
      ],
      "metadata": {
        "nteract": {
          "transient": {
            "deleting": false
          }
        }
      }
    },
    {
      "cell_type": "code",
      "source": [
        "# Choose a name for your CPU cluster\n",
        "compute_cluster_name = \"compute-cluster\"\n",
        "\n",
        "# Verify that cluster does not exist already\n",
        "try:\n",
        "    compute_target = ComputeTarget(workspace=ws, name=compute_cluster_name)\n",
        "    print('Found existing cluster, use it.')\n",
        "except ComputeTargetException:\n",
        "    compute_config = AmlCompute.provisioning_configuration(\n",
        "        vm_size='STANDARD_D2_V2',# for GPU, use \"STANDARD_NC6\"\n",
        "        #vm_priority = 'lowpriority', # optional\n",
        "        min_nodes=0,\n",
        "        max_nodes=5)\n",
        "    compute_target = ComputeTarget.create(ws, compute_cluster_name, compute_config)\n",
        "\n",
        "compute_target.wait_for_completion(show_output=True)\n",
        "\n",
        "# For a more detailed view of current AmlCompute status, use get_status()\n",
        "print(compute_target.get_status().serialize())"
      ],
      "outputs": [
        {
          "output_type": "stream",
          "name": "stdout",
          "text": [
            "Found existing cluster, use it.\n",
            "Succeeded\n",
            "AmlCompute wait for completion finished\n",
            "\n",
            "Minimum number of nodes requested have been provisioned\n",
            "{'currentNodeCount': 1, 'targetNodeCount': 1, 'nodeStateCounts': {'preparingNodeCount': 1, 'runningNodeCount': 0, 'idleNodeCount': 0, 'unusableNodeCount': 0, 'leavingNodeCount': 0, 'preemptedNodeCount': 0}, 'allocationState': 'Steady', 'allocationStateTransitionTime': '2021-05-11T19:45:30.629000+00:00', 'errors': None, 'creationTime': '2021-05-11T12:45:11.596800+00:00', 'modifiedTime': '2021-05-11T12:45:57.018265+00:00', 'provisioningState': 'Succeeded', 'provisioningStateTransitionTime': None, 'scaleSettings': {'minNodeCount': 0, 'maxNodeCount': 5, 'nodeIdleTimeBeforeScaleDown': 'PT1800S'}, 'vmPriority': 'Dedicated', 'vmSize': 'STANDARD_DS2_V2'}\n"
          ]
        }
      ],
      "execution_count": 4,
      "metadata": {
        "collapsed": true,
        "jupyter": {
          "source_hidden": false,
          "outputs_hidden": false
        },
        "nteract": {
          "transient": {
            "deleting": false
          }
        },
        "gather": {
          "logged": 1620762341949
        }
      }
    },
    {
      "cell_type": "markdown",
      "source": [
        "## Dataset\n",
        "\n",
        "### Overview\n",
        "\n",
        "The project uses the [heart failure clinical records dataset](https://archive.ics.uci.edu/ml/machine-learning-databases/00519/heart_failure_clinical_records_dataset.csv). This dataset contains the medical records of 299 patients who had heart failure, collected during their follow-up period, where each patient profile has 13 clinical features.\n",
        "\n",
        "|                           |                                                                        |\n",
        "| ------------------------- | ---------------------------------------------------------------------- |\n",
        "| Dataset characteristics   | Multivariate                                                           |\n",
        "| Number of instances       | 299                                                                    |\n",
        "| Area                      | Life                                                                   |\n",
        "| Attribute characteristics | Integer, Real                                                          |\n",
        "| Number of attributes      | 13                                                                     |\n",
        "| Associated tasks          | Classification, Regression, Clustering                                 |\n",
        "| Missing values?           | N/A                                                                    |\n",
        "| Source                    | https://archive.ics.uci.edu/ml/datasets/Heart+failure+clinical+records |\n",
        "\n",
        "A detailed description of the dataset can be found in the dataset section of the [\"Machine learning can predict survival of patients with heart failure from serum creatinine and ejection fraction alone\"](https://bmcmedinformdecismak.biomedcentral.com/articles/10.1186/s12911-020-1023-5) paper.\n",
        "\n",
        "### Attribute Information\n",
        "\n",
        "Thirteen clinical features:\n",
        "\n",
        "| Name                           | Description                                               | Unit             |\n",
        "| ------------------------------ | --------------------------------------------------------- | ---------------- |\n",
        "| Age                            | Age of the patient                                        | Years            |\n",
        "| Anaemia                        | Decrease of red blood cells or hemoglobin                 | Boolean          |\n",
        "| High blood pressure            | If the patient has hypertension                           | Boolean          |\n",
        "| Creatinine phosphokinase (CPK) | Level of the CPK enzyme in the blood                      | mcg/L            |\n",
        "| Diabetes                       | If the patient has diabetes                               | Boolean          |\n",
        "| Ejection fraction              | Percentage of blood leaving the heart at each contraction | Percentage       |\n",
        "| Platelets                      | Platelets in the blood                                    | kiloplatelets/mL |\n",
        "| Sex                            | Woman or man                                              | Binary           |\n",
        "| Serum creatinine               | Level of serum creatinine in the blood                    | mg/dL            |\n",
        "| Serum sodium                   | Level of serum sodium in the blood                        | mEq/L            |\n",
        "| Smoking                        | If the patient smokes or not                              | Boolean          |\n",
        "| Time                           | Follow-up period                                          | Days             |\n",
        "| Death event (target)           | If the patient deceased during the follow-up period       | Boolean          |\n",
        "\n",
        "### Task\n",
        "\n",
        "This project tries to predict the binary class for the target/label `DEATH_EVENT` using supervised machine learning. `DEATH_EVENT` is the mortality caused by heart failure. All the features in the dataset are used."
      ],
      "metadata": {}
    },
    {
      "cell_type": "code",
      "source": [
        "# Try to load the dataset from the Workspace. Otherwise, create it from the file\n",
        "found = False\n",
        "key = \"heart-failure-ds\"\n",
        "description_text = \"Heart failure clinical records dataset from the UCI repository (https://archive.ics.uci.edu/ml/datasets/Heart+failure+clinical+records)\"\n",
        "data_path = 'https://raw.githubusercontent.com/thom/azure-ml-engineer-capstone/main/data/heart_failure_clinical_records_dataset.csv'\n",
        "\n",
        "if key in ws.datasets.keys(): \n",
        "    found = True\n",
        "    dataset = ws.datasets[key] \n",
        "\n",
        "if not found:\n",
        "    # Create AML Dataset and register it into Workspace\n",
        "    dataset = Dataset.Tabular.from_delimited_files(data_path)        \n",
        "    # Register Dataset in Workspace\n",
        "    dataset = dataset.register(\n",
        "        workspace=ws,\n",
        "        name=key,\n",
        "        description=description_text)\n",
        "\n",
        "\n",
        "df = dataset.to_pandas_dataframe()\n",
        "df.info()\n",
        "df.describe()"
      ],
      "outputs": [
        {
          "output_type": "stream",
          "name": "stdout",
          "text": [
            "<class 'pandas.core.frame.DataFrame'>\n",
            "RangeIndex: 299 entries, 0 to 298\n",
            "Data columns (total 13 columns):\n",
            "age                         299 non-null float64\n",
            "anaemia                     299 non-null int64\n",
            "creatinine_phosphokinase    299 non-null int64\n",
            "diabetes                    299 non-null int64\n",
            "ejection_fraction           299 non-null int64\n",
            "high_blood_pressure         299 non-null int64\n",
            "platelets                   299 non-null float64\n",
            "serum_creatinine            299 non-null float64\n",
            "serum_sodium                299 non-null int64\n",
            "sex                         299 non-null int64\n",
            "smoking                     299 non-null int64\n",
            "time                        299 non-null int64\n",
            "DEATH_EVENT                 299 non-null int64\n",
            "dtypes: float64(3), int64(10)\n",
            "memory usage: 30.5 KB\n"
          ]
        },
        {
          "output_type": "execute_result",
          "execution_count": 5,
          "data": {
            "text/plain": "              age     anaemia  creatinine_phosphokinase    diabetes  \\\ncount  299.000000  299.000000                299.000000  299.000000   \nmean    60.833893    0.431438                581.839465    0.418060   \nstd     11.894809    0.496107                970.287881    0.494067   \nmin     40.000000    0.000000                 23.000000    0.000000   \n25%     51.000000    0.000000                116.500000    0.000000   \n50%     60.000000    0.000000                250.000000    0.000000   \n75%     70.000000    1.000000                582.000000    1.000000   \nmax     95.000000    1.000000               7861.000000    1.000000   \n\n       ejection_fraction  high_blood_pressure      platelets  \\\ncount         299.000000           299.000000     299.000000   \nmean           38.083612             0.351171  263358.029264   \nstd            11.834841             0.478136   97804.236869   \nmin            14.000000             0.000000   25100.000000   \n25%            30.000000             0.000000  212500.000000   \n50%            38.000000             0.000000  262000.000000   \n75%            45.000000             1.000000  303500.000000   \nmax            80.000000             1.000000  850000.000000   \n\n       serum_creatinine  serum_sodium         sex    smoking        time  \\\ncount         299.00000    299.000000  299.000000  299.00000  299.000000   \nmean            1.39388    136.625418    0.648829    0.32107  130.260870   \nstd             1.03451      4.412477    0.478136    0.46767   77.614208   \nmin             0.50000    113.000000    0.000000    0.00000    4.000000   \n25%             0.90000    134.000000    0.000000    0.00000   73.000000   \n50%             1.10000    137.000000    1.000000    0.00000  115.000000   \n75%             1.40000    140.000000    1.000000    1.00000  203.000000   \nmax             9.40000    148.000000    1.000000    1.00000  285.000000   \n\n       DEATH_EVENT  \ncount    299.00000  \nmean       0.32107  \nstd        0.46767  \nmin        0.00000  \n25%        0.00000  \n50%        0.00000  \n75%        1.00000  \nmax        1.00000  ",
            "text/html": "<div>\n<style scoped>\n    .dataframe tbody tr th:only-of-type {\n        vertical-align: middle;\n    }\n\n    .dataframe tbody tr th {\n        vertical-align: top;\n    }\n\n    .dataframe thead th {\n        text-align: right;\n    }\n</style>\n<table border=\"1\" class=\"dataframe\">\n  <thead>\n    <tr style=\"text-align: right;\">\n      <th></th>\n      <th>age</th>\n      <th>anaemia</th>\n      <th>creatinine_phosphokinase</th>\n      <th>diabetes</th>\n      <th>ejection_fraction</th>\n      <th>high_blood_pressure</th>\n      <th>platelets</th>\n      <th>serum_creatinine</th>\n      <th>serum_sodium</th>\n      <th>sex</th>\n      <th>smoking</th>\n      <th>time</th>\n      <th>DEATH_EVENT</th>\n    </tr>\n  </thead>\n  <tbody>\n    <tr>\n      <th>count</th>\n      <td>299.000000</td>\n      <td>299.000000</td>\n      <td>299.000000</td>\n      <td>299.000000</td>\n      <td>299.000000</td>\n      <td>299.000000</td>\n      <td>299.000000</td>\n      <td>299.00000</td>\n      <td>299.000000</td>\n      <td>299.000000</td>\n      <td>299.00000</td>\n      <td>299.000000</td>\n      <td>299.00000</td>\n    </tr>\n    <tr>\n      <th>mean</th>\n      <td>60.833893</td>\n      <td>0.431438</td>\n      <td>581.839465</td>\n      <td>0.418060</td>\n      <td>38.083612</td>\n      <td>0.351171</td>\n      <td>263358.029264</td>\n      <td>1.39388</td>\n      <td>136.625418</td>\n      <td>0.648829</td>\n      <td>0.32107</td>\n      <td>130.260870</td>\n      <td>0.32107</td>\n    </tr>\n    <tr>\n      <th>std</th>\n      <td>11.894809</td>\n      <td>0.496107</td>\n      <td>970.287881</td>\n      <td>0.494067</td>\n      <td>11.834841</td>\n      <td>0.478136</td>\n      <td>97804.236869</td>\n      <td>1.03451</td>\n      <td>4.412477</td>\n      <td>0.478136</td>\n      <td>0.46767</td>\n      <td>77.614208</td>\n      <td>0.46767</td>\n    </tr>\n    <tr>\n      <th>min</th>\n      <td>40.000000</td>\n      <td>0.000000</td>\n      <td>23.000000</td>\n      <td>0.000000</td>\n      <td>14.000000</td>\n      <td>0.000000</td>\n      <td>25100.000000</td>\n      <td>0.50000</td>\n      <td>113.000000</td>\n      <td>0.000000</td>\n      <td>0.00000</td>\n      <td>4.000000</td>\n      <td>0.00000</td>\n    </tr>\n    <tr>\n      <th>25%</th>\n      <td>51.000000</td>\n      <td>0.000000</td>\n      <td>116.500000</td>\n      <td>0.000000</td>\n      <td>30.000000</td>\n      <td>0.000000</td>\n      <td>212500.000000</td>\n      <td>0.90000</td>\n      <td>134.000000</td>\n      <td>0.000000</td>\n      <td>0.00000</td>\n      <td>73.000000</td>\n      <td>0.00000</td>\n    </tr>\n    <tr>\n      <th>50%</th>\n      <td>60.000000</td>\n      <td>0.000000</td>\n      <td>250.000000</td>\n      <td>0.000000</td>\n      <td>38.000000</td>\n      <td>0.000000</td>\n      <td>262000.000000</td>\n      <td>1.10000</td>\n      <td>137.000000</td>\n      <td>1.000000</td>\n      <td>0.00000</td>\n      <td>115.000000</td>\n      <td>0.00000</td>\n    </tr>\n    <tr>\n      <th>75%</th>\n      <td>70.000000</td>\n      <td>1.000000</td>\n      <td>582.000000</td>\n      <td>1.000000</td>\n      <td>45.000000</td>\n      <td>1.000000</td>\n      <td>303500.000000</td>\n      <td>1.40000</td>\n      <td>140.000000</td>\n      <td>1.000000</td>\n      <td>1.00000</td>\n      <td>203.000000</td>\n      <td>1.00000</td>\n    </tr>\n    <tr>\n      <th>max</th>\n      <td>95.000000</td>\n      <td>1.000000</td>\n      <td>7861.000000</td>\n      <td>1.000000</td>\n      <td>80.000000</td>\n      <td>1.000000</td>\n      <td>850000.000000</td>\n      <td>9.40000</td>\n      <td>148.000000</td>\n      <td>1.000000</td>\n      <td>1.00000</td>\n      <td>285.000000</td>\n      <td>1.00000</td>\n    </tr>\n  </tbody>\n</table>\n</div>"
          },
          "metadata": {}
        }
      ],
      "execution_count": 5,
      "metadata": {
        "gather": {
          "logged": 1620762348372
        },
        "jupyter": {
          "outputs_hidden": false,
          "source_hidden": false
        },
        "nteract": {
          "transient": {
            "deleting": false
          }
        }
      }
    },
    {
      "cell_type": "markdown",
      "source": [
        "## AutoML Configuration\n",
        "\n",
        "Overview of the AutoML settings and configuration used for this experiment:\n",
        "\n",
        "| Property                     | Value               | Description                                                                                                                      |\n",
        "| ---------------------------- | ------------------- | -------------------------------------------------------------------------------------------------------------------------------- |\n",
        "| `experiment_timeout_minutes` | `60`                | Maximum amount of time in hours that all iterations combined can take before the experiment terminates                           |\n",
        "| `max_concurrent_iterations`  | `5`                 | Represents the maximum number of iterations that would be executed in parallel, should be less or equal to the number of cores   |\n",
        "| `n_cross_validation`         | `5`                 | How many cross validations to perform when user validation data is not specified                                                 |\n",
        "| `primary_metric`             | `accuracy`          | The metric that Automated Machine Learning will optimize for model selection                                                     |\n",
        "| `compute_target`             | `compute_cluster`   | The Azure Machine Learning compute target to run the Automated Machine Learning experiment on                                    |\n",
        "| `task`                       | `classification`    | The type of task to run                                                                                                          |\n",
        "| `training_data`              | `dataset`           | The training data to be used within the experiment, it contains both training features and a label column                        |\n",
        "| `label_column_name`          | `DEATH_EVENT`       | The name of the label column                                                                                                     |\n",
        "| `path`                       | `project_folder`    | The full path to the Azure Machine Learning project folder                                                                       |\n",
        "| `enable_early_stopping`      | `True`              | Whether to enable early termination if the score is not improving in the short term                                              |\n",
        "| `featurization`              | `auto`              | Indicator for whether featurization step should be done automatically or not, or whether customized featurization should be used |\n",
        "| `debug_log`                  | `automl_errors.log` | The log file to write debug information to                                                                                       |"
      ],
      "metadata": {}
    },
    {
      "cell_type": "code",
      "source": [
        "# AutoML settings\n",
        "automl_settings = {\n",
        "    \"experiment_timeout_minutes\": 60,\n",
        "    \"max_concurrent_iterations\": 5,\n",
        "    \"n_cross_validations\": 5,\n",
        "    \"primary_metric\" : 'accuracy'\n",
        "}\n",
        "\n",
        "# AutoML configuration\n",
        "automl_config = AutoMLConfig(\n",
        "    compute_target=compute_cluster_name,\n",
        "    task=\"classification\",\n",
        "    training_data=dataset,\n",
        "    label_column_name=\"DEATH_EVENT\",   \n",
        "    path=project_folder,\n",
        "    enable_early_stopping=True,\n",
        "    featurization='auto',\n",
        "    debug_log='automl_errors.log',\n",
        "    **automl_settings\n",
        "    )"
      ],
      "outputs": [],
      "execution_count": 6,
      "metadata": {
        "gather": {
          "logged": 1620762351216
        },
        "jupyter": {
          "outputs_hidden": false,
          "source_hidden": false
        },
        "nteract": {
          "transient": {
            "deleting": false
          }
        }
      }
    },
    {
      "cell_type": "code",
      "source": [
        "# Submit the experiment\n",
        "remote_run = experiment.submit(automl_config)"
      ],
      "outputs": [
        {
          "output_type": "stream",
          "name": "stdout",
          "text": [
            "Submitting remote run.\n"
          ]
        },
        {
          "output_type": "display_data",
          "data": {
            "text/plain": "<IPython.core.display.HTML object>",
            "text/html": "<table style=\"width:100%\"><tr><th>Experiment</th><th>Id</th><th>Type</th><th>Status</th><th>Details Page</th><th>Docs Page</th></tr><tr><td>heart-failure-aml-exp</td><td>AutoML_aee3095f-aebf-486a-863a-869674d7d68d</td><td>automl</td><td>NotStarted</td><td><a href=\"https://ml.azure.com/runs/AutoML_aee3095f-aebf-486a-863a-869674d7d68d?wsid=/subscriptions/b329467a-d1f8-4c9b-b3dc-95cdc7bff7fa/resourcegroups/udacity-ml-capstone-rg/workspaces/udacity-ml-capstone-ws&amp;tid=d2e5496e-227d-4db9-89b8-356c2cf9a452\" target=\"_blank\" rel=\"noopener\">Link to Azure Machine Learning studio</a></td><td><a href=\"https://docs.microsoft.com/en-us/python/api/overview/azure/ml/intro?view=azure-ml-py\" target=\"_blank\" rel=\"noopener\">Link to Documentation</a></td></tr></table>"
          },
          "metadata": {}
        }
      ],
      "execution_count": 7,
      "metadata": {
        "gather": {
          "logged": 1620762356372
        },
        "jupyter": {
          "outputs_hidden": false,
          "source_hidden": false
        },
        "nteract": {
          "transient": {
            "deleting": false
          }
        }
      }
    },
    {
      "cell_type": "markdown",
      "source": [
        "## Run Details\n",
        "\n",
        "The `VotingEnsemble` model provides the best performance.\n",
        "\n",
        "A voting ensemble (or a “majority voting ensemble“) is an ensemble machine learning model that combines the predictions from multiple other models. The predictions for each label are summed and the label with the majority vote is predicted, i.e. predictions are the majority vote of contributing models. See [How to Develop Voting Ensembles With Python\n",
        "](https://machinelearningmastery.com/voting-ensembles-with-python/) for more information.\n",
        "\n",
        "Use the `RunDetails` widget to show the different experiments."
      ],
      "metadata": {}
    },
    {
      "cell_type": "code",
      "source": [
        "RunDetails(remote_run).show()\n",
        "remote_run.wait_for_completion(show_output=True)\n",
        "remote_run"
      ],
      "outputs": [
        {
          "output_type": "display_data",
          "data": {
            "text/plain": "_AutoMLWidget(widget_settings={'childWidgetDisplay': 'popup', 'send_telemetry': False, 'log_level': 'INFO', 's…",
            "application/vnd.jupyter.widget-view+json": {
              "version_major": 2,
              "version_minor": 0,
              "model_id": "b1cc499387e74884b06840615cf8fcf7"
            }
          },
          "metadata": {}
        },
        {
          "output_type": "display_data",
          "data": {
            "application/aml.mini.widget.v1": "{\"status\": \"Completed\", \"workbench_run_details_uri\": \"https://ml.azure.com/runs/AutoML_aee3095f-aebf-486a-863a-869674d7d68d?wsid=/subscriptions/b329467a-d1f8-4c9b-b3dc-95cdc7bff7fa/resourcegroups/udacity-ml-capstone-rg/workspaces/udacity-ml-capstone-ws&tid=d2e5496e-227d-4db9-89b8-356c2cf9a452\", \"run_id\": \"AutoML_aee3095f-aebf-486a-863a-869674d7d68d\", \"run_properties\": {\"run_id\": \"AutoML_aee3095f-aebf-486a-863a-869674d7d68d\", \"created_utc\": \"2021-05-11T19:45:55.168387Z\", \"properties\": {\"num_iterations\": \"1000\", \"training_type\": \"TrainFull\", \"acquisition_function\": \"EI\", \"primary_metric\": \"accuracy\", \"train_split\": \"0\", \"acquisition_parameter\": \"0\", \"num_cross_validation\": \"5\", \"target\": \"compute-cluster\", \"AMLSettingsJsonString\": \"{\\\"path\\\":null,\\\"name\\\":\\\"heart-failure-aml-exp\\\",\\\"subscription_id\\\":\\\"b329467a-d1f8-4c9b-b3dc-95cdc7bff7fa\\\",\\\"resource_group\\\":\\\"udacity-ml-capstone-rg\\\",\\\"workspace_name\\\":\\\"udacity-ml-capstone-ws\\\",\\\"region\\\":\\\"eastus\\\",\\\"compute_target\\\":\\\"compute-cluster\\\",\\\"spark_service\\\":null,\\\"azure_service\\\":\\\"remote\\\",\\\"many_models\\\":false,\\\"pipeline_fetch_max_batch_size\\\":1,\\\"enable_batch_run\\\":false,\\\"enable_run_restructure\\\":false,\\\"start_auxiliary_runs_before_parent_complete\\\":false,\\\"iterations\\\":1000,\\\"primary_metric\\\":\\\"accuracy\\\",\\\"task_type\\\":\\\"classification\\\",\\\"data_script\\\":null,\\\"test_size\\\":0.0,\\\"validation_size\\\":0.0,\\\"n_cross_validations\\\":5,\\\"y_min\\\":null,\\\"y_max\\\":null,\\\"num_classes\\\":null,\\\"featurization\\\":\\\"auto\\\",\\\"_ignore_package_version_incompatibilities\\\":false,\\\"is_timeseries\\\":false,\\\"max_cores_per_iteration\\\":1,\\\"max_concurrent_iterations\\\":5,\\\"iteration_timeout_minutes\\\":null,\\\"mem_in_mb\\\":null,\\\"enforce_time_on_windows\\\":false,\\\"experiment_timeout_minutes\\\":60,\\\"experiment_exit_score\\\":null,\\\"whitelist_models\\\":null,\\\"blacklist_algos\\\":[\\\"TensorFlowLinearClassifier\\\",\\\"TensorFlowDNN\\\"],\\\"supported_models\\\":[\\\"DecisionTree\\\",\\\"MultinomialNaiveBayes\\\",\\\"XGBoostClassifier\\\",\\\"ExtremeRandomTrees\\\",\\\"TensorFlowLinearClassifier\\\",\\\"SGD\\\",\\\"LightGBM\\\",\\\"LinearSVM\\\",\\\"BernoulliNaiveBayes\\\",\\\"LogisticRegression\\\",\\\"SVM\\\",\\\"GradientBoosting\\\",\\\"AveragedPerceptronClassifier\\\",\\\"KNN\\\",\\\"RandomForest\\\",\\\"TensorFlowDNN\\\"],\\\"private_models\\\":[],\\\"auto_blacklist\\\":true,\\\"blacklist_samples_reached\\\":false,\\\"exclude_nan_labels\\\":true,\\\"verbosity\\\":20,\\\"_debug_log\\\":\\\"azureml_automl.log\\\",\\\"show_warnings\\\":false,\\\"model_explainability\\\":true,\\\"service_url\\\":null,\\\"sdk_url\\\":null,\\\"sdk_packages\\\":null,\\\"enable_onnx_compatible_models\\\":false,\\\"enable_split_onnx_featurizer_estimator_models\\\":false,\\\"vm_type\\\":\\\"STANDARD_DS2_V2\\\",\\\"telemetry_verbosity\\\":20,\\\"send_telemetry\\\":true,\\\"enable_dnn\\\":false,\\\"scenario\\\":\\\"SDK-1.13.0\\\",\\\"environment_label\\\":null,\\\"save_mlflow\\\":false,\\\"force_text_dnn\\\":false,\\\"enable_feature_sweeping\\\":true,\\\"enable_early_stopping\\\":true,\\\"early_stopping_n_iters\\\":10,\\\"metrics\\\":null,\\\"enable_metric_confidence\\\":false,\\\"enable_ensembling\\\":true,\\\"enable_stack_ensembling\\\":true,\\\"ensemble_iterations\\\":15,\\\"enable_tf\\\":false,\\\"enable_subsampling\\\":null,\\\"subsample_seed\\\":null,\\\"enable_nimbusml\\\":false,\\\"enable_streaming\\\":false,\\\"force_streaming\\\":false,\\\"track_child_runs\\\":true,\\\"allowed_private_models\\\":[],\\\"label_column_name\\\":\\\"DEATH_EVENT\\\",\\\"weight_column_name\\\":null,\\\"cv_split_column_names\\\":null,\\\"enable_local_managed\\\":false,\\\"_local_managed_run_id\\\":null,\\\"cost_mode\\\":1,\\\"lag_length\\\":0,\\\"metric_operation\\\":\\\"maximize\\\",\\\"preprocess\\\":true}\", \"DataPrepJsonString\": \"{\\\\\\\"training_data\\\\\\\": {\\\\\\\"datasetId\\\\\\\": \\\\\\\"12731744-2c9e-4ddf-abb3-df4dd25713d2\\\\\\\"}, \\\\\\\"datasets\\\\\\\": 0}\", \"EnableSubsampling\": null, \"runTemplate\": \"AutoML\", \"azureml.runsource\": \"automl\", \"display_task_type\": \"classification\", \"dependencies_versions\": \"{\\\"azureml-widgets\\\": \\\"1.27.0\\\", \\\"azureml-train\\\": \\\"1.27.0\\\", \\\"azureml-train-restclients-hyperdrive\\\": \\\"1.27.0\\\", \\\"azureml-train-core\\\": \\\"1.27.0\\\", \\\"azureml-train-automl\\\": \\\"1.27.0\\\", \\\"azureml-train-automl-runtime\\\": \\\"1.27.0\\\", \\\"azureml-train-automl-client\\\": \\\"1.27.0\\\", \\\"azureml-tensorboard\\\": \\\"1.27.0\\\", \\\"azureml-telemetry\\\": \\\"1.27.0\\\", \\\"azureml-sdk\\\": \\\"1.27.0\\\", \\\"azureml-samples\\\": \\\"0+unknown\\\", \\\"azureml-pipeline\\\": \\\"1.27.0\\\", \\\"azureml-pipeline-steps\\\": \\\"1.27.0\\\", \\\"azureml-pipeline-core\\\": \\\"1.27.0\\\", \\\"azureml-opendatasets\\\": \\\"1.27.0\\\", \\\"azureml-model-management-sdk\\\": \\\"1.0.1b6.post1\\\", \\\"azureml-mlflow\\\": \\\"1.27.0\\\", \\\"azureml-interpret\\\": \\\"1.27.0\\\", \\\"azureml-explain-model\\\": \\\"1.27.0\\\", \\\"azureml-defaults\\\": \\\"1.27.0\\\", \\\"azureml-dataset-runtime\\\": \\\"1.27.0\\\", \\\"azureml-dataprep\\\": \\\"2.14.2\\\", \\\"azureml-dataprep-rslex\\\": \\\"1.12.1\\\", \\\"azureml-dataprep-native\\\": \\\"33.0.0\\\", \\\"azureml-datadrift\\\": \\\"1.27.0\\\", \\\"azureml-core\\\": \\\"1.27.0\\\", \\\"azureml-contrib-services\\\": \\\"1.27.0\\\", \\\"azureml-contrib-server\\\": \\\"1.27.0\\\", \\\"azureml-contrib-reinforcementlearning\\\": \\\"1.27.0\\\", \\\"azureml-contrib-pipeline-steps\\\": \\\"1.27.0\\\", \\\"azureml-contrib-notebook\\\": \\\"1.27.0\\\", \\\"azureml-contrib-gbdt\\\": \\\"1.27.0\\\", \\\"azureml-contrib-fairness\\\": \\\"1.27.0\\\", \\\"azureml-contrib-dataset\\\": \\\"1.27.0\\\", \\\"azureml-cli-common\\\": \\\"1.27.0\\\", \\\"azureml-automl-runtime\\\": \\\"1.27.0\\\", \\\"azureml-automl-dnn-nlp\\\": \\\"1.27.0\\\", \\\"azureml-automl-core\\\": \\\"1.27.0\\\", \\\"azureml-accel-models\\\": \\\"1.27.0\\\"}\", \"_aml_system_scenario_identification\": \"Remote.Parent\", \"ClientType\": \"SDK\", \"environment_cpu_name\": \"AzureML-AutoML\", \"environment_cpu_label\": \"prod\", \"environment_gpu_name\": \"AzureML-AutoML-GPU\", \"environment_gpu_label\": \"prod\", \"root_attribution\": \"automl\", \"attribution\": \"AutoML\", \"Orchestrator\": \"AutoML\", \"CancelUri\": \"https://eastus.api.azureml.ms/jasmine/v1.0/subscriptions/b329467a-d1f8-4c9b-b3dc-95cdc7bff7fa/resourceGroups/udacity-ml-capstone-rg/providers/Microsoft.MachineLearningServices/workspaces/udacity-ml-capstone-ws/experimentids/b71a4b28-0230-4012-ad48-72eeee8ac7ea/cancel/AutoML_aee3095f-aebf-486a-863a-869674d7d68d\", \"ClientSdkVersion\": \"1.27.0.post1\", \"snapshotId\": \"00000000-0000-0000-0000-000000000000\", \"SetupRunId\": \"AutoML_aee3095f-aebf-486a-863a-869674d7d68d_setup\", \"SetupRunContainerId\": \"dcid.AutoML_aee3095f-aebf-486a-863a-869674d7d68d_setup\", \"FeaturizationRunJsonPath\": \"featurizer_container.json\", \"FeaturizationRunId\": \"AutoML_aee3095f-aebf-486a-863a-869674d7d68d_featurize\", \"ProblemInfoJsonString\": \"{\\\"dataset_num_categorical\\\": 0, \\\"is_sparse\\\": false, \\\"subsampling\\\": false, \\\"dataset_classes\\\": 2, \\\"dataset_features\\\": 12, \\\"dataset_samples\\\": 299, \\\"single_frequency_class_detected\\\": false}\", \"ModelExplainRunId\": \"AutoML_aee3095f-aebf-486a-863a-869674d7d68d_ModelExplain\"}, \"tags\": {\"model_explain_run\": \"best_run\", \"_aml_system_azureml.automlComponent\": \"AutoML\", \"pipeline_id\": \"\", \"score\": \"\", \"predicted_cost\": \"\", \"fit_time\": \"\", \"training_percent\": \"\", \"iteration\": \"\", \"run_preprocessor\": \"\", \"run_algorithm\": \"\", \"dynamic_whitelisting_iterations\": \"<25>;<30>;<35>;<40>;<45>;\", \"automl_best_child_run_id\": \"AutoML_aee3095f-aebf-486a-863a-869674d7d68d_50\", \"model_explain_best_run_child_id\": \"AutoML_aee3095f-aebf-486a-863a-869674d7d68d_50\"}, \"end_time_utc\": \"2021-05-11T20:16:39.19466Z\", \"status\": \"Completed\", \"log_files\": {}, \"log_groups\": [], \"run_duration\": \"0:30:44\", \"run_number\": \"169\", \"run_queued_details\": {\"status\": \"Completed\", \"details\": null}}, \"child_runs\": [{\"run_id\": \"AutoML_aee3095f-aebf-486a-863a-869674d7d68d_0\", \"run_number\": 175, \"metric\": null, \"status\": \"Completed\", \"run_type\": \"azureml.scriptrun\", \"training_percent\": \"100\", \"start_time\": \"2021-05-11T19:50:49.498968Z\", \"end_time\": \"2021-05-11T19:51:36.602745Z\", \"created_time\": \"2021-05-11T19:50:36.946267Z\", \"created_time_dt\": \"2021-05-11T19:50:36.946267Z\", \"duration\": \"0:00:59\", \"iteration\": \"0\", \"goal\": \"accuracy_max\", \"run_name\": \"MaxAbsScaler, LightGBM\", \"run_properties\": \"copy=True\", \"primary_metric\": 0.8059887, \"best_metric\": 0.8059887}, {\"run_id\": \"AutoML_aee3095f-aebf-486a-863a-869674d7d68d_4\", \"run_number\": 176, \"metric\": null, \"status\": \"Completed\", \"run_type\": \"azureml.scriptrun\", \"training_percent\": \"100\", \"start_time\": \"2021-05-11T19:52:58.644616Z\", \"end_time\": \"2021-05-11T19:54:50.22221Z\", \"created_time\": \"2021-05-11T19:50:36.958446Z\", \"created_time_dt\": \"2021-05-11T19:50:36.958446Z\", \"duration\": \"0:04:13\", \"iteration\": \"4\", \"goal\": \"accuracy_max\", \"run_name\": \"MinMaxScaler, RandomForest\", \"run_properties\": \"copy=True, feature_range=(0, 1\", \"primary_metric\": 0.82926554, \"best_metric\": 0.82926554}, {\"run_id\": \"AutoML_aee3095f-aebf-486a-863a-869674d7d68d_1\", \"run_number\": 177, \"metric\": null, \"status\": \"Completed\", \"run_type\": \"azureml.scriptrun\", \"training_percent\": \"100\", \"start_time\": \"2021-05-11T19:51:50.921195Z\", \"end_time\": \"2021-05-11T19:52:42.546278Z\", \"created_time\": \"2021-05-11T19:50:36.973075Z\", \"created_time_dt\": \"2021-05-11T19:50:36.973075Z\", \"duration\": \"0:02:05\", \"iteration\": \"1\", \"goal\": \"accuracy_max\", \"run_name\": \"MaxAbsScaler, XGBoostClassifier\", \"run_properties\": \"copy=True\", \"primary_metric\": 0.8259322, \"best_metric\": 0.8259322}, {\"run_id\": \"AutoML_aee3095f-aebf-486a-863a-869674d7d68d_3\", \"run_number\": 178, \"metric\": null, \"status\": \"Completed\", \"run_type\": \"azureml.scriptrun\", \"training_percent\": \"100\", \"start_time\": \"2021-05-11T19:51:13.786592Z\", \"end_time\": \"2021-05-11T19:52:07.042541Z\", \"created_time\": \"2021-05-11T19:50:36.982029Z\", \"created_time_dt\": \"2021-05-11T19:50:36.982029Z\", \"duration\": \"0:01:30\", \"iteration\": \"3\", \"goal\": \"accuracy_max\", \"run_name\": \"MinMaxScaler, RandomForest\", \"run_properties\": \"copy=True, feature_range=(0, 1\", \"primary_metric\": 0.82276836, \"best_metric\": 0.8259322}, {\"run_id\": \"AutoML_aee3095f-aebf-486a-863a-869674d7d68d_2\", \"run_number\": 179, \"metric\": null, \"status\": \"Completed\", \"run_type\": \"azureml.scriptrun\", \"training_percent\": \"100\", \"start_time\": \"2021-05-11T19:52:20.19561Z\", \"end_time\": \"2021-05-11T19:53:04.479661Z\", \"created_time\": \"2021-05-11T19:50:36.983353Z\", \"created_time_dt\": \"2021-05-11T19:50:36.983353Z\", \"duration\": \"0:02:27\", \"iteration\": \"2\", \"goal\": \"accuracy_max\", \"run_name\": \"MinMaxScaler, RandomForest\", \"run_properties\": \"copy=True, feature_range=(0, 1\", \"primary_metric\": 0.8259322, \"best_metric\": 0.8259322}, {\"run_id\": \"AutoML_aee3095f-aebf-486a-863a-869674d7d68d_5\", \"run_number\": 185, \"metric\": null, \"status\": \"Completed\", \"run_type\": \"azureml.scriptrun\", \"training_percent\": \"100\", \"start_time\": \"2021-05-11T19:55:03.311977Z\", \"end_time\": \"2021-05-11T19:55:55.323407Z\", \"created_time\": \"2021-05-11T19:51:37.986589Z\", \"created_time_dt\": \"2021-05-11T19:51:37.986589Z\", \"duration\": \"0:04:17\", \"iteration\": \"5\", \"goal\": \"accuracy_max\", \"run_name\": \"RobustScaler, LogisticRegression\", \"run_properties\": \"copy=True, quantile_range=[10, 90], with_centering=False,\\n             with_scaling=True\", \"primary_metric\": 0.78587571, \"best_metric\": 0.82926554}, {\"run_id\": \"AutoML_aee3095f-aebf-486a-863a-869674d7d68d_6\", \"run_number\": 186, \"metric\": null, \"status\": \"Completed\", \"run_type\": \"azureml.scriptrun\", \"training_percent\": \"100\", \"start_time\": \"2021-05-11T19:55:06.561869Z\", \"end_time\": \"2021-05-11T19:55:55.104692Z\", \"created_time\": \"2021-05-11T19:52:11.650646Z\", \"created_time_dt\": \"2021-05-11T19:52:11.650646Z\", \"duration\": \"0:03:43\", \"iteration\": \"6\", \"goal\": \"accuracy_max\", \"run_name\": \"SparseNormalizer, XGBoostClassifier\", \"run_properties\": \"<azureml.automl.runtime.shared.model_wrappers.SparseNormalizer object at 0x7f7e6afe0080\", \"primary_metric\": 0.82621469, \"best_metric\": 0.82926554}, {\"run_id\": \"AutoML_aee3095f-aebf-486a-863a-869674d7d68d_7\", \"run_number\": 187, \"metric\": null, \"status\": \"Completed\", \"run_type\": \"azureml.scriptrun\", \"training_percent\": \"100\", \"start_time\": \"2021-05-11T19:55:12.578858Z\", \"end_time\": \"2021-05-11T19:56:03.379596Z\", \"created_time\": \"2021-05-11T19:52:45.415913Z\", \"created_time_dt\": \"2021-05-11T19:52:45.415913Z\", \"duration\": \"0:03:17\", \"iteration\": \"7\", \"goal\": \"accuracy_max\", \"run_name\": \"StandardScalerWrapper, SVM\", \"run_properties\": \"<azureml.automl.runtime.shared.model_wrappers.StandardScalerWrapper object at 0x7f777bf04470\", \"primary_metric\": 0.80265537, \"best_metric\": 0.82926554}, {\"run_id\": \"AutoML_aee3095f-aebf-486a-863a-869674d7d68d_8\", \"run_number\": 188, \"metric\": null, \"status\": \"Completed\", \"run_type\": \"azureml.scriptrun\", \"training_percent\": \"100\", \"start_time\": \"2021-05-11T19:55:27.817208Z\", \"end_time\": \"2021-05-11T19:56:19.222771Z\", \"created_time\": \"2021-05-11T19:53:06.689991Z\", \"created_time_dt\": \"2021-05-11T19:53:06.689991Z\", \"duration\": \"0:03:12\", \"iteration\": \"8\", \"goal\": \"accuracy_max\", \"run_name\": \"MinMaxScaler, SVM\", \"run_properties\": \"copy=True, feature_range=(0, 1\", \"primary_metric\": 0.70909605, \"best_metric\": 0.82926554}, {\"run_id\": \"AutoML_aee3095f-aebf-486a-863a-869674d7d68d_9\", \"run_number\": 192, \"metric\": null, \"status\": \"Completed\", \"run_type\": \"azureml.scriptrun\", \"training_percent\": \"100\", \"start_time\": \"2021-05-11T19:56:35.162965Z\", \"end_time\": \"2021-05-11T19:57:29.756107Z\", \"created_time\": \"2021-05-11T19:54:52.088539Z\", \"created_time_dt\": \"2021-05-11T19:54:52.088539Z\", \"duration\": \"0:02:37\", \"iteration\": \"9\", \"goal\": \"accuracy_max\", \"run_name\": \"SparseNormalizer, XGBoostClassifier\", \"run_properties\": \"<azureml.automl.runtime.shared.model_wrappers.SparseNormalizer object at 0x7f8d5fd531d0\", \"primary_metric\": 0.84627119, \"best_metric\": 0.84627119}, {\"run_id\": \"AutoML_aee3095f-aebf-486a-863a-869674d7d68d_10\", \"run_number\": 195, \"metric\": null, \"status\": \"Completed\", \"run_type\": \"azureml.scriptrun\", \"training_percent\": \"100\", \"start_time\": \"2021-05-11T19:57:17.486723Z\", \"end_time\": \"2021-05-11T19:58:06.708899Z\", \"created_time\": \"2021-05-11T19:55:57.539195Z\", \"created_time_dt\": \"2021-05-11T19:55:57.539195Z\", \"duration\": \"0:02:09\", \"iteration\": \"10\", \"goal\": \"accuracy_max\", \"run_name\": \"SparseNormalizer, XGBoostClassifier\", \"run_properties\": \"<azureml.automl.runtime.shared.model_wrappers.SparseNormalizer object at 0x7f938ae04278\", \"primary_metric\": 0.82615819, \"best_metric\": 0.84627119}, {\"run_id\": \"AutoML_aee3095f-aebf-486a-863a-869674d7d68d_11\", \"run_number\": 196, \"metric\": null, \"status\": \"Completed\", \"run_type\": \"azureml.scriptrun\", \"training_percent\": \"100\", \"start_time\": \"2021-05-11T19:57:43.781409Z\", \"end_time\": \"2021-05-11T19:58:29.700605Z\", \"created_time\": \"2021-05-11T19:55:57.555838Z\", \"created_time_dt\": \"2021-05-11T19:55:57.555838Z\", \"duration\": \"0:02:32\", \"iteration\": \"11\", \"goal\": \"accuracy_max\", \"run_name\": \"MinMaxScaler, SVM\", \"run_properties\": \"copy=True, feature_range=(0, 1\", \"primary_metric\": 0.70242938, \"best_metric\": 0.84627119}, {\"run_id\": \"AutoML_aee3095f-aebf-486a-863a-869674d7d68d_12\", \"run_number\": 197, \"metric\": null, \"status\": \"Completed\", \"run_type\": \"azureml.scriptrun\", \"training_percent\": \"100\", \"start_time\": \"2021-05-11T19:58:17.075737Z\", \"end_time\": \"2021-05-11T19:59:04.234611Z\", \"created_time\": \"2021-05-11T19:56:05.278663Z\", \"created_time_dt\": \"2021-05-11T19:56:05.278663Z\", \"duration\": \"0:02:58\", \"iteration\": \"12\", \"goal\": \"accuracy_max\", \"run_name\": \"SparseNormalizer, LightGBM\", \"run_properties\": \"<azureml.automl.runtime.shared.model_wrappers.SparseNormalizer object at 0x7f2b704900b8\", \"primary_metric\": 0.83299435, \"best_metric\": 0.84627119}, {\"run_id\": \"AutoML_aee3095f-aebf-486a-863a-869674d7d68d_13\", \"run_number\": 198, \"metric\": null, \"status\": \"Completed\", \"run_type\": \"azureml.scriptrun\", \"training_percent\": \"100\", \"start_time\": \"2021-05-11T19:58:17.872525Z\", \"end_time\": \"2021-05-11T19:59:03.497057Z\", \"created_time\": \"2021-05-11T19:56:20.981647Z\", \"created_time_dt\": \"2021-05-11T19:56:20.981647Z\", \"duration\": \"0:02:42\", \"iteration\": \"13\", \"goal\": \"accuracy_max\", \"run_name\": \"MaxAbsScaler, GradientBoosting\", \"run_properties\": \"copy=True\", \"primary_metric\": 0.83265537, \"best_metric\": 0.84627119}, {\"run_id\": \"AutoML_aee3095f-aebf-486a-863a-869674d7d68d_14\", \"run_number\": 202, \"metric\": null, \"status\": \"Completed\", \"run_type\": \"azureml.scriptrun\", \"training_percent\": \"100\", \"start_time\": \"2021-05-11T19:59:18.573891Z\", \"end_time\": \"2021-05-11T20:00:14.251717Z\", \"created_time\": \"2021-05-11T19:57:31.726087Z\", \"created_time_dt\": \"2021-05-11T19:57:31.726087Z\", \"duration\": \"0:02:42\", \"iteration\": \"14\", \"goal\": \"accuracy_max\", \"run_name\": \"MaxAbsScaler, ExtremeRandomTrees\", \"run_properties\": \"copy=True\", \"primary_metric\": 0.84282486, \"best_metric\": 0.84627119}, {\"run_id\": \"AutoML_aee3095f-aebf-486a-863a-869674d7d68d_15\", \"run_number\": 205, \"metric\": null, \"status\": \"Completed\", \"run_type\": \"azureml.scriptrun\", \"training_percent\": \"100\", \"start_time\": \"2021-05-11T20:00:25.261485Z\", \"end_time\": \"2021-05-11T20:01:10.252421Z\", \"created_time\": \"2021-05-11T19:58:08.98345Z\", \"created_time_dt\": \"2021-05-11T19:58:08.98345Z\", \"duration\": \"0:03:01\", \"iteration\": \"15\", \"goal\": \"accuracy_max\", \"run_name\": \"StandardScalerWrapper, LightGBM\", \"run_properties\": \"<azureml.automl.runtime.shared.model_wrappers.StandardScalerWrapper object at 0x7f400851f828\", \"primary_metric\": 0.80926554, \"best_metric\": 0.84627119}, {\"run_id\": \"AutoML_aee3095f-aebf-486a-863a-869674d7d68d_16\", \"run_number\": 206, \"metric\": null, \"status\": \"Completed\", \"run_type\": \"azureml.scriptrun\", \"training_percent\": \"100\", \"start_time\": \"2021-05-11T20:00:27.156004Z\", \"end_time\": \"2021-05-11T20:01:15.530647Z\", \"created_time\": \"2021-05-11T19:58:31.878639Z\", \"created_time_dt\": \"2021-05-11T19:58:31.878639Z\", \"duration\": \"0:02:43\", \"iteration\": \"16\", \"goal\": \"accuracy_max\", \"run_name\": \"StandardScalerWrapper, LightGBM\", \"run_properties\": \"<azureml.automl.runtime.shared.model_wrappers.StandardScalerWrapper object at 0x7fc96dbe8dd8\", \"primary_metric\": 0.72587571, \"best_metric\": 0.84627119}, {\"run_id\": \"AutoML_aee3095f-aebf-486a-863a-869674d7d68d_17\", \"run_number\": 207, \"metric\": null, \"status\": \"Completed\", \"run_type\": \"azureml.scriptrun\", \"training_percent\": \"100\", \"start_time\": \"2021-05-11T20:00:34.122049Z\", \"end_time\": \"2021-05-11T20:01:23.255071Z\", \"created_time\": \"2021-05-11T19:59:05.640922Z\", \"created_time_dt\": \"2021-05-11T19:59:05.640922Z\", \"duration\": \"0:02:17\", \"iteration\": \"17\", \"goal\": \"accuracy_max\", \"run_name\": \"SparseNormalizer, XGBoostClassifier\", \"run_properties\": \"<azureml.automl.runtime.shared.model_wrappers.SparseNormalizer object at 0x7ff5965b6fd0\", \"primary_metric\": 0.84960452, \"best_metric\": 0.84960452}, {\"run_id\": \"AutoML_aee3095f-aebf-486a-863a-869674d7d68d_18\", \"run_number\": 208, \"metric\": null, \"status\": \"Completed\", \"run_type\": \"azureml.scriptrun\", \"training_percent\": \"100\", \"start_time\": \"2021-05-11T20:01:05.132096Z\", \"end_time\": \"2021-05-11T20:01:50.987419Z\", \"created_time\": \"2021-05-11T19:59:08.826457Z\", \"created_time_dt\": \"2021-05-11T19:59:08.826457Z\", \"duration\": \"0:02:42\", \"iteration\": \"18\", \"goal\": \"accuracy_max\", \"run_name\": \"MinMaxScaler, LightGBM\", \"run_properties\": \"copy=True, feature_range=(0, 1\", \"primary_metric\": 0.81615819, \"best_metric\": 0.84960452}, {\"run_id\": \"AutoML_aee3095f-aebf-486a-863a-869674d7d68d_19\", \"run_number\": 212, \"metric\": null, \"status\": \"Completed\", \"run_type\": \"azureml.scriptrun\", \"training_percent\": \"100\", \"start_time\": \"2021-05-11T20:02:05.04524Z\", \"end_time\": \"2021-05-11T20:02:56.214266Z\", \"created_time\": \"2021-05-11T20:00:16.183024Z\", \"created_time_dt\": \"2021-05-11T20:00:16.183024Z\", \"duration\": \"0:02:40\", \"iteration\": \"19\", \"goal\": \"accuracy_max\", \"run_name\": \"MaxAbsScaler, LightGBM\", \"run_properties\": \"copy=True\", \"primary_metric\": 0.80271186, \"best_metric\": 0.84960452}, {\"run_id\": \"AutoML_aee3095f-aebf-486a-863a-869674d7d68d_20\", \"run_number\": 215, \"metric\": null, \"status\": \"Completed\", \"run_type\": \"azureml.scriptrun\", \"training_percent\": \"100\", \"start_time\": \"2021-05-11T20:02:41.595011Z\", \"end_time\": \"2021-05-11T20:03:28.110851Z\", \"created_time\": \"2021-05-11T20:01:12.954158Z\", \"created_time_dt\": \"2021-05-11T20:01:12.954158Z\", \"duration\": \"0:02:15\", \"iteration\": \"20\", \"goal\": \"accuracy_max\", \"run_name\": \"SparseNormalizer, XGBoostClassifier\", \"run_properties\": \"<azureml.automl.runtime.shared.model_wrappers.SparseNormalizer object at 0x7fe4aacd2518\", \"primary_metric\": 0.83966102, \"best_metric\": 0.84960452}, {\"run_id\": \"AutoML_aee3095f-aebf-486a-863a-869674d7d68d_21\", \"run_number\": 216, \"metric\": null, \"status\": \"Completed\", \"run_type\": \"azureml.scriptrun\", \"training_percent\": \"100\", \"start_time\": \"2021-05-11T20:03:14.609887Z\", \"end_time\": \"2021-05-11T20:03:58.544641Z\", \"created_time\": \"2021-05-11T20:01:17.436699Z\", \"created_time_dt\": \"2021-05-11T20:01:17.436699Z\", \"duration\": \"0:02:41\", \"iteration\": \"21\", \"goal\": \"accuracy_max\", \"run_name\": \"MaxAbsScaler, LightGBM\", \"run_properties\": \"copy=True\", \"primary_metric\": 0.84932203, \"best_metric\": 0.84960452}, {\"run_id\": \"AutoML_aee3095f-aebf-486a-863a-869674d7d68d_22\", \"run_number\": 217, \"metric\": null, \"status\": \"Completed\", \"run_type\": \"azureml.scriptrun\", \"training_percent\": \"100\", \"start_time\": \"2021-05-11T20:03:35.827019Z\", \"end_time\": \"2021-05-11T20:04:24.464195Z\", \"created_time\": \"2021-05-11T20:01:25.03418Z\", \"created_time_dt\": \"2021-05-11T20:01:25.03418Z\", \"duration\": \"0:02:59\", \"iteration\": \"22\", \"goal\": \"accuracy_max\", \"run_name\": \"MinMaxScaler, LightGBM\", \"run_properties\": \"copy=True, feature_range=(0, 1\", \"primary_metric\": 0.83610169, \"best_metric\": 0.84960452}, {\"run_id\": \"AutoML_aee3095f-aebf-486a-863a-869674d7d68d_23\", \"run_number\": 218, \"metric\": null, \"status\": \"Completed\", \"run_type\": \"azureml.scriptrun\", \"training_percent\": \"100\", \"start_time\": \"2021-05-11T20:03:43.966897Z\", \"end_time\": \"2021-05-11T20:04:31.49393Z\", \"created_time\": \"2021-05-11T20:01:52.713245Z\", \"created_time_dt\": \"2021-05-11T20:01:52.713245Z\", \"duration\": \"0:02:38\", \"iteration\": \"23\", \"goal\": \"accuracy_max\", \"run_name\": \"StandardScalerWrapper, GradientBoosting\", \"run_properties\": \"<azureml.automl.runtime.shared.model_wrappers.StandardScalerWrapper object at 0x7f36b3bfd320\", \"primary_metric\": 0.84276836, \"best_metric\": 0.84960452}, {\"run_id\": \"AutoML_aee3095f-aebf-486a-863a-869674d7d68d_24\", \"run_number\": 222, \"metric\": null, \"status\": \"Completed\", \"run_type\": \"azureml.scriptrun\", \"training_percent\": \"100\", \"start_time\": \"2021-05-11T20:04:45.149868Z\", \"end_time\": \"2021-05-11T20:05:34.379121Z\", \"created_time\": \"2021-05-11T20:02:58.150501Z\", \"created_time_dt\": \"2021-05-11T20:02:58.150501Z\", \"duration\": \"0:02:36\", \"iteration\": \"24\", \"goal\": \"accuracy_max\", \"run_name\": \"StandardScalerWrapper, RandomForest\", \"run_properties\": \"<azureml.automl.runtime.shared.model_wrappers.StandardScalerWrapper object at 0x7fe581e48e10\", \"primary_metric\": 0.79271186, \"best_metric\": 0.84960452}, {\"run_id\": \"AutoML_aee3095f-aebf-486a-863a-869674d7d68d_25\", \"run_number\": 224, \"metric\": null, \"status\": \"Completed\", \"run_type\": \"azureml.scriptrun\", \"training_percent\": \"100\", \"start_time\": \"2021-05-11T20:05:18.736112Z\", \"end_time\": \"2021-05-11T20:06:10.423969Z\", \"created_time\": \"2021-05-11T20:03:31.190778Z\", \"created_time_dt\": \"2021-05-11T20:03:31.190778Z\", \"duration\": \"0:02:39\", \"iteration\": \"25\", \"goal\": \"accuracy_max\", \"run_name\": \"SparseNormalizer, XGBoostClassifier\", \"run_properties\": \"<azureml.automl.runtime.shared.model_wrappers.SparseNormalizer object at 0x7f24472f1ef0\", \"primary_metric\": 0.67909605, \"best_metric\": 0.84960452}, {\"run_id\": \"AutoML_aee3095f-aebf-486a-863a-869674d7d68d_26\", \"run_number\": 226, \"metric\": null, \"status\": \"Completed\", \"run_type\": \"azureml.scriptrun\", \"training_percent\": \"100\", \"start_time\": \"2021-05-11T20:05:48.001511Z\", \"end_time\": \"2021-05-11T20:06:41.566554Z\", \"created_time\": \"2021-05-11T20:04:00.404124Z\", \"created_time_dt\": \"2021-05-11T20:04:00.404124Z\", \"duration\": \"0:02:41\", \"iteration\": \"26\", \"goal\": \"accuracy_max\", \"run_name\": \"StandardScalerWrapper, LightGBM\", \"run_properties\": \"<azureml.automl.runtime.shared.model_wrappers.StandardScalerWrapper object at 0x7f2c02e1c080\", \"primary_metric\": 0.8160452, \"best_metric\": 0.84960452}, {\"run_id\": \"AutoML_aee3095f-aebf-486a-863a-869674d7d68d_27\", \"run_number\": 227, \"metric\": null, \"status\": \"Completed\", \"run_type\": \"azureml.scriptrun\", \"training_percent\": \"100\", \"start_time\": \"2021-05-11T20:05:51.107394Z\", \"end_time\": \"2021-05-11T20:06:39.007076Z\", \"created_time\": \"2021-05-11T20:04:28.465478Z\", \"created_time_dt\": \"2021-05-11T20:04:28.465478Z\", \"duration\": \"0:02:10\", \"iteration\": \"27\", \"goal\": \"accuracy_max\", \"run_name\": \"SparseNormalizer, ExtremeRandomTrees\", \"run_properties\": \"<azureml.automl.runtime.shared.model_wrappers.SparseNormalizer object at 0x7f8ada4f9780\", \"primary_metric\": 0.7859887, \"best_metric\": 0.84960452}, {\"run_id\": \"AutoML_aee3095f-aebf-486a-863a-869674d7d68d_28\", \"run_number\": 228, \"metric\": null, \"status\": \"Completed\", \"run_type\": \"azureml.scriptrun\", \"training_percent\": \"100\", \"start_time\": \"2021-05-11T20:06:24.42307Z\", \"end_time\": \"2021-05-11T20:07:15.677425Z\", \"created_time\": \"2021-05-11T20:04:33.382191Z\", \"created_time_dt\": \"2021-05-11T20:04:33.382191Z\", \"duration\": \"0:02:42\", \"iteration\": \"28\", \"goal\": \"accuracy_max\", \"run_name\": \"StandardScalerWrapper, ExtremeRandomTrees\", \"run_properties\": \"<azureml.automl.runtime.shared.model_wrappers.StandardScalerWrapper object at 0x7f30534ee160\", \"primary_metric\": 0.8259322, \"best_metric\": 0.84960452}, {\"run_id\": \"AutoML_aee3095f-aebf-486a-863a-869674d7d68d_29\", \"run_number\": 232, \"metric\": null, \"status\": \"Completed\", \"run_type\": \"azureml.scriptrun\", \"training_percent\": \"100\", \"start_time\": \"2021-05-11T20:07:31.950917Z\", \"end_time\": \"2021-05-11T20:08:20.658543Z\", \"created_time\": \"2021-05-11T20:05:36.224314Z\", \"created_time_dt\": \"2021-05-11T20:05:36.224314Z\", \"duration\": \"0:02:44\", \"iteration\": \"29\", \"goal\": \"accuracy_max\", \"run_name\": \"MaxAbsScaler, RandomForest\", \"run_properties\": \"copy=True\", \"primary_metric\": 0.8259322, \"best_metric\": 0.84960452}, {\"run_id\": \"AutoML_aee3095f-aebf-486a-863a-869674d7d68d_30\", \"run_number\": 234, \"metric\": null, \"status\": \"Completed\", \"run_type\": \"azureml.scriptrun\", \"training_percent\": \"100\", \"start_time\": \"2021-05-11T20:07:59.771507Z\", \"end_time\": \"2021-05-11T20:08:47.475922Z\", \"created_time\": \"2021-05-11T20:06:13.486024Z\", \"created_time_dt\": \"2021-05-11T20:06:13.486024Z\", \"duration\": \"0:02:33\", \"iteration\": \"30\", \"goal\": \"accuracy_max\", \"run_name\": \"PCA, XGBoostClassifier\", \"run_properties\": \"copy=True, iterated_power='auto', n_components=0.3563157894736842,\\n    random_state=None, svd_solver='auto', tol=0.0, whiten=False\", \"primary_metric\": 0.67909605, \"best_metric\": 0.84960452}, {\"run_id\": \"AutoML_aee3095f-aebf-486a-863a-869674d7d68d_31\", \"run_number\": 236, \"metric\": null, \"status\": \"Completed\", \"run_type\": \"azureml.scriptrun\", \"training_percent\": \"100\", \"start_time\": \"2021-05-11T20:08:34.37727Z\", \"end_time\": \"2021-05-11T20:09:24.00556Z\", \"created_time\": \"2021-05-11T20:06:40.932694Z\", \"created_time_dt\": \"2021-05-11T20:06:40.932694Z\", \"duration\": \"0:02:43\", \"iteration\": \"31\", \"goal\": \"accuracy_max\", \"run_name\": \"SparseNormalizer, XGBoostClassifier\", \"run_properties\": \"<azureml.automl.runtime.shared.model_wrappers.SparseNormalizer object at 0x7f0f2af92780\", \"primary_metric\": 0.85293785, \"best_metric\": 0.85293785}, {\"run_id\": \"AutoML_aee3095f-aebf-486a-863a-869674d7d68d_32\", \"run_number\": 237, \"metric\": null, \"status\": \"Completed\", \"run_type\": \"azureml.scriptrun\", \"training_percent\": \"100\", \"start_time\": \"2021-05-11T20:08:55.408013Z\", \"end_time\": \"2021-05-11T20:09:44.772256Z\", \"created_time\": \"2021-05-11T20:06:43.960627Z\", \"created_time_dt\": \"2021-05-11T20:06:43.960627Z\", \"duration\": \"0:03:00\", \"iteration\": \"32\", \"goal\": \"accuracy_max\", \"run_name\": \"SparseNormalizer, ExtremeRandomTrees\", \"run_properties\": \"<azureml.automl.runtime.shared.model_wrappers.SparseNormalizer object at 0x7fd330859d68\", \"primary_metric\": 0.77615819, \"best_metric\": 0.85293785}, {\"run_id\": \"AutoML_aee3095f-aebf-486a-863a-869674d7d68d_33\", \"run_number\": 238, \"metric\": null, \"status\": \"Completed\", \"run_type\": \"azureml.scriptrun\", \"training_percent\": \"100\", \"start_time\": \"2021-05-11T20:09:01.452781Z\", \"end_time\": \"2021-05-11T20:09:55.690684Z\", \"created_time\": \"2021-05-11T20:07:17.712952Z\", \"created_time_dt\": \"2021-05-11T20:07:17.712952Z\", \"duration\": \"0:02:37\", \"iteration\": \"33\", \"goal\": \"accuracy_max\", \"run_name\": \"RobustScaler, LightGBM\", \"run_properties\": \"copy=True, quantile_range=[25, 75], with_centering=False,\\n             with_scaling=False\", \"primary_metric\": 0.80276836, \"best_metric\": 0.85293785}, {\"run_id\": \"AutoML_aee3095f-aebf-486a-863a-869674d7d68d_34\", \"run_number\": 242, \"metric\": null, \"status\": \"Completed\", \"run_type\": \"azureml.scriptrun\", \"training_percent\": \"100\", \"start_time\": \"2021-05-11T20:10:08.273322Z\", \"end_time\": \"2021-05-11T20:10:58.380058Z\", \"created_time\": \"2021-05-11T20:08:22.480388Z\", \"created_time_dt\": \"2021-05-11T20:08:22.480388Z\", \"duration\": \"0:02:35\", \"iteration\": \"34\", \"goal\": \"accuracy_max\", \"run_name\": \"StandardScalerWrapper, LightGBM\", \"run_properties\": \"<azureml.automl.runtime.shared.model_wrappers.StandardScalerWrapper object at 0x7f097a4de198\", \"primary_metric\": 0.78937853, \"best_metric\": 0.85293785}, {\"run_id\": \"AutoML_aee3095f-aebf-486a-863a-869674d7d68d_35\", \"run_number\": 244, \"metric\": null, \"status\": \"Completed\", \"run_type\": \"azureml.scriptrun\", \"training_percent\": \"100\", \"start_time\": \"2021-05-11T20:10:45.454539Z\", \"end_time\": \"2021-05-11T20:11:40.934617Z\", \"created_time\": \"2021-05-11T20:08:50.221319Z\", \"created_time_dt\": \"2021-05-11T20:08:50.221319Z\", \"duration\": \"0:02:50\", \"iteration\": \"35\", \"goal\": \"accuracy_max\", \"run_name\": \"StandardScalerWrapper, XGBoostClassifier\", \"run_properties\": \"<azureml.automl.runtime.shared.model_wrappers.StandardScalerWrapper object at 0x7f8f484a3d30\", \"primary_metric\": 0.82265537, \"best_metric\": 0.85293785}, {\"run_id\": \"AutoML_aee3095f-aebf-486a-863a-869674d7d68d_36\", \"run_number\": 246, \"metric\": null, \"status\": \"Completed\", \"run_type\": \"azureml.scriptrun\", \"training_percent\": \"100\", \"start_time\": \"2021-05-11T20:11:10.507808Z\", \"end_time\": \"2021-05-11T20:12:00.912216Z\", \"created_time\": \"2021-05-11T20:09:26.682098Z\", \"created_time_dt\": \"2021-05-11T20:09:26.682098Z\", \"duration\": \"0:02:34\", \"iteration\": \"36\", \"goal\": \"accuracy_max\", \"run_name\": \"MaxAbsScaler, RandomForest\", \"run_properties\": \"copy=True\", \"primary_metric\": 0.75254237, \"best_metric\": 0.85293785}, {\"run_id\": \"AutoML_aee3095f-aebf-486a-863a-869674d7d68d_37\", \"run_number\": 247, \"metric\": null, \"status\": \"Completed\", \"run_type\": \"azureml.scriptrun\", \"training_percent\": \"100\", \"start_time\": \"2021-05-11T20:11:11.547543Z\", \"end_time\": \"2021-05-11T20:12:02.791073Z\", \"created_time\": \"2021-05-11T20:09:46.551639Z\", \"created_time_dt\": \"2021-05-11T20:09:46.551639Z\", \"duration\": \"0:02:16\", \"iteration\": \"37\", \"goal\": \"accuracy_max\", \"run_name\": \"SparseNormalizer, LightGBM\", \"run_properties\": \"<azureml.automl.runtime.shared.model_wrappers.SparseNormalizer object at 0x7f634a4f28d0\", \"primary_metric\": 0.8160452, \"best_metric\": 0.85293785}, {\"run_id\": \"AutoML_aee3095f-aebf-486a-863a-869674d7d68d_38\", \"run_number\": 249, \"metric\": null, \"status\": \"Completed\", \"run_type\": \"azureml.scriptrun\", \"training_percent\": \"100\", \"start_time\": \"2021-05-11T20:11:19.26809Z\", \"end_time\": \"2021-05-11T20:12:08.437204Z\", \"created_time\": \"2021-05-11T20:09:57.591769Z\", \"created_time_dt\": \"2021-05-11T20:09:57.591769Z\", \"duration\": \"0:02:10\", \"iteration\": \"38\", \"goal\": \"accuracy_max\", \"run_name\": \"MaxAbsScaler, LightGBM\", \"run_properties\": \"copy=True\", \"primary_metric\": 0.8360452, \"best_metric\": 0.85293785}, {\"run_id\": \"AutoML_aee3095f-aebf-486a-863a-869674d7d68d_39\", \"run_number\": 252, \"metric\": null, \"status\": \"Completed\", \"run_type\": \"azureml.scriptrun\", \"training_percent\": \"100\", \"start_time\": \"2021-05-11T20:12:02.977702Z\", \"end_time\": \"2021-05-11T20:12:53.623707Z\", \"created_time\": \"2021-05-11T20:11:00.361905Z\", \"created_time_dt\": \"2021-05-11T20:11:00.361905Z\", \"duration\": \"0:01:53\", \"iteration\": \"39\", \"goal\": \"accuracy_max\", \"run_name\": \"SparseNormalizer, XGBoostClassifier\", \"run_properties\": \"<azureml.automl.runtime.shared.model_wrappers.SparseNormalizer object at 0x7fbcaa302dd8\", \"primary_metric\": 0.82954802, \"best_metric\": 0.85293785}, {\"run_id\": \"AutoML_aee3095f-aebf-486a-863a-869674d7d68d_40\", \"run_number\": 255, \"metric\": null, \"status\": \"Completed\", \"run_type\": \"azureml.scriptrun\", \"training_percent\": \"100\", \"start_time\": \"2021-05-11T20:12:21.249931Z\", \"end_time\": \"2021-05-11T20:13:11.500312Z\", \"created_time\": \"2021-05-11T20:11:43.78791Z\", \"created_time_dt\": \"2021-05-11T20:11:43.78791Z\", \"duration\": \"0:01:27\", \"iteration\": \"40\", \"goal\": \"accuracy_max\", \"run_name\": \"SparseNormalizer, XGBoostClassifier\", \"run_properties\": \"<azureml.automl.runtime.shared.model_wrappers.SparseNormalizer object at 0x7fe78ba1f710\", \"primary_metric\": 0.7859322, \"best_metric\": 0.85293785}, {\"run_id\": \"AutoML_aee3095f-aebf-486a-863a-869674d7d68d_41\", \"run_number\": 256, \"metric\": null, \"status\": \"Completed\", \"run_type\": \"azureml.scriptrun\", \"training_percent\": \"100\", \"start_time\": \"2021-05-11T20:13:10.44084Z\", \"end_time\": \"2021-05-11T20:14:01.49771Z\", \"created_time\": \"2021-05-11T20:12:03.559639Z\", \"created_time_dt\": \"2021-05-11T20:12:03.559639Z\", \"duration\": \"0:01:57\", \"iteration\": \"41\", \"goal\": \"accuracy_max\", \"run_name\": \"RobustScaler, RandomForest\", \"run_properties\": \"copy=True, quantile_range=[25, 75], with_centering=False,\\n             with_scaling=True\", \"primary_metric\": 0.84954802, \"best_metric\": 0.85293785}, {\"run_id\": \"AutoML_aee3095f-aebf-486a-863a-869674d7d68d_42\", \"run_number\": 257, \"metric\": null, \"status\": \"Completed\", \"run_type\": \"azureml.scriptrun\", \"training_percent\": \"100\", \"start_time\": \"2021-05-11T20:13:28.561234Z\", \"end_time\": \"2021-05-11T20:14:18.315036Z\", \"created_time\": \"2021-05-11T20:12:07.031163Z\", \"created_time_dt\": \"2021-05-11T20:12:07.031163Z\", \"duration\": \"0:02:11\", \"iteration\": \"42\", \"goal\": \"accuracy_max\", \"run_name\": \"MinMaxScaler, LightGBM\", \"run_properties\": \"copy=True, feature_range=(0, 1\", \"primary_metric\": 0.79937853, \"best_metric\": 0.85293785}, {\"run_id\": \"AutoML_aee3095f-aebf-486a-863a-869674d7d68d_43\", \"run_number\": 258, \"metric\": null, \"status\": \"Completed\", \"run_type\": \"azureml.scriptrun\", \"training_percent\": \"100\", \"start_time\": \"2021-05-11T20:13:42.663111Z\", \"end_time\": \"2021-05-11T20:14:38.253524Z\", \"created_time\": \"2021-05-11T20:12:10.232561Z\", \"created_time_dt\": \"2021-05-11T20:12:10.232561Z\", \"duration\": \"0:02:28\", \"iteration\": \"43\", \"goal\": \"accuracy_max\", \"run_name\": \"StandardScalerWrapper, RandomForest\", \"run_properties\": \"<azureml.automl.runtime.shared.model_wrappers.StandardScalerWrapper object at 0x7f20db04a128\", \"primary_metric\": 0.82937853, \"best_metric\": 0.85293785}, {\"run_id\": \"AutoML_aee3095f-aebf-486a-863a-869674d7d68d_44\", \"run_number\": 259, \"metric\": null, \"status\": \"Completed\", \"run_type\": \"azureml.scriptrun\", \"training_percent\": \"100\", \"start_time\": \"2021-05-11T20:13:42.7308Z\", \"end_time\": \"2021-05-11T20:14:32.977975Z\", \"created_time\": \"2021-05-11T20:12:55.414055Z\", \"created_time_dt\": \"2021-05-11T20:12:55.414055Z\", \"duration\": \"0:01:37\", \"iteration\": \"44\", \"goal\": \"accuracy_max\", \"run_name\": \"SparseNormalizer, XGBoostClassifier\", \"run_properties\": \"<azureml.automl.runtime.shared.model_wrappers.SparseNormalizer object at 0x7f8b788070f0\", \"primary_metric\": 0.81949153, \"best_metric\": 0.85293785}, {\"run_id\": \"AutoML_aee3095f-aebf-486a-863a-869674d7d68d_45\", \"run_number\": 260, \"metric\": null, \"status\": \"Completed\", \"run_type\": \"azureml.scriptrun\", \"training_percent\": \"100\", \"start_time\": \"2021-05-11T20:14:17.037773Z\", \"end_time\": \"2021-05-11T20:15:05.640703Z\", \"created_time\": \"2021-05-11T20:13:14.137301Z\", \"created_time_dt\": \"2021-05-11T20:13:14.137301Z\", \"duration\": \"0:01:51\", \"iteration\": \"45\", \"goal\": \"accuracy_max\", \"run_name\": \"StandardScalerWrapper, XGBoostClassifier\", \"run_properties\": \"<azureml.automl.runtime.shared.model_wrappers.StandardScalerWrapper object at 0x7faa81c9b278\", \"primary_metric\": 0.8260452, \"best_metric\": 0.85293785}, {\"run_id\": \"AutoML_aee3095f-aebf-486a-863a-869674d7d68d_46\", \"run_number\": 262, \"metric\": null, \"status\": \"Canceled\", \"run_type\": \"azureml.scriptrun\", \"training_percent\": \"100\", \"start_time\": \"2021-05-11T20:14:46.163365Z\", \"end_time\": \"2021-05-11T20:15:09.613004Z\", \"created_time\": \"2021-05-11T20:14:03.561346Z\", \"created_time_dt\": \"2021-05-11T20:14:03.561346Z\", \"duration\": \"0:01:06\", \"iteration\": \"46\", \"goal\": null, \"run_name\": \"MinMaxScaler, LightGBM\", \"run_properties\": null}, {\"run_id\": \"AutoML_aee3095f-aebf-486a-863a-869674d7d68d_47\", \"run_number\": 263, \"metric\": null, \"status\": \"Canceled\", \"run_type\": \"azureml.scriptrun\", \"training_percent\": \"100\", \"start_time\": \"2021-05-11T20:14:57.076026Z\", \"end_time\": \"2021-05-11T20:15:09.84942Z\", \"created_time\": \"2021-05-11T20:14:20.161457Z\", \"created_time_dt\": \"2021-05-11T20:14:20.161457Z\", \"duration\": \"0:00:49\", \"iteration\": \"47\", \"goal\": null, \"run_name\": \"Canceled\", \"run_properties\": null}, {\"run_id\": \"AutoML_aee3095f-aebf-486a-863a-869674d7d68d_48\", \"run_number\": 264, \"metric\": null, \"status\": \"Canceled\", \"run_type\": \"azureml.scriptrun\", \"training_percent\": \"100\", \"start_time\": \"2021-05-11T20:14:36.238306Z\", \"end_time\": \"2021-05-11T20:15:07.204661Z\", \"created_time\": \"2021-05-11T20:14:36.238306Z\", \"created_time_dt\": \"2021-05-11T20:14:36.238306Z\", \"duration\": \"0:00:30\", \"iteration\": \"48\", \"goal\": null, \"run_name\": \"Canceled\", \"run_properties\": null}, {\"run_id\": \"AutoML_aee3095f-aebf-486a-863a-869674d7d68d_49\", \"run_number\": 265, \"metric\": null, \"status\": \"Canceled\", \"run_type\": \"azureml.scriptrun\", \"training_percent\": \"100\", \"start_time\": \"2021-05-11T20:14:39.937971Z\", \"end_time\": \"2021-05-11T20:15:07.289392Z\", \"created_time\": \"2021-05-11T20:14:39.937971Z\", \"created_time_dt\": \"2021-05-11T20:14:39.937971Z\", \"duration\": \"0:00:27\", \"iteration\": \"49\", \"goal\": null, \"run_name\": \"Canceled\", \"run_properties\": null}, {\"run_id\": \"AutoML_aee3095f-aebf-486a-863a-869674d7d68d_51\", \"run_number\": 266, \"metric\": null, \"status\": \"Completed\", \"run_type\": \"azureml.scriptrun\", \"training_percent\": \"100\", \"start_time\": \"2021-05-11T20:15:16.829502Z\", \"end_time\": \"2021-05-11T20:16:33.124423Z\", \"created_time\": \"2021-05-11T20:15:10.538523Z\", \"created_time_dt\": \"2021-05-11T20:15:10.538523Z\", \"duration\": \"0:01:22\", \"iteration\": \"51\", \"goal\": \"accuracy_max\", \"run_name\": \"StackEnsemble\", \"run_properties\": \"base_learners=[('31',\\n                                        Pipeline(memory=None,\\n                                                 steps=[('sparsenormalizer',\\n                                                         <azureml.automl.runtime.shared.model_wrappers.SparseNormalizer object at 0x7f16bc3dafd0>\", \"primary_metric\": 0.85954802, \"best_metric\": 0.87632768}, {\"run_id\": \"AutoML_aee3095f-aebf-486a-863a-869674d7d68d_50\", \"run_number\": 267, \"metric\": null, \"status\": \"Completed\", \"run_type\": \"azureml.scriptrun\", \"training_percent\": \"100\", \"start_time\": \"2021-05-11T20:15:17.364028Z\", \"end_time\": \"2021-05-11T20:16:35.107598Z\", \"created_time\": \"2021-05-11T20:15:10.70899Z\", \"created_time_dt\": \"2021-05-11T20:15:10.70899Z\", \"duration\": \"0:01:24\", \"iteration\": \"50\", \"goal\": \"accuracy_max\", \"run_name\": \"VotingEnsemble\", \"run_properties\": \"classification_labels=None,\\n                              estimators=[('31',\\n                                           Pipeline(memory=None,\\n                                                    steps=[('sparsenormalizer',\\n                                                            <azureml.automl.runtime.shared.model_wrappers.SparseNormalizer object at 0x7f135254cda0>\", \"primary_metric\": 0.87632768, \"best_metric\": 0.87632768}], \"children_metrics\": {\"categories\": [0], \"series\": {\"AUC_macro\": [{\"categories\": [\"0\", \"1\", \"2\", \"3\", \"4\", \"5\", \"6\", \"7\", \"8\", \"9\", \"10\", \"11\", \"12\", \"13\", \"14\", \"15\", \"16\", \"17\", \"18\", \"19\", \"20\", \"21\", \"22\", \"23\", \"24\", \"25\", \"26\", \"27\", \"28\", \"29\", \"30\", \"31\", \"32\", \"33\", \"34\", \"35\", \"36\", \"37\", \"38\", \"39\", \"40\", \"41\", \"42\", \"43\", \"44\", \"45\", \"50\", \"51\"], \"mode\": \"markers\", \"name\": \"AUC_macro\", \"stepped\": false, \"type\": \"scatter\", \"data\": [0.8811331210778885, 0.8929591177556295, 0.8965042220376522, 0.9062906053894426, 0.911455380214101, 0.8689101605758583, 0.859703742155777, 0.8554288713547434, 0.7394446982281285, 0.894921534699151, 0.8907245985603544, 0.7084957318198597, 0.8876433877814691, 0.9065308231819861, 0.8899048080472498, 0.8994653700627537, 0.8704584717607974, 0.8940481035437431, 0.8967023348098928, 0.8853673288113694, 0.8876623292727943, 0.8998145994832042, 0.8967994878183833, 0.9119476513473608, 0.9109567183462532, 0.5, 0.8939186277224069, 0.8484096530084904, 0.8604608250276854, 0.8979018318567737, 0.49074249031007755, 0.8933154069767442, 0.8624477436323368, 0.8798557585825029, 0.8880137043189368, 0.8888375899778517, 0.9064688307493538, 0.8922782161314139, 0.8909584371539314, 0.8692055301771873, 0.8696237080103358, 0.9088345561092656, 0.8937907899593945, 0.9019089608711702, 0.8957542681801403, 0.8670613464377999, 0.9108596576227391, 0.9138537283130306]}, {\"categories\": [\"0\", \"1\", \"2\", \"3\", \"4\", \"5\", \"6\", \"7\", \"8\", \"9\", \"10\", \"11\", \"12\", \"13\", \"14\", \"15\", \"16\", \"17\", \"18\", \"19\", \"20\", \"21\", \"22\", \"23\", \"24\", \"25\", \"26\", \"27\", \"28\", \"29\", \"30\", \"31\", \"32\", \"33\", \"34\", \"35\", \"36\", \"37\", \"38\", \"39\", \"40\", \"41\", \"42\", \"43\", \"44\", \"45\", \"50\", \"51\"], \"mode\": \"lines\", \"name\": \"AUC_macro_max\", \"stepped\": true, \"type\": \"scatter\", \"data\": [0.8811331210778885, 0.8929591177556295, 0.8965042220376522, 0.9062906053894426, 0.911455380214101, 0.911455380214101, 0.911455380214101, 0.911455380214101, 0.911455380214101, 0.911455380214101, 0.911455380214101, 0.911455380214101, 0.911455380214101, 0.911455380214101, 0.911455380214101, 0.911455380214101, 0.911455380214101, 0.911455380214101, 0.911455380214101, 0.911455380214101, 0.911455380214101, 0.911455380214101, 0.911455380214101, 0.9119476513473608, 0.9119476513473608, 0.9119476513473608, 0.9119476513473608, 0.9119476513473608, 0.9119476513473608, 0.9119476513473608, 0.9119476513473608, 0.9119476513473608, 0.9119476513473608, 0.9119476513473608, 0.9119476513473608, 0.9119476513473608, 0.9119476513473608, 0.9119476513473608, 0.9119476513473608, 0.9119476513473608, 0.9119476513473608, 0.9119476513473608, 0.9119476513473608, 0.9119476513473608, 0.9119476513473608, 0.9119476513473608, 0.9119476513473608, 0.9138537283130306]}], \"average_precision_score_macro\": [{\"categories\": [\"0\", \"1\", \"2\", \"3\", \"4\", \"5\", \"6\", \"7\", \"8\", \"9\", \"10\", \"11\", \"12\", \"13\", \"14\", \"15\", \"16\", \"17\", \"18\", \"19\", \"20\", \"21\", \"22\", \"23\", \"24\", \"25\", \"26\", \"27\", \"28\", \"29\", \"30\", \"31\", \"32\", \"33\", \"34\", \"35\", \"36\", \"37\", \"38\", \"39\", \"40\", \"41\", \"42\", \"43\", \"44\", \"45\", \"50\", \"51\"], \"mode\": \"markers\", \"name\": \"average_precision_score_macro\", \"stepped\": false, \"type\": \"scatter\", \"data\": [0.8655792376041671, 0.8826936933050062, 0.8811721003181365, 0.8922611318806342, 0.8926144070992201, 0.8494323065253011, 0.8579306284472856, 0.8226707228750527, 0.7185950052140428, 0.8817569707809666, 0.873840304380457, 0.6999294692181831, 0.8756968477195303, 0.8984166726382853, 0.8788455293544134, 0.8878636219265529, 0.8481688096654706, 0.8802531433544377, 0.8878516927812372, 0.8349810331652406, 0.8728899332889071, 0.8904070194209346, 0.8882877606991515, 0.9018029623534863, 0.8895809769327491, 0.5, 0.8821896413678351, 0.8354343190206169, 0.8415610059504832, 0.8850610574715538, 0.5067957835186856, 0.8838942357869393, 0.8491092969710344, 0.8662341386613235, 0.8745418189305205, 0.8701786665611053, 0.8898169846715366, 0.8715734377627659, 0.8726402764695509, 0.855942834475759, 0.8403728797632933, 0.9024756421257368, 0.8690575958392488, 0.8807895269128025, 0.873853000218288, 0.8159679285666515, 0.8965977031743249, 0.8993844530582985]}, {\"categories\": [\"0\", \"1\", \"2\", \"3\", \"4\", \"5\", \"6\", \"7\", \"8\", \"9\", \"10\", \"11\", \"12\", \"13\", \"14\", \"15\", \"16\", \"17\", \"18\", \"19\", \"20\", \"21\", \"22\", \"23\", \"24\", \"25\", \"26\", \"27\", \"28\", \"29\", \"30\", \"31\", \"32\", \"33\", \"34\", \"35\", \"36\", \"37\", \"38\", \"39\", \"40\", \"41\", \"42\", \"43\", \"44\", \"45\", \"50\", \"51\"], \"mode\": \"lines\", \"name\": \"average_precision_score_macro_max\", \"stepped\": true, \"type\": \"scatter\", \"data\": [0.8655792376041671, 0.8826936933050062, 0.8826936933050062, 0.8922611318806342, 0.8926144070992201, 0.8926144070992201, 0.8926144070992201, 0.8926144070992201, 0.8926144070992201, 0.8926144070992201, 0.8926144070992201, 0.8926144070992201, 0.8926144070992201, 0.8984166726382853, 0.8984166726382853, 0.8984166726382853, 0.8984166726382853, 0.8984166726382853, 0.8984166726382853, 0.8984166726382853, 0.8984166726382853, 0.8984166726382853, 0.8984166726382853, 0.9018029623534863, 0.9018029623534863, 0.9018029623534863, 0.9018029623534863, 0.9018029623534863, 0.9018029623534863, 0.9018029623534863, 0.9018029623534863, 0.9018029623534863, 0.9018029623534863, 0.9018029623534863, 0.9018029623534863, 0.9018029623534863, 0.9018029623534863, 0.9018029623534863, 0.9018029623534863, 0.9018029623534863, 0.9018029623534863, 0.9024756421257368, 0.9024756421257368, 0.9024756421257368, 0.9024756421257368, 0.9024756421257368, 0.9024756421257368, 0.9024756421257368]}], \"average_precision_score_micro\": [{\"categories\": [\"0\", \"1\", \"2\", \"3\", \"4\", \"5\", \"6\", \"7\", \"8\", \"9\", \"10\", \"11\", \"12\", \"13\", \"14\", \"15\", \"16\", \"17\", \"18\", \"19\", \"20\", \"21\", \"22\", \"23\", \"24\", \"25\", \"26\", \"27\", \"28\", \"29\", \"30\", \"31\", \"32\", \"33\", \"34\", \"35\", \"36\", \"37\", \"38\", \"39\", \"40\", \"41\", \"42\", \"43\", \"44\", \"45\", \"50\", \"51\"], \"mode\": \"markers\", \"name\": \"average_precision_score_micro\", \"stepped\": false, \"type\": \"scatter\", \"data\": [0.887958292631032, 0.9018582931163117, 0.9033962601580292, 0.9110302657489037, 0.9183222952208651, 0.8607848079978171, 0.876193808029633, 0.8636583935242925, 0.7638162743750223, 0.9020916181204706, 0.8993760782921816, 0.7474439849891634, 0.893386848713541, 0.9133209878196041, 0.8919569931631572, 0.9021254270821759, 0.8517523958972651, 0.9026020432426062, 0.9000157462971572, 0.8717751211308231, 0.8958867734484735, 0.9103558382645657, 0.903594479558987, 0.9194399327511551, 0.9048455702221867, 0.6293524849181271, 0.8877787967043064, 0.8564522812305524, 0.8630640016635107, 0.8910552446507269, 0.6490702808293733, 0.9041111497955796, 0.8639008583976553, 0.8826025197499145, 0.8875026377115522, 0.8857281642392479, 0.8788808530075485, 0.8945593056092911, 0.8833356513894776, 0.8806167666581647, 0.876122854011142, 0.9161770497135908, 0.8811356430743384, 0.906913148793094, 0.8952855508828025, 0.8580100424644941, 0.916008586872039, 0.9124842716497922]}, {\"categories\": [\"0\", \"1\", \"2\", \"3\", \"4\", \"5\", \"6\", \"7\", \"8\", \"9\", \"10\", \"11\", \"12\", \"13\", \"14\", \"15\", \"16\", \"17\", \"18\", \"19\", \"20\", \"21\", \"22\", \"23\", \"24\", \"25\", \"26\", \"27\", \"28\", \"29\", \"30\", \"31\", \"32\", \"33\", \"34\", \"35\", \"36\", \"37\", \"38\", \"39\", \"40\", \"41\", \"42\", \"43\", \"44\", \"45\", \"50\", \"51\"], \"mode\": \"lines\", \"name\": \"average_precision_score_micro_max\", \"stepped\": true, \"type\": \"scatter\", \"data\": [0.887958292631032, 0.9018582931163117, 0.9033962601580292, 0.9110302657489037, 0.9183222952208651, 0.9183222952208651, 0.9183222952208651, 0.9183222952208651, 0.9183222952208651, 0.9183222952208651, 0.9183222952208651, 0.9183222952208651, 0.9183222952208651, 0.9183222952208651, 0.9183222952208651, 0.9183222952208651, 0.9183222952208651, 0.9183222952208651, 0.9183222952208651, 0.9183222952208651, 0.9183222952208651, 0.9183222952208651, 0.9183222952208651, 0.9194399327511551, 0.9194399327511551, 0.9194399327511551, 0.9194399327511551, 0.9194399327511551, 0.9194399327511551, 0.9194399327511551, 0.9194399327511551, 0.9194399327511551, 0.9194399327511551, 0.9194399327511551, 0.9194399327511551, 0.9194399327511551, 0.9194399327511551, 0.9194399327511551, 0.9194399327511551, 0.9194399327511551, 0.9194399327511551, 0.9194399327511551, 0.9194399327511551, 0.9194399327511551, 0.9194399327511551, 0.9194399327511551, 0.9194399327511551, 0.9194399327511551]}], \"f1_score_micro\": [{\"categories\": [\"0\", \"1\", \"2\", \"3\", \"4\", \"5\", \"6\", \"7\", \"8\", \"9\", \"10\", \"11\", \"12\", \"13\", \"14\", \"15\", \"16\", \"17\", \"18\", \"19\", \"20\", \"21\", \"22\", \"23\", \"24\", \"25\", \"26\", \"27\", \"28\", \"29\", \"30\", \"31\", \"32\", \"33\", \"34\", \"35\", \"36\", \"37\", \"38\", \"39\", \"40\", \"41\", \"42\", \"43\", \"44\", \"45\", \"50\", \"51\"], \"mode\": \"markers\", \"name\": \"f1_score_micro\", \"stepped\": false, \"type\": \"scatter\", \"data\": [0.8059887005649718, 0.8259322033898304, 0.8259322033898305, 0.822768361581921, 0.8292655367231638, 0.7858757062146893, 0.8262146892655368, 0.8026553672316383, 0.7090960451977402, 0.846271186440678, 0.8261581920903955, 0.7024293785310735, 0.8329943502824859, 0.8326553672316385, 0.8428248587570621, 0.8092655367231639, 0.7258757062146893, 0.8496045197740113, 0.8161581920903955, 0.8027118644067798, 0.8396610169491525, 0.8493220338983051, 0.8361016949152542, 0.8427683615819209, 0.7927118644067795, 0.67909604519774, 0.8160451977401131, 0.7859887005649717, 0.8259322033898305, 0.8259322033898305, 0.67909604519774, 0.8529378531073446, 0.7761581920903955, 0.802768361581921, 0.7893785310734462, 0.8226553672316385, 0.7525423728813558, 0.8160451977401131, 0.836045197740113, 0.8295480225988701, 0.7859322033898306, 0.8495480225988701, 0.7993785310734463, 0.8293785310734464, 0.8194915254237287, 0.8260451977401131, 0.8763276836158193, 0.85954802259887]}, {\"categories\": [\"0\", \"1\", \"2\", \"3\", \"4\", \"5\", \"6\", \"7\", \"8\", \"9\", \"10\", \"11\", \"12\", \"13\", \"14\", \"15\", \"16\", \"17\", \"18\", \"19\", \"20\", \"21\", \"22\", \"23\", \"24\", \"25\", \"26\", \"27\", \"28\", \"29\", \"30\", \"31\", \"32\", \"33\", \"34\", \"35\", \"36\", \"37\", \"38\", \"39\", \"40\", \"41\", \"42\", \"43\", \"44\", \"45\", \"50\", \"51\"], \"mode\": \"lines\", \"name\": \"f1_score_micro_max\", \"stepped\": true, \"type\": \"scatter\", \"data\": [0.8059887005649718, 0.8259322033898304, 0.8259322033898305, 0.8259322033898305, 0.8292655367231638, 0.8292655367231638, 0.8292655367231638, 0.8292655367231638, 0.8292655367231638, 0.846271186440678, 0.846271186440678, 0.846271186440678, 0.846271186440678, 0.846271186440678, 0.846271186440678, 0.846271186440678, 0.846271186440678, 0.8496045197740113, 0.8496045197740113, 0.8496045197740113, 0.8496045197740113, 0.8496045197740113, 0.8496045197740113, 0.8496045197740113, 0.8496045197740113, 0.8496045197740113, 0.8496045197740113, 0.8496045197740113, 0.8496045197740113, 0.8496045197740113, 0.8496045197740113, 0.8529378531073446, 0.8529378531073446, 0.8529378531073446, 0.8529378531073446, 0.8529378531073446, 0.8529378531073446, 0.8529378531073446, 0.8529378531073446, 0.8529378531073446, 0.8529378531073446, 0.8529378531073446, 0.8529378531073446, 0.8529378531073446, 0.8529378531073446, 0.8529378531073446, 0.8763276836158193, 0.8763276836158193]}], \"norm_macro_recall\": [{\"categories\": [\"0\", \"1\", \"2\", \"3\", \"4\", \"5\", \"6\", \"7\", \"8\", \"9\", \"10\", \"11\", \"12\", \"13\", \"14\", \"15\", \"16\", \"17\", \"18\", \"19\", \"20\", \"21\", \"22\", \"23\", \"24\", \"25\", \"26\", \"27\", \"28\", \"29\", \"30\", \"31\", \"32\", \"33\", \"34\", \"35\", \"36\", \"37\", \"38\", \"39\", \"40\", \"41\", \"42\", \"43\", \"44\", \"45\", \"50\", \"51\"], \"mode\": \"markers\", \"name\": \"norm_macro_recall\", \"stepped\": false, \"type\": \"scatter\", \"data\": [0.5520418050941306, 0.6120251937984496, 0.5933513289036545, 0.5596774640088593, 0.6301204318936878, 0.5805287929125138, 0.5569559800664452, 0.5243881506090808, 0.22652270210409736, 0.6536738648947951, 0.5792774086378738, 0.21640365448504978, 0.6086821705426356, 0.6237001661129569, 0.5852893133997785, 0.5366251384274641, 0.17297619047619048, 0.6224916943521595, 0.4989202657807309, 0.5156215393133998, 0.6215310077519379, 0.6455537098560354, 0.6071691583610188, 0.6292607973421926, 0.4286738648947951, 0.0, 0.5344310631229235, 0.5517870985603545, 0.6331561461794021, 0.6151204318936878, 0.0, 0.6353488372093024, 0.35095238095238096, 0.47178571428571436, 0.46055370985603544, 0.5280703211517166, 0.2765393133997785, 0.5397452934662237, 0.5955024916943522, 0.5969476744186046, 0.4293203211517165, 0.6232571982281284, 0.503062015503876, 0.601327519379845, 0.5829595791805093, 0.5776453488372093, 0.6833333333333333, 0.6635548172757475]}, {\"categories\": [\"0\", \"1\", \"2\", \"3\", \"4\", \"5\", \"6\", \"7\", \"8\", \"9\", \"10\", \"11\", \"12\", \"13\", \"14\", \"15\", \"16\", \"17\", \"18\", \"19\", \"20\", \"21\", \"22\", \"23\", \"24\", \"25\", \"26\", \"27\", \"28\", \"29\", \"30\", \"31\", \"32\", \"33\", \"34\", \"35\", \"36\", \"37\", \"38\", \"39\", \"40\", \"41\", \"42\", \"43\", \"44\", \"45\", \"50\", \"51\"], \"mode\": \"lines\", \"name\": \"norm_macro_recall_max\", \"stepped\": true, \"type\": \"scatter\", \"data\": [0.5520418050941306, 0.6120251937984496, 0.6120251937984496, 0.6120251937984496, 0.6301204318936878, 0.6301204318936878, 0.6301204318936878, 0.6301204318936878, 0.6301204318936878, 0.6536738648947951, 0.6536738648947951, 0.6536738648947951, 0.6536738648947951, 0.6536738648947951, 0.6536738648947951, 0.6536738648947951, 0.6536738648947951, 0.6536738648947951, 0.6536738648947951, 0.6536738648947951, 0.6536738648947951, 0.6536738648947951, 0.6536738648947951, 0.6536738648947951, 0.6536738648947951, 0.6536738648947951, 0.6536738648947951, 0.6536738648947951, 0.6536738648947951, 0.6536738648947951, 0.6536738648947951, 0.6536738648947951, 0.6536738648947951, 0.6536738648947951, 0.6536738648947951, 0.6536738648947951, 0.6536738648947951, 0.6536738648947951, 0.6536738648947951, 0.6536738648947951, 0.6536738648947951, 0.6536738648947951, 0.6536738648947951, 0.6536738648947951, 0.6536738648947951, 0.6536738648947951, 0.6833333333333333, 0.6833333333333333]}], \"accuracy\": [{\"categories\": [\"0\", \"1\", \"2\", \"3\", \"4\", \"5\", \"6\", \"7\", \"8\", \"9\", \"10\", \"11\", \"12\", \"13\", \"14\", \"15\", \"16\", \"17\", \"18\", \"19\", \"20\", \"21\", \"22\", \"23\", \"24\", \"25\", \"26\", \"27\", \"28\", \"29\", \"30\", \"31\", \"32\", \"33\", \"34\", \"35\", \"36\", \"37\", \"38\", \"39\", \"40\", \"41\", \"42\", \"43\", \"44\", \"45\", \"50\", \"51\"], \"mode\": \"markers\", \"name\": \"accuracy\", \"stepped\": false, \"type\": \"scatter\", \"data\": [0.8059887005649717, 0.8259322033898304, 0.8259322033898305, 0.822768361581921, 0.8292655367231638, 0.7858757062146893, 0.8262146892655368, 0.8026553672316383, 0.7090960451977402, 0.846271186440678, 0.8261581920903955, 0.7024293785310733, 0.8329943502824859, 0.8326553672316385, 0.8428248587570621, 0.8092655367231639, 0.7258757062146893, 0.8496045197740113, 0.8161581920903955, 0.8027118644067797, 0.8396610169491525, 0.8493220338983051, 0.8361016949152542, 0.8427683615819209, 0.7927118644067795, 0.67909604519774, 0.8160451977401131, 0.7859887005649717, 0.8259322033898304, 0.8259322033898305, 0.67909604519774, 0.8529378531073446, 0.7761581920903955, 0.802768361581921, 0.7893785310734462, 0.8226553672316385, 0.7525423728813558, 0.8160451977401131, 0.836045197740113, 0.8295480225988701, 0.7859322033898306, 0.8495480225988701, 0.7993785310734463, 0.8293785310734464, 0.8194915254237287, 0.8260451977401129, 0.8763276836158193, 0.85954802259887]}, {\"categories\": [\"0\", \"1\", \"2\", \"3\", \"4\", \"5\", \"6\", \"7\", \"8\", \"9\", \"10\", \"11\", \"12\", \"13\", \"14\", \"15\", \"16\", \"17\", \"18\", \"19\", \"20\", \"21\", \"22\", \"23\", \"24\", \"25\", \"26\", \"27\", \"28\", \"29\", \"30\", \"31\", \"32\", \"33\", \"34\", \"35\", \"36\", \"37\", \"38\", \"39\", \"40\", \"41\", \"42\", \"43\", \"44\", \"45\", \"50\", \"51\"], \"mode\": \"lines\", \"name\": \"accuracy_max\", \"stepped\": true, \"type\": \"scatter\", \"data\": [0.8059887005649717, 0.8259322033898304, 0.8259322033898305, 0.8259322033898305, 0.8292655367231638, 0.8292655367231638, 0.8292655367231638, 0.8292655367231638, 0.8292655367231638, 0.846271186440678, 0.846271186440678, 0.846271186440678, 0.846271186440678, 0.846271186440678, 0.846271186440678, 0.846271186440678, 0.846271186440678, 0.8496045197740113, 0.8496045197740113, 0.8496045197740113, 0.8496045197740113, 0.8496045197740113, 0.8496045197740113, 0.8496045197740113, 0.8496045197740113, 0.8496045197740113, 0.8496045197740113, 0.8496045197740113, 0.8496045197740113, 0.8496045197740113, 0.8496045197740113, 0.8529378531073446, 0.8529378531073446, 0.8529378531073446, 0.8529378531073446, 0.8529378531073446, 0.8529378531073446, 0.8529378531073446, 0.8529378531073446, 0.8529378531073446, 0.8529378531073446, 0.8529378531073446, 0.8529378531073446, 0.8529378531073446, 0.8529378531073446, 0.8529378531073446, 0.8763276836158193, 0.8763276836158193]}], \"precision_score_macro\": [{\"categories\": [\"0\", \"1\", \"2\", \"3\", \"4\", \"5\", \"6\", \"7\", \"8\", \"9\", \"10\", \"11\", \"12\", \"13\", \"14\", \"15\", \"16\", \"17\", \"18\", \"19\", \"20\", \"21\", \"22\", \"23\", \"24\", \"25\", \"26\", \"27\", \"28\", \"29\", \"30\", \"31\", \"32\", \"33\", \"34\", \"35\", \"36\", \"37\", \"38\", \"39\", \"40\", \"41\", \"42\", \"43\", \"44\", \"45\", \"50\", \"51\"], \"mode\": \"markers\", \"name\": \"precision_score_macro\", \"stepped\": false, \"type\": \"scatter\", \"data\": [0.7889041743265773, 0.8086642059265495, 0.8084307784920333, 0.8093911678321588, 0.8021470758018605, 0.7675269862995453, 0.820265531184819, 0.7949058346742952, 0.6798907512822607, 0.836190434874329, 0.8342656144205393, 0.6764239562862616, 0.8298263723233414, 0.8146316850357349, 0.8518145666760132, 0.7943801096672672, 0.8168872843382211, 0.848492463658258, 0.8309955634427684, 0.7998373741915941, 0.824308208922212, 0.8351470913061059, 0.8203599069253198, 0.8364918586777004, 0.8104030251489576, 0.33954802259887, 0.8145149307214524, 0.7551471722375, 0.7974052366921723, 0.7988421404317078, 0.33954802259887, 0.8532358715404147, 0.807106795709737, 0.8276575235956118, 0.797397612519193, 0.8233427852120861, 0.7919255175292912, 0.8112171717171718, 0.8266347782652131, 0.8172062746917108, 0.7703041058320561, 0.8431539665835593, 0.804373406487272, 0.811403318903319, 0.8193081698723033, 0.8056206669308807, 0.88911213872394, 0.8572678290815352]}, {\"categories\": [\"0\", \"1\", \"2\", \"3\", \"4\", \"5\", \"6\", \"7\", \"8\", \"9\", \"10\", \"11\", \"12\", \"13\", \"14\", \"15\", \"16\", \"17\", \"18\", \"19\", \"20\", \"21\", \"22\", \"23\", \"24\", \"25\", \"26\", \"27\", \"28\", \"29\", \"30\", \"31\", \"32\", \"33\", \"34\", \"35\", \"36\", \"37\", \"38\", \"39\", \"40\", \"41\", \"42\", \"43\", \"44\", \"45\", \"50\", \"51\"], \"mode\": \"lines\", \"name\": \"precision_score_macro_max\", \"stepped\": true, \"type\": \"scatter\", \"data\": [0.7889041743265773, 0.8086642059265495, 0.8086642059265495, 0.8093911678321588, 0.8093911678321588, 0.8093911678321588, 0.820265531184819, 0.820265531184819, 0.820265531184819, 0.836190434874329, 0.836190434874329, 0.836190434874329, 0.836190434874329, 0.836190434874329, 0.8518145666760132, 0.8518145666760132, 0.8518145666760132, 0.8518145666760132, 0.8518145666760132, 0.8518145666760132, 0.8518145666760132, 0.8518145666760132, 0.8518145666760132, 0.8518145666760132, 0.8518145666760132, 0.8518145666760132, 0.8518145666760132, 0.8518145666760132, 0.8518145666760132, 0.8518145666760132, 0.8518145666760132, 0.8532358715404147, 0.8532358715404147, 0.8532358715404147, 0.8532358715404147, 0.8532358715404147, 0.8532358715404147, 0.8532358715404147, 0.8532358715404147, 0.8532358715404147, 0.8532358715404147, 0.8532358715404147, 0.8532358715404147, 0.8532358715404147, 0.8532358715404147, 0.8532358715404147, 0.88911213872394, 0.88911213872394]}], \"f1_score_macro\": [{\"categories\": [\"0\", \"1\", \"2\", \"3\", \"4\", \"5\", \"6\", \"7\", \"8\", \"9\", \"10\", \"11\", \"12\", \"13\", \"14\", \"15\", \"16\", \"17\", \"18\", \"19\", \"20\", \"21\", \"22\", \"23\", \"24\", \"25\", \"26\", \"27\", \"28\", \"29\", \"30\", \"31\", \"32\", \"33\", \"34\", \"35\", \"36\", \"37\", \"38\", \"39\", \"40\", \"41\", \"42\", \"43\", \"44\", \"45\", \"50\", \"51\"], \"mode\": \"markers\", \"name\": \"f1_score_macro\", \"stepped\": false, \"type\": \"scatter\", \"data\": [0.7682096405971308, 0.7972526241921125, 0.7900218510902091, 0.7809938757684975, 0.8001616040218353, 0.7598585725466711, 0.7834272099802454, 0.7563642825227879, 0.5984336427728598, 0.8182329158586782, 0.784384931703028, 0.5941957714551839, 0.8017629707082936, 0.8018704926114625, 0.8034109698770658, 0.7653123938462241, 0.5589838478422292, 0.8161275803155832, 0.7625919451180303, 0.7522535529567671, 0.8095790583685322, 0.8187468439168402, 0.8007270684398342, 0.8084767418448683, 0.7240894436178085, 0.40276783177038933, 0.7695891912830867, 0.7567907597138189, 0.7988448160799108, 0.7952801482682865, 0.40276783177038933, 0.8206430499714307, 0.687904282445525, 0.7414977902241594, 0.7314547722201479, 0.7744146297219825, 0.633537250615715, 0.7679056523965361, 0.799086693661103, 0.7945519038672619, 0.7208867031241081, 0.8178750197163609, 0.7455586178531122, 0.7957466736743075, 0.7804857294299993, 0.7906709583280449, 0.8492454760969371, 0.8292096914828297]}, {\"categories\": [\"0\", \"1\", \"2\", \"3\", \"4\", \"5\", \"6\", \"7\", \"8\", \"9\", \"10\", \"11\", \"12\", \"13\", \"14\", \"15\", \"16\", \"17\", \"18\", \"19\", \"20\", \"21\", \"22\", \"23\", \"24\", \"25\", \"26\", \"27\", \"28\", \"29\", \"30\", \"31\", \"32\", \"33\", \"34\", \"35\", \"36\", \"37\", \"38\", \"39\", \"40\", \"41\", \"42\", \"43\", \"44\", \"45\", \"50\", \"51\"], \"mode\": \"lines\", \"name\": \"f1_score_macro_max\", \"stepped\": true, \"type\": \"scatter\", \"data\": [0.7682096405971308, 0.7972526241921125, 0.7972526241921125, 0.7972526241921125, 0.8001616040218353, 0.8001616040218353, 0.8001616040218353, 0.8001616040218353, 0.8001616040218353, 0.8182329158586782, 0.8182329158586782, 0.8182329158586782, 0.8182329158586782, 0.8182329158586782, 0.8182329158586782, 0.8182329158586782, 0.8182329158586782, 0.8182329158586782, 0.8182329158586782, 0.8182329158586782, 0.8182329158586782, 0.8187468439168402, 0.8187468439168402, 0.8187468439168402, 0.8187468439168402, 0.8187468439168402, 0.8187468439168402, 0.8187468439168402, 0.8187468439168402, 0.8187468439168402, 0.8187468439168402, 0.8206430499714307, 0.8206430499714307, 0.8206430499714307, 0.8206430499714307, 0.8206430499714307, 0.8206430499714307, 0.8206430499714307, 0.8206430499714307, 0.8206430499714307, 0.8206430499714307, 0.8206430499714307, 0.8206430499714307, 0.8206430499714307, 0.8206430499714307, 0.8206430499714307, 0.8492454760969371, 0.8492454760969371]}], \"f1_score_weighted\": [{\"categories\": [\"0\", \"1\", \"2\", \"3\", \"4\", \"5\", \"6\", \"7\", \"8\", \"9\", \"10\", \"11\", \"12\", \"13\", \"14\", \"15\", \"16\", \"17\", \"18\", \"19\", \"20\", \"21\", \"22\", \"23\", \"24\", \"25\", \"26\", \"27\", \"28\", \"29\", \"30\", \"31\", \"32\", \"33\", \"34\", \"35\", \"36\", \"37\", \"38\", \"39\", \"40\", \"41\", \"42\", \"43\", \"44\", \"45\", \"50\", \"51\"], \"mode\": \"markers\", \"name\": \"f1_score_weighted\", \"stepped\": false, \"type\": \"scatter\", \"data\": [0.8014398448329555, 0.8237396450256732, 0.8213322971374349, 0.8160907929627088, 0.8305460523028495, 0.7912950576013326, 0.8194272389041359, 0.7947675518792062, 0.6739767213600245, 0.8440887176790568, 0.8157297548639766, 0.6691724991479587, 0.8295428462047711, 0.8296953485269389, 0.8336647248686537, 0.8026943251342772, 0.6537058360775021, 0.8445786473037667, 0.8021759951947371, 0.7888122775759685, 0.8366627045139088, 0.8462115002195787, 0.8317969182051403, 0.8367533950365423, 0.7717332427792638, 0.5526564268547016, 0.8041176153746544, 0.7894885779444057, 0.8285391547670249, 0.8267506229260249, 0.5526564268547016, 0.8477833711118175, 0.7479275457659054, 0.7842695316409457, 0.7714767730459244, 0.8120819514951683, 0.7066608898607087, 0.8074929559962485, 0.829975741523706, 0.825968164770293, 0.7713187973273363, 0.845234329145273, 0.7838540747313424, 0.8261974499237044, 0.8111457311712101, 0.8220345570082707, 0.8709088221678037, 0.854552817658076]}, {\"categories\": [\"0\", \"1\", \"2\", \"3\", \"4\", \"5\", \"6\", \"7\", \"8\", \"9\", \"10\", \"11\", \"12\", \"13\", \"14\", \"15\", \"16\", \"17\", \"18\", \"19\", \"20\", \"21\", \"22\", \"23\", \"24\", \"25\", \"26\", \"27\", \"28\", \"29\", \"30\", \"31\", \"32\", \"33\", \"34\", \"35\", \"36\", \"37\", \"38\", \"39\", \"40\", \"41\", \"42\", \"43\", \"44\", \"45\", \"50\", \"51\"], \"mode\": \"lines\", \"name\": \"f1_score_weighted_max\", \"stepped\": true, \"type\": \"scatter\", \"data\": [0.8014398448329555, 0.8237396450256732, 0.8237396450256732, 0.8237396450256732, 0.8305460523028495, 0.8305460523028495, 0.8305460523028495, 0.8305460523028495, 0.8305460523028495, 0.8440887176790568, 0.8440887176790568, 0.8440887176790568, 0.8440887176790568, 0.8440887176790568, 0.8440887176790568, 0.8440887176790568, 0.8440887176790568, 0.8445786473037667, 0.8445786473037667, 0.8445786473037667, 0.8445786473037667, 0.8462115002195787, 0.8462115002195787, 0.8462115002195787, 0.8462115002195787, 0.8462115002195787, 0.8462115002195787, 0.8462115002195787, 0.8462115002195787, 0.8462115002195787, 0.8462115002195787, 0.8477833711118175, 0.8477833711118175, 0.8477833711118175, 0.8477833711118175, 0.8477833711118175, 0.8477833711118175, 0.8477833711118175, 0.8477833711118175, 0.8477833711118175, 0.8477833711118175, 0.8477833711118175, 0.8477833711118175, 0.8477833711118175, 0.8477833711118175, 0.8477833711118175, 0.8709088221678037, 0.8709088221678037]}], \"weighted_accuracy\": [{\"categories\": [\"0\", \"1\", \"2\", \"3\", \"4\", \"5\", \"6\", \"7\", \"8\", \"9\", \"10\", \"11\", \"12\", \"13\", \"14\", \"15\", \"16\", \"17\", \"18\", \"19\", \"20\", \"21\", \"22\", \"23\", \"24\", \"25\", \"26\", \"27\", \"28\", \"29\", \"30\", \"31\", \"32\", \"33\", \"34\", \"35\", \"36\", \"37\", \"38\", \"39\", \"40\", \"41\", \"42\", \"43\", \"44\", \"45\", \"50\", \"51\"], \"mode\": \"markers\", \"name\": \"weighted_accuracy\", \"stepped\": false, \"type\": \"scatter\", \"data\": [0.8252063202764133, 0.8406325321291572, 0.8457638675422665, 0.8503969494972227, 0.8392579008607205, 0.7831220691585233, 0.8577437473801872, 0.8305982739426673, 0.7755242910482674, 0.8614527378563306, 0.853412521437642, 0.7664276399984669, 0.8533820798830117, 0.8467187369009362, 0.8779490475525128, 0.8373043846340588, 0.818343923044172, 0.876880803619453, 0.8613333959821501, 0.8359612739636877, 0.8586782896708176, 0.8669401394678067, 0.8579877974942945, 0.8618975568197978, 0.8454552677144681, 0.7971865900207855, 0.8499213641944703, 0.7917168380647616, 0.8319127681173578, 0.8392579008607205, 0.7971865900207855, 0.8777834584867097, 0.8426844185386091, 0.8492426598874052, 0.8317200900329442, 0.8628172670030745, 0.8302065045133938, 0.8481975894219123, 0.8633695682548554, 0.852393418906671, 0.8349337245587073, 0.8741182150198066, 0.833423359682931, 0.8499800240950648, 0.840925632145108, 0.8503284438404878, 0.8997121064304476, 0.8786006026651302]}, {\"categories\": [\"0\", \"1\", \"2\", \"3\", \"4\", \"5\", \"6\", \"7\", \"8\", \"9\", \"10\", \"11\", \"12\", \"13\", \"14\", \"15\", \"16\", \"17\", \"18\", \"19\", \"20\", \"21\", \"22\", \"23\", \"24\", \"25\", \"26\", \"27\", \"28\", \"29\", \"30\", \"31\", \"32\", \"33\", \"34\", \"35\", \"36\", \"37\", \"38\", \"39\", \"40\", \"41\", \"42\", \"43\", \"44\", \"45\", \"50\", \"51\"], \"mode\": \"lines\", \"name\": \"weighted_accuracy_max\", \"stepped\": true, \"type\": \"scatter\", \"data\": [0.8252063202764133, 0.8406325321291572, 0.8457638675422665, 0.8503969494972227, 0.8503969494972227, 0.8503969494972227, 0.8577437473801872, 0.8577437473801872, 0.8577437473801872, 0.8614527378563306, 0.8614527378563306, 0.8614527378563306, 0.8614527378563306, 0.8614527378563306, 0.8779490475525128, 0.8779490475525128, 0.8779490475525128, 0.8779490475525128, 0.8779490475525128, 0.8779490475525128, 0.8779490475525128, 0.8779490475525128, 0.8779490475525128, 0.8779490475525128, 0.8779490475525128, 0.8779490475525128, 0.8779490475525128, 0.8779490475525128, 0.8779490475525128, 0.8779490475525128, 0.8779490475525128, 0.8779490475525128, 0.8779490475525128, 0.8779490475525128, 0.8779490475525128, 0.8779490475525128, 0.8779490475525128, 0.8779490475525128, 0.8779490475525128, 0.8779490475525128, 0.8779490475525128, 0.8779490475525128, 0.8779490475525128, 0.8779490475525128, 0.8779490475525128, 0.8779490475525128, 0.8997121064304476, 0.8997121064304476]}], \"average_precision_score_weighted\": [{\"categories\": [\"0\", \"1\", \"2\", \"3\", \"4\", \"5\", \"6\", \"7\", \"8\", \"9\", \"10\", \"11\", \"12\", \"13\", \"14\", \"15\", \"16\", \"17\", \"18\", \"19\", \"20\", \"21\", \"22\", \"23\", \"24\", \"25\", \"26\", \"27\", \"28\", \"29\", \"30\", \"31\", \"32\", \"33\", \"34\", \"35\", \"36\", \"37\", \"38\", \"39\", \"40\", \"41\", \"42\", \"43\", \"44\", \"45\", \"50\", \"51\"], \"mode\": \"markers\", \"name\": \"average_precision_score_weighted\", \"stepped\": false, \"type\": \"scatter\", \"data\": [0.8955370396295249, 0.9103506263314479, 0.911627662169684, 0.9186944795845602, 0.9209872676686865, 0.8861849613448267, 0.881318860502196, 0.8671827777178738, 0.7676633931569629, 0.907549263035289, 0.9046303292122181, 0.7526621533334461, 0.9027199794815131, 0.920706467057595, 0.9036861922642672, 0.9121500058940821, 0.8838192572117978, 0.9044364305652293, 0.9128183909604417, 0.8753573638077337, 0.8977687189620761, 0.9149802892545342, 0.9114238925378801, 0.9247167219707398, 0.9190313506568062, 0.5796089246385138, 0.9058607560878091, 0.8699958133663117, 0.8758077844897212, 0.9093816538580913, 0.5844663018297043, 0.9073748371208454, 0.8800534381629237, 0.8955236381728549, 0.9044396089469778, 0.8948959997609753, 0.9150305801037606, 0.9046887249471489, 0.8977969744882719, 0.8824325095286476, 0.8798834120364127, 0.9239641580889166, 0.898320605607511, 0.906913865943918, 0.9055072624951197, 0.8553858260310149, 0.9207681681542855, 0.9239002898645413]}, {\"categories\": [\"0\", \"1\", \"2\", \"3\", \"4\", \"5\", \"6\", \"7\", \"8\", \"9\", \"10\", \"11\", \"12\", \"13\", \"14\", \"15\", \"16\", \"17\", \"18\", \"19\", \"20\", \"21\", \"22\", \"23\", \"24\", \"25\", \"26\", \"27\", \"28\", \"29\", \"30\", \"31\", \"32\", \"33\", \"34\", \"35\", \"36\", \"37\", \"38\", \"39\", \"40\", \"41\", \"42\", \"43\", \"44\", \"45\", \"50\", \"51\"], \"mode\": \"lines\", \"name\": \"average_precision_score_weighted_max\", \"stepped\": true, \"type\": \"scatter\", \"data\": [0.8955370396295249, 0.9103506263314479, 0.911627662169684, 0.9186944795845602, 0.9209872676686865, 0.9209872676686865, 0.9209872676686865, 0.9209872676686865, 0.9209872676686865, 0.9209872676686865, 0.9209872676686865, 0.9209872676686865, 0.9209872676686865, 0.9209872676686865, 0.9209872676686865, 0.9209872676686865, 0.9209872676686865, 0.9209872676686865, 0.9209872676686865, 0.9209872676686865, 0.9209872676686865, 0.9209872676686865, 0.9209872676686865, 0.9247167219707398, 0.9247167219707398, 0.9247167219707398, 0.9247167219707398, 0.9247167219707398, 0.9247167219707398, 0.9247167219707398, 0.9247167219707398, 0.9247167219707398, 0.9247167219707398, 0.9247167219707398, 0.9247167219707398, 0.9247167219707398, 0.9247167219707398, 0.9247167219707398, 0.9247167219707398, 0.9247167219707398, 0.9247167219707398, 0.9247167219707398, 0.9247167219707398, 0.9247167219707398, 0.9247167219707398, 0.9247167219707398, 0.9247167219707398, 0.9247167219707398]}], \"matthews_correlation\": [{\"categories\": [\"0\", \"1\", \"2\", \"3\", \"4\", \"5\", \"6\", \"7\", \"8\", \"9\", \"10\", \"11\", \"12\", \"13\", \"14\", \"15\", \"16\", \"17\", \"18\", \"19\", \"20\", \"21\", \"22\", \"23\", \"24\", \"25\", \"26\", \"27\", \"28\", \"29\", \"30\", \"31\", \"32\", \"33\", \"34\", \"35\", \"36\", \"37\", \"38\", \"39\", \"40\", \"41\", \"42\", \"43\", \"44\", \"45\", \"50\", \"51\"], \"mode\": \"markers\", \"name\": \"matthews_correlation\", \"stepped\": false, \"type\": \"scatter\", \"data\": [0.5628617041183437, 0.6132552509330647, 0.603178247658033, 0.5869028590229497, 0.6157723556733742, 0.5556865630828713, 0.5951961574558527, 0.5515360376789235, 0.2793032703518584, 0.6604081807336983, 0.6162686798389891, 0.26997586450619415, 0.6311991764150848, 0.6247963819234229, 0.6397926093710977, 0.5596588796082372, 0.318739405034189, 0.6568903004948619, 0.5731686693141919, 0.551473312050151, 0.6341138679482298, 0.6564839757734859, 0.6222390183776417, 0.6476997217139002, 0.5135983875714613, 0.0, 0.577377585520883, 0.5299818688972977, 0.6127626808626044, 0.6050322293155327, 0.0, 0.6678056691077463, 0.4634666074336228, 0.5493895363423165, 0.5193277249521904, 0.5832835639254463, 0.3970098909104403, 0.5754828243846347, 0.6221830703805049, 0.6130353570328534, 0.4800950160691414, 0.653221161083515, 0.5467399935793699, 0.6104804017415749, 0.6045797120511799, 0.593708454934162, 0.7269575497896184, 0.6860778265053218]}, {\"categories\": [\"0\", \"1\", \"2\", \"3\", \"4\", \"5\", \"6\", \"7\", \"8\", \"9\", \"10\", \"11\", \"12\", \"13\", \"14\", \"15\", \"16\", \"17\", \"18\", \"19\", \"20\", \"21\", \"22\", \"23\", \"24\", \"25\", \"26\", \"27\", \"28\", \"29\", \"30\", \"31\", \"32\", \"33\", \"34\", \"35\", \"36\", \"37\", \"38\", \"39\", \"40\", \"41\", \"42\", \"43\", \"44\", \"45\", \"50\", \"51\"], \"mode\": \"lines\", \"name\": \"matthews_correlation_max\", \"stepped\": true, \"type\": \"scatter\", \"data\": [0.5628617041183437, 0.6132552509330647, 0.6132552509330647, 0.6132552509330647, 0.6157723556733742, 0.6157723556733742, 0.6157723556733742, 0.6157723556733742, 0.6157723556733742, 0.6604081807336983, 0.6604081807336983, 0.6604081807336983, 0.6604081807336983, 0.6604081807336983, 0.6604081807336983, 0.6604081807336983, 0.6604081807336983, 0.6604081807336983, 0.6604081807336983, 0.6604081807336983, 0.6604081807336983, 0.6604081807336983, 0.6604081807336983, 0.6604081807336983, 0.6604081807336983, 0.6604081807336983, 0.6604081807336983, 0.6604081807336983, 0.6604081807336983, 0.6604081807336983, 0.6604081807336983, 0.6678056691077463, 0.6678056691077463, 0.6678056691077463, 0.6678056691077463, 0.6678056691077463, 0.6678056691077463, 0.6678056691077463, 0.6678056691077463, 0.6678056691077463, 0.6678056691077463, 0.6678056691077463, 0.6678056691077463, 0.6678056691077463, 0.6678056691077463, 0.6678056691077463, 0.7269575497896184, 0.7269575497896184]}], \"AUC_weighted\": [{\"categories\": [\"0\", \"1\", \"2\", \"3\", \"4\", \"5\", \"6\", \"7\", \"8\", \"9\", \"10\", \"11\", \"12\", \"13\", \"14\", \"15\", \"16\", \"17\", \"18\", \"19\", \"20\", \"21\", \"22\", \"23\", \"24\", \"25\", \"26\", \"27\", \"28\", \"29\", \"30\", \"31\", \"32\", \"33\", \"34\", \"35\", \"36\", \"37\", \"38\", \"39\", \"40\", \"41\", \"42\", \"43\", \"44\", \"45\", \"50\", \"51\"], \"mode\": \"markers\", \"name\": \"AUC_weighted\", \"stepped\": false, \"type\": \"scatter\", \"data\": [0.8811331210778885, 0.8929591177556293, 0.8965042220376522, 0.9062906053894426, 0.911455380214101, 0.8689101605758583, 0.8597037421557772, 0.8554288713547434, 0.7394446982281285, 0.894921534699151, 0.8907245985603544, 0.7084957318198597, 0.8876433877814691, 0.906530823181986, 0.8899048080472498, 0.8994653700627537, 0.8704584717607974, 0.8940481035437431, 0.8967023348098928, 0.8853673288113695, 0.8876623292727943, 0.8998145994832042, 0.8967994878183833, 0.9119476513473608, 0.9109567183462532, 0.5, 0.8939186277224067, 0.8484096530084904, 0.8604608250276854, 0.8979018318567737, 0.49074249031007755, 0.8933154069767442, 0.8624477436323368, 0.8798557585825029, 0.8880137043189368, 0.8888375899778517, 0.906468830749354, 0.8922782161314137, 0.8909584371539314, 0.8692055301771872, 0.8696237080103358, 0.9088345561092653, 0.8937907899593945, 0.9019089608711702, 0.8957542681801403, 0.8670613464377999, 0.9108596576227388, 0.9138537283130306]}, {\"categories\": [\"0\", \"1\", \"2\", \"3\", \"4\", \"5\", \"6\", \"7\", \"8\", \"9\", \"10\", \"11\", \"12\", \"13\", \"14\", \"15\", \"16\", \"17\", \"18\", \"19\", \"20\", \"21\", \"22\", \"23\", \"24\", \"25\", \"26\", \"27\", \"28\", \"29\", \"30\", \"31\", \"32\", \"33\", \"34\", \"35\", \"36\", \"37\", \"38\", \"39\", \"40\", \"41\", \"42\", \"43\", \"44\", \"45\", \"50\", \"51\"], \"mode\": \"lines\", \"name\": \"AUC_weighted_max\", \"stepped\": true, \"type\": \"scatter\", \"data\": [0.8811331210778885, 0.8929591177556293, 0.8965042220376522, 0.9062906053894426, 0.911455380214101, 0.911455380214101, 0.911455380214101, 0.911455380214101, 0.911455380214101, 0.911455380214101, 0.911455380214101, 0.911455380214101, 0.911455380214101, 0.911455380214101, 0.911455380214101, 0.911455380214101, 0.911455380214101, 0.911455380214101, 0.911455380214101, 0.911455380214101, 0.911455380214101, 0.911455380214101, 0.911455380214101, 0.9119476513473608, 0.9119476513473608, 0.9119476513473608, 0.9119476513473608, 0.9119476513473608, 0.9119476513473608, 0.9119476513473608, 0.9119476513473608, 0.9119476513473608, 0.9119476513473608, 0.9119476513473608, 0.9119476513473608, 0.9119476513473608, 0.9119476513473608, 0.9119476513473608, 0.9119476513473608, 0.9119476513473608, 0.9119476513473608, 0.9119476513473608, 0.9119476513473608, 0.9119476513473608, 0.9119476513473608, 0.9119476513473608, 0.9119476513473608, 0.9138537283130306]}], \"recall_score_micro\": [{\"categories\": [\"0\", \"1\", \"2\", \"3\", \"4\", \"5\", \"6\", \"7\", \"8\", \"9\", \"10\", \"11\", \"12\", \"13\", \"14\", \"15\", \"16\", \"17\", \"18\", \"19\", \"20\", \"21\", \"22\", \"23\", \"24\", \"25\", \"26\", \"27\", \"28\", \"29\", \"30\", \"31\", \"32\", \"33\", \"34\", \"35\", \"36\", \"37\", \"38\", \"39\", \"40\", \"41\", \"42\", \"43\", \"44\", \"45\", \"50\", \"51\"], \"mode\": \"markers\", \"name\": \"recall_score_micro\", \"stepped\": false, \"type\": \"scatter\", \"data\": [0.8059887005649717, 0.8259322033898304, 0.8259322033898305, 0.822768361581921, 0.8292655367231638, 0.7858757062146893, 0.8262146892655368, 0.8026553672316383, 0.7090960451977402, 0.846271186440678, 0.8261581920903955, 0.7024293785310733, 0.8329943502824859, 0.8326553672316385, 0.8428248587570621, 0.8092655367231639, 0.7258757062146893, 0.8496045197740113, 0.8161581920903955, 0.8027118644067797, 0.8396610169491525, 0.8493220338983051, 0.8361016949152542, 0.8427683615819209, 0.7927118644067795, 0.67909604519774, 0.8160451977401131, 0.7859887005649717, 0.8259322033898304, 0.8259322033898305, 0.67909604519774, 0.8529378531073446, 0.7761581920903955, 0.802768361581921, 0.7893785310734462, 0.8226553672316385, 0.7525423728813558, 0.8160451977401131, 0.836045197740113, 0.8295480225988701, 0.7859322033898306, 0.8495480225988701, 0.7993785310734463, 0.8293785310734464, 0.8194915254237287, 0.8260451977401129, 0.8763276836158193, 0.85954802259887]}, {\"categories\": [\"0\", \"1\", \"2\", \"3\", \"4\", \"5\", \"6\", \"7\", \"8\", \"9\", \"10\", \"11\", \"12\", \"13\", \"14\", \"15\", \"16\", \"17\", \"18\", \"19\", \"20\", \"21\", \"22\", \"23\", \"24\", \"25\", \"26\", \"27\", \"28\", \"29\", \"30\", \"31\", \"32\", \"33\", \"34\", \"35\", \"36\", \"37\", \"38\", \"39\", \"40\", \"41\", \"42\", \"43\", \"44\", \"45\", \"50\", \"51\"], \"mode\": \"lines\", \"name\": \"recall_score_micro_max\", \"stepped\": true, \"type\": \"scatter\", \"data\": [0.8059887005649717, 0.8259322033898304, 0.8259322033898305, 0.8259322033898305, 0.8292655367231638, 0.8292655367231638, 0.8292655367231638, 0.8292655367231638, 0.8292655367231638, 0.846271186440678, 0.846271186440678, 0.846271186440678, 0.846271186440678, 0.846271186440678, 0.846271186440678, 0.846271186440678, 0.846271186440678, 0.8496045197740113, 0.8496045197740113, 0.8496045197740113, 0.8496045197740113, 0.8496045197740113, 0.8496045197740113, 0.8496045197740113, 0.8496045197740113, 0.8496045197740113, 0.8496045197740113, 0.8496045197740113, 0.8496045197740113, 0.8496045197740113, 0.8496045197740113, 0.8529378531073446, 0.8529378531073446, 0.8529378531073446, 0.8529378531073446, 0.8529378531073446, 0.8529378531073446, 0.8529378531073446, 0.8529378531073446, 0.8529378531073446, 0.8529378531073446, 0.8529378531073446, 0.8529378531073446, 0.8529378531073446, 0.8529378531073446, 0.8529378531073446, 0.8763276836158193, 0.8763276836158193]}], \"precision_score_micro\": [{\"categories\": [\"0\", \"1\", \"2\", \"3\", \"4\", \"5\", \"6\", \"7\", \"8\", \"9\", \"10\", \"11\", \"12\", \"13\", \"14\", \"15\", \"16\", \"17\", \"18\", \"19\", \"20\", \"21\", \"22\", \"23\", \"24\", \"25\", \"26\", \"27\", \"28\", \"29\", \"30\", \"31\", \"32\", \"33\", \"34\", \"35\", \"36\", \"37\", \"38\", \"39\", \"40\", \"41\", \"42\", \"43\", \"44\", \"45\", \"50\", \"51\"], \"mode\": \"markers\", \"name\": \"precision_score_micro\", \"stepped\": false, \"type\": \"scatter\", \"data\": [0.8059887005649717, 0.8259322033898304, 0.8259322033898305, 0.822768361581921, 0.8292655367231638, 0.7858757062146893, 0.8262146892655368, 0.8026553672316383, 0.7090960451977402, 0.846271186440678, 0.8261581920903955, 0.7024293785310733, 0.8329943502824859, 0.8326553672316385, 0.8428248587570621, 0.8092655367231639, 0.7258757062146893, 0.8496045197740113, 0.8161581920903955, 0.8027118644067797, 0.8396610169491525, 0.8493220338983051, 0.8361016949152542, 0.8427683615819209, 0.7927118644067795, 0.67909604519774, 0.8160451977401131, 0.7859887005649717, 0.8259322033898304, 0.8259322033898305, 0.67909604519774, 0.8529378531073446, 0.7761581920903955, 0.802768361581921, 0.7893785310734462, 0.8226553672316385, 0.7525423728813558, 0.8160451977401131, 0.836045197740113, 0.8295480225988701, 0.7859322033898306, 0.8495480225988701, 0.7993785310734463, 0.8293785310734464, 0.8194915254237287, 0.8260451977401129, 0.8763276836158193, 0.85954802259887]}, {\"categories\": [\"0\", \"1\", \"2\", \"3\", \"4\", \"5\", \"6\", \"7\", \"8\", \"9\", \"10\", \"11\", \"12\", \"13\", \"14\", \"15\", \"16\", \"17\", \"18\", \"19\", \"20\", \"21\", \"22\", \"23\", \"24\", \"25\", \"26\", \"27\", \"28\", \"29\", \"30\", \"31\", \"32\", \"33\", \"34\", \"35\", \"36\", \"37\", \"38\", \"39\", \"40\", \"41\", \"42\", \"43\", \"44\", \"45\", \"50\", \"51\"], \"mode\": \"lines\", \"name\": \"precision_score_micro_max\", \"stepped\": true, \"type\": \"scatter\", \"data\": [0.8059887005649717, 0.8259322033898304, 0.8259322033898305, 0.8259322033898305, 0.8292655367231638, 0.8292655367231638, 0.8292655367231638, 0.8292655367231638, 0.8292655367231638, 0.846271186440678, 0.846271186440678, 0.846271186440678, 0.846271186440678, 0.846271186440678, 0.846271186440678, 0.846271186440678, 0.846271186440678, 0.8496045197740113, 0.8496045197740113, 0.8496045197740113, 0.8496045197740113, 0.8496045197740113, 0.8496045197740113, 0.8496045197740113, 0.8496045197740113, 0.8496045197740113, 0.8496045197740113, 0.8496045197740113, 0.8496045197740113, 0.8496045197740113, 0.8496045197740113, 0.8529378531073446, 0.8529378531073446, 0.8529378531073446, 0.8529378531073446, 0.8529378531073446, 0.8529378531073446, 0.8529378531073446, 0.8529378531073446, 0.8529378531073446, 0.8529378531073446, 0.8529378531073446, 0.8529378531073446, 0.8529378531073446, 0.8529378531073446, 0.8529378531073446, 0.8763276836158193, 0.8763276836158193]}], \"log_loss\": [{\"categories\": [\"0\", \"1\", \"2\", \"3\", \"4\", \"5\", \"6\", \"7\", \"8\", \"9\", \"10\", \"11\", \"12\", \"13\", \"14\", \"15\", \"16\", \"17\", \"18\", \"19\", \"20\", \"21\", \"22\", \"23\", \"24\", \"25\", \"26\", \"27\", \"28\", \"29\", \"30\", \"31\", \"32\", \"33\", \"34\", \"35\", \"36\", \"37\", \"38\", \"39\", \"40\", \"41\", \"42\", \"43\", \"44\", \"45\", \"50\", \"51\"], \"mode\": \"markers\", \"name\": \"log_loss\", \"stepped\": false, \"type\": \"scatter\", \"data\": [0.5282491261622873, 0.43217688137359717, 0.4015074750206282, 0.4034248127713596, 0.3836634929052917, 0.4712419319503035, 0.5059224639655611, 0.45854194154358885, 0.5848114507025074, 0.39668155380939407, 0.41609772050327454, 0.59545587283793, 0.41472333246893617, 0.3757789356147078, 0.44131205111052924, 0.402847525757828, 0.5269787159285023, 0.38995629857272407, 0.4331556229669603, 0.48738617928676964, 0.4049669611121631, 0.37922959433133485, 0.40415943038260804, 0.368321341986593, 0.4410367266022021, 0.6366032174508339, 0.4727004574854833, 0.6117213613630581, 0.5758368652969652, 0.4121331149236485, 0.6632875723288885, 0.4089885925996978, 0.4968994100807361, 0.4647339290667677, 0.4662481247923213, 0.5044404800443761, 0.48774577566085336, 0.4176242631905268, 0.4508375873329781, 0.4801134920302495, 0.4861907076403839, 0.405258343170931, 0.4787956498701397, 0.48378148298143275, 0.4087844365080896, 0.4854511188295307, 0.4000847584925241, 0.3872372365920064]}, {\"categories\": [\"0\", \"1\", \"2\", \"3\", \"4\", \"5\", \"6\", \"7\", \"8\", \"9\", \"10\", \"11\", \"12\", \"13\", \"14\", \"15\", \"16\", \"17\", \"18\", \"19\", \"20\", \"21\", \"22\", \"23\", \"24\", \"25\", \"26\", \"27\", \"28\", \"29\", \"30\", \"31\", \"32\", \"33\", \"34\", \"35\", \"36\", \"37\", \"38\", \"39\", \"40\", \"41\", \"42\", \"43\", \"44\", \"45\", \"50\", \"51\"], \"mode\": \"lines\", \"name\": \"log_loss_min\", \"stepped\": true, \"type\": \"scatter\", \"data\": [0.5282491261622873, 0.43217688137359717, 0.4015074750206282, 0.4015074750206282, 0.3836634929052917, 0.3836634929052917, 0.3836634929052917, 0.3836634929052917, 0.3836634929052917, 0.3836634929052917, 0.3836634929052917, 0.3836634929052917, 0.3836634929052917, 0.3757789356147078, 0.3757789356147078, 0.3757789356147078, 0.3757789356147078, 0.3757789356147078, 0.3757789356147078, 0.3757789356147078, 0.3757789356147078, 0.3757789356147078, 0.3757789356147078, 0.368321341986593, 0.368321341986593, 0.368321341986593, 0.368321341986593, 0.368321341986593, 0.368321341986593, 0.368321341986593, 0.368321341986593, 0.368321341986593, 0.368321341986593, 0.368321341986593, 0.368321341986593, 0.368321341986593, 0.368321341986593, 0.368321341986593, 0.368321341986593, 0.368321341986593, 0.368321341986593, 0.368321341986593, 0.368321341986593, 0.368321341986593, 0.368321341986593, 0.368321341986593, 0.368321341986593, 0.368321341986593]}], \"balanced_accuracy\": [{\"categories\": [\"0\", \"1\", \"2\", \"3\", \"4\", \"5\", \"6\", \"7\", \"8\", \"9\", \"10\", \"11\", \"12\", \"13\", \"14\", \"15\", \"16\", \"17\", \"18\", \"19\", \"20\", \"21\", \"22\", \"23\", \"24\", \"25\", \"26\", \"27\", \"28\", \"29\", \"30\", \"31\", \"32\", \"33\", \"34\", \"35\", \"36\", \"37\", \"38\", \"39\", \"40\", \"41\", \"42\", \"43\", \"44\", \"45\", \"50\", \"51\"], \"mode\": \"markers\", \"name\": \"balanced_accuracy\", \"stepped\": false, \"type\": \"scatter\", \"data\": [0.7760209025470652, 0.8060125968992248, 0.7966756644518272, 0.7798387320044295, 0.815060215946844, 0.790264396456257, 0.7784779900332226, 0.7621940753045404, 0.6132613510520487, 0.8268369324473974, 0.7896387043189369, 0.6082018272425249, 0.8043410852713178, 0.8118500830564784, 0.7926446566998893, 0.768312569213732, 0.5864880952380952, 0.8112458471760797, 0.7494601328903654, 0.7578107696566999, 0.810765503875969, 0.8227768549280177, 0.8035845791805094, 0.8146303986710963, 0.7143369324473976, 0.5, 0.7672155315614617, 0.7758935492801772, 0.816578073089701, 0.8075602159468438, 0.5, 0.8176744186046511, 0.6754761904761905, 0.7358928571428571, 0.7302768549280177, 0.7640351605758582, 0.6382696566998891, 0.7698726467331118, 0.797751245847176, 0.7984738372093023, 0.7146601605758582, 0.8116285991140643, 0.751531007751938, 0.8006637596899224, 0.7914797895902547, 0.7888226744186045, 0.8416666666666668, 0.8317774086378737]}, {\"categories\": [\"0\", \"1\", \"2\", \"3\", \"4\", \"5\", \"6\", \"7\", \"8\", \"9\", \"10\", \"11\", \"12\", \"13\", \"14\", \"15\", \"16\", \"17\", \"18\", \"19\", \"20\", \"21\", \"22\", \"23\", \"24\", \"25\", \"26\", \"27\", \"28\", \"29\", \"30\", \"31\", \"32\", \"33\", \"34\", \"35\", \"36\", \"37\", \"38\", \"39\", \"40\", \"41\", \"42\", \"43\", \"44\", \"45\", \"50\", \"51\"], \"mode\": \"lines\", \"name\": \"balanced_accuracy_max\", \"stepped\": true, \"type\": \"scatter\", \"data\": [0.7760209025470652, 0.8060125968992248, 0.8060125968992248, 0.8060125968992248, 0.815060215946844, 0.815060215946844, 0.815060215946844, 0.815060215946844, 0.815060215946844, 0.8268369324473974, 0.8268369324473974, 0.8268369324473974, 0.8268369324473974, 0.8268369324473974, 0.8268369324473974, 0.8268369324473974, 0.8268369324473974, 0.8268369324473974, 0.8268369324473974, 0.8268369324473974, 0.8268369324473974, 0.8268369324473974, 0.8268369324473974, 0.8268369324473974, 0.8268369324473974, 0.8268369324473974, 0.8268369324473974, 0.8268369324473974, 0.8268369324473974, 0.8268369324473974, 0.8268369324473974, 0.8268369324473974, 0.8268369324473974, 0.8268369324473974, 0.8268369324473974, 0.8268369324473974, 0.8268369324473974, 0.8268369324473974, 0.8268369324473974, 0.8268369324473974, 0.8268369324473974, 0.8268369324473974, 0.8268369324473974, 0.8268369324473974, 0.8268369324473974, 0.8268369324473974, 0.8416666666666668, 0.8416666666666668]}], \"recall_score_weighted\": [{\"categories\": [\"0\", \"1\", \"2\", \"3\", \"4\", \"5\", \"6\", \"7\", \"8\", \"9\", \"10\", \"11\", \"12\", \"13\", \"14\", \"15\", \"16\", \"17\", \"18\", \"19\", \"20\", \"21\", \"22\", \"23\", \"24\", \"25\", \"26\", \"27\", \"28\", \"29\", \"30\", \"31\", \"32\", \"33\", \"34\", \"35\", \"36\", \"37\", \"38\", \"39\", \"40\", \"41\", \"42\", \"43\", \"44\", \"45\", \"50\", \"51\"], \"mode\": \"markers\", \"name\": \"recall_score_weighted\", \"stepped\": false, \"type\": \"scatter\", \"data\": [0.8059887005649717, 0.8259322033898304, 0.8259322033898305, 0.822768361581921, 0.8292655367231638, 0.7858757062146893, 0.8262146892655368, 0.8026553672316383, 0.7090960451977402, 0.846271186440678, 0.8261581920903955, 0.7024293785310733, 0.8329943502824859, 0.8326553672316385, 0.8428248587570621, 0.8092655367231639, 0.7258757062146893, 0.8496045197740113, 0.8161581920903955, 0.8027118644067797, 0.8396610169491525, 0.8493220338983051, 0.8361016949152542, 0.8427683615819209, 0.7927118644067795, 0.67909604519774, 0.8160451977401131, 0.7859887005649717, 0.8259322033898304, 0.8259322033898305, 0.67909604519774, 0.8529378531073446, 0.7761581920903955, 0.802768361581921, 0.7893785310734462, 0.8226553672316385, 0.7525423728813558, 0.8160451977401131, 0.836045197740113, 0.8295480225988701, 0.7859322033898306, 0.8495480225988701, 0.7993785310734463, 0.8293785310734464, 0.8194915254237287, 0.8260451977401129, 0.8763276836158193, 0.85954802259887]}, {\"categories\": [\"0\", \"1\", \"2\", \"3\", \"4\", \"5\", \"6\", \"7\", \"8\", \"9\", \"10\", \"11\", \"12\", \"13\", \"14\", \"15\", \"16\", \"17\", \"18\", \"19\", \"20\", \"21\", \"22\", \"23\", \"24\", \"25\", \"26\", \"27\", \"28\", \"29\", \"30\", \"31\", \"32\", \"33\", \"34\", \"35\", \"36\", \"37\", \"38\", \"39\", \"40\", \"41\", \"42\", \"43\", \"44\", \"45\", \"50\", \"51\"], \"mode\": \"lines\", \"name\": \"recall_score_weighted_max\", \"stepped\": true, \"type\": \"scatter\", \"data\": [0.8059887005649717, 0.8259322033898304, 0.8259322033898305, 0.8259322033898305, 0.8292655367231638, 0.8292655367231638, 0.8292655367231638, 0.8292655367231638, 0.8292655367231638, 0.846271186440678, 0.846271186440678, 0.846271186440678, 0.846271186440678, 0.846271186440678, 0.846271186440678, 0.846271186440678, 0.846271186440678, 0.8496045197740113, 0.8496045197740113, 0.8496045197740113, 0.8496045197740113, 0.8496045197740113, 0.8496045197740113, 0.8496045197740113, 0.8496045197740113, 0.8496045197740113, 0.8496045197740113, 0.8496045197740113, 0.8496045197740113, 0.8496045197740113, 0.8496045197740113, 0.8529378531073446, 0.8529378531073446, 0.8529378531073446, 0.8529378531073446, 0.8529378531073446, 0.8529378531073446, 0.8529378531073446, 0.8529378531073446, 0.8529378531073446, 0.8529378531073446, 0.8529378531073446, 0.8529378531073446, 0.8529378531073446, 0.8529378531073446, 0.8529378531073446, 0.8763276836158193, 0.8763276836158193]}], \"recall_score_macro\": [{\"categories\": [\"0\", \"1\", \"2\", \"3\", \"4\", \"5\", \"6\", \"7\", \"8\", \"9\", \"10\", \"11\", \"12\", \"13\", \"14\", \"15\", \"16\", \"17\", \"18\", \"19\", \"20\", \"21\", \"22\", \"23\", \"24\", \"25\", \"26\", \"27\", \"28\", \"29\", \"30\", \"31\", \"32\", \"33\", \"34\", \"35\", \"36\", \"37\", \"38\", \"39\", \"40\", \"41\", \"42\", \"43\", \"44\", \"45\", \"50\", \"51\"], \"mode\": \"markers\", \"name\": \"recall_score_macro\", \"stepped\": false, \"type\": \"scatter\", \"data\": [0.7760209025470652, 0.8060125968992248, 0.7966756644518272, 0.7798387320044295, 0.815060215946844, 0.790264396456257, 0.7784779900332226, 0.7621940753045404, 0.6132613510520487, 0.8268369324473974, 0.7896387043189369, 0.6082018272425249, 0.8043410852713178, 0.8118500830564784, 0.7926446566998893, 0.768312569213732, 0.5864880952380952, 0.8112458471760797, 0.7494601328903654, 0.7578107696566999, 0.810765503875969, 0.8227768549280177, 0.8035845791805094, 0.8146303986710963, 0.7143369324473976, 0.5, 0.7672155315614617, 0.7758935492801772, 0.816578073089701, 0.8075602159468438, 0.5, 0.8176744186046511, 0.6754761904761905, 0.7358928571428571, 0.7302768549280177, 0.7640351605758582, 0.6382696566998891, 0.7698726467331118, 0.797751245847176, 0.7984738372093023, 0.7146601605758582, 0.8116285991140643, 0.751531007751938, 0.8006637596899224, 0.7914797895902547, 0.7888226744186045, 0.8416666666666668, 0.8317774086378737]}, {\"categories\": [\"0\", \"1\", \"2\", \"3\", \"4\", \"5\", \"6\", \"7\", \"8\", \"9\", \"10\", \"11\", \"12\", \"13\", \"14\", \"15\", \"16\", \"17\", \"18\", \"19\", \"20\", \"21\", \"22\", \"23\", \"24\", \"25\", \"26\", \"27\", \"28\", \"29\", \"30\", \"31\", \"32\", \"33\", \"34\", \"35\", \"36\", \"37\", \"38\", \"39\", \"40\", \"41\", \"42\", \"43\", \"44\", \"45\", \"50\", \"51\"], \"mode\": \"lines\", \"name\": \"recall_score_macro_max\", \"stepped\": true, \"type\": \"scatter\", \"data\": [0.7760209025470652, 0.8060125968992248, 0.8060125968992248, 0.8060125968992248, 0.815060215946844, 0.815060215946844, 0.815060215946844, 0.815060215946844, 0.815060215946844, 0.8268369324473974, 0.8268369324473974, 0.8268369324473974, 0.8268369324473974, 0.8268369324473974, 0.8268369324473974, 0.8268369324473974, 0.8268369324473974, 0.8268369324473974, 0.8268369324473974, 0.8268369324473974, 0.8268369324473974, 0.8268369324473974, 0.8268369324473974, 0.8268369324473974, 0.8268369324473974, 0.8268369324473974, 0.8268369324473974, 0.8268369324473974, 0.8268369324473974, 0.8268369324473974, 0.8268369324473974, 0.8268369324473974, 0.8268369324473974, 0.8268369324473974, 0.8268369324473974, 0.8268369324473974, 0.8268369324473974, 0.8268369324473974, 0.8268369324473974, 0.8268369324473974, 0.8268369324473974, 0.8268369324473974, 0.8268369324473974, 0.8268369324473974, 0.8268369324473974, 0.8268369324473974, 0.8416666666666668, 0.8416666666666668]}], \"precision_score_weighted\": [{\"categories\": [\"0\", \"1\", \"2\", \"3\", \"4\", \"5\", \"6\", \"7\", \"8\", \"9\", \"10\", \"11\", \"12\", \"13\", \"14\", \"15\", \"16\", \"17\", \"18\", \"19\", \"20\", \"21\", \"22\", \"23\", \"24\", \"25\", \"26\", \"27\", \"28\", \"29\", \"30\", \"31\", \"32\", \"33\", \"34\", \"35\", \"36\", \"37\", \"38\", \"39\", \"40\", \"41\", \"42\", \"43\", \"44\", \"45\", \"50\", \"51\"], \"mode\": \"markers\", \"name\": \"precision_score_weighted\", \"stepped\": false, \"type\": \"scatter\", \"data\": [0.8237683758533973, 0.8403871377947292, 0.8398650977608988, 0.8347296474482937, 0.8459296665292036, 0.8281063748160429, 0.8400417638505019, 0.8237960368584666, 0.7197582005576889, 0.8646464804683163, 0.852412546738455, 0.7193498323209082, 0.8531774663897151, 0.8481320034863066, 0.8558700053828702, 0.8261621101752858, 0.7951590026255504, 0.8634172995690739, 0.8351820421085817, 0.8226124253630431, 0.8486564553883307, 0.862468591748528, 0.8486035811350184, 0.8621580352821209, 0.8165674418823906, 0.4689005075169971, 0.8315673124386462, 0.8073589548081254, 0.8443293521485689, 0.8407984483545071, 0.4689005075169971, 0.8687207598704729, 0.8015801171982627, 0.8310137919373973, 0.8126060031474488, 0.8353061511935346, 0.7872488445041478, 0.837366546824174, 0.8477966743810518, 0.844874905916301, 0.7929084492375365, 0.8580918358497641, 0.8280620981015933, 0.8418748583494347, 0.8465636956826131, 0.8302549689921035, 0.893293760159746, 0.8774733274866721]}, {\"categories\": [\"0\", \"1\", \"2\", \"3\", \"4\", \"5\", \"6\", \"7\", \"8\", \"9\", \"10\", \"11\", \"12\", \"13\", \"14\", \"15\", \"16\", \"17\", \"18\", \"19\", \"20\", \"21\", \"22\", \"23\", \"24\", \"25\", \"26\", \"27\", \"28\", \"29\", \"30\", \"31\", \"32\", \"33\", \"34\", \"35\", \"36\", \"37\", \"38\", \"39\", \"40\", \"41\", \"42\", \"43\", \"44\", \"45\", \"50\", \"51\"], \"mode\": \"lines\", \"name\": \"precision_score_weighted_max\", \"stepped\": true, \"type\": \"scatter\", \"data\": [0.8237683758533973, 0.8403871377947292, 0.8403871377947292, 0.8403871377947292, 0.8459296665292036, 0.8459296665292036, 0.8459296665292036, 0.8459296665292036, 0.8459296665292036, 0.8646464804683163, 0.8646464804683163, 0.8646464804683163, 0.8646464804683163, 0.8646464804683163, 0.8646464804683163, 0.8646464804683163, 0.8646464804683163, 0.8646464804683163, 0.8646464804683163, 0.8646464804683163, 0.8646464804683163, 0.8646464804683163, 0.8646464804683163, 0.8646464804683163, 0.8646464804683163, 0.8646464804683163, 0.8646464804683163, 0.8646464804683163, 0.8646464804683163, 0.8646464804683163, 0.8646464804683163, 0.8687207598704729, 0.8687207598704729, 0.8687207598704729, 0.8687207598704729, 0.8687207598704729, 0.8687207598704729, 0.8687207598704729, 0.8687207598704729, 0.8687207598704729, 0.8687207598704729, 0.8687207598704729, 0.8687207598704729, 0.8687207598704729, 0.8687207598704729, 0.8687207598704729, 0.893293760159746, 0.893293760159746]}], \"AUC_micro\": [{\"categories\": [\"0\", \"1\", \"2\", \"3\", \"4\", \"5\", \"6\", \"7\", \"8\", \"9\", \"10\", \"11\", \"12\", \"13\", \"14\", \"15\", \"16\", \"17\", \"18\", \"19\", \"20\", \"21\", \"22\", \"23\", \"24\", \"25\", \"26\", \"27\", \"28\", \"29\", \"30\", \"31\", \"32\", \"33\", \"34\", \"35\", \"36\", \"37\", \"38\", \"39\", \"40\", \"41\", \"42\", \"43\", \"44\", \"45\", \"50\", \"51\"], \"mode\": \"markers\", \"name\": \"AUC_micro\", \"stepped\": false, \"type\": \"scatter\", \"data\": [0.8880105014523284, 0.8999905678444892, 0.8995000638386159, 0.9084283571132177, 0.915268345622267, 0.862542340962048, 0.8826676721248683, 0.8629338232947109, 0.7826703294072584, 0.9035812346388331, 0.8961263525806761, 0.7653265584602126, 0.8939478119314372, 0.913340036388011, 0.8911752689201698, 0.9018409939672509, 0.8453732963069361, 0.9057792460659453, 0.8947004372945194, 0.8780171566280442, 0.8995741166331512, 0.9099473491014715, 0.9034649206805195, 0.917689983721153, 0.897897491142392, 0.6790960451977401, 0.8864027259089022, 0.8569658782597592, 0.8684635162309682, 0.8938348335408088, 0.6724179833381212, 0.9040256790832775, 0.860301573621884, 0.8813889527275048, 0.880520955025695, 0.8911529573238852, 0.8707654888442018, 0.892373743177248, 0.8865636949790927, 0.8870817134284529, 0.8690000478789621, 0.9142227488908039, 0.8822626480257908, 0.9091980752657282, 0.8961149573877238, 0.8730850649557919, 0.9142065977209614, 0.9105033674869928]}, {\"categories\": [\"0\", \"1\", \"2\", \"3\", \"4\", \"5\", \"6\", \"7\", \"8\", \"9\", \"10\", \"11\", \"12\", \"13\", \"14\", \"15\", \"16\", \"17\", \"18\", \"19\", \"20\", \"21\", \"22\", \"23\", \"24\", \"25\", \"26\", \"27\", \"28\", \"29\", \"30\", \"31\", \"32\", \"33\", \"34\", \"35\", \"36\", \"37\", \"38\", \"39\", \"40\", \"41\", \"42\", \"43\", \"44\", \"45\", \"50\", \"51\"], \"mode\": \"lines\", \"name\": \"AUC_micro_max\", \"stepped\": true, \"type\": \"scatter\", \"data\": [0.8880105014523284, 0.8999905678444892, 0.8999905678444892, 0.9084283571132177, 0.915268345622267, 0.915268345622267, 0.915268345622267, 0.915268345622267, 0.915268345622267, 0.915268345622267, 0.915268345622267, 0.915268345622267, 0.915268345622267, 0.915268345622267, 0.915268345622267, 0.915268345622267, 0.915268345622267, 0.915268345622267, 0.915268345622267, 0.915268345622267, 0.915268345622267, 0.915268345622267, 0.915268345622267, 0.917689983721153, 0.917689983721153, 0.917689983721153, 0.917689983721153, 0.917689983721153, 0.917689983721153, 0.917689983721153, 0.917689983721153, 0.917689983721153, 0.917689983721153, 0.917689983721153, 0.917689983721153, 0.917689983721153, 0.917689983721153, 0.917689983721153, 0.917689983721153, 0.917689983721153, 0.917689983721153, 0.917689983721153, 0.917689983721153, 0.917689983721153, 0.917689983721153, 0.917689983721153, 0.917689983721153, 0.917689983721153]}]}, \"metricName\": null, \"primaryMetricName\": \"accuracy\", \"showLegend\": false}, \"run_metrics\": [{\"name\": \"experiment_status\", \"run_id\": \"AutoML_aee3095f-aebf-486a-863a-869674d7d68d\", \"categories\": [0, 1, 2, 3, 4, 5, 6, 7, 8, 9, 10, 11, 12, 13], \"series\": [{\"data\": [\"DatasetEvaluation\", \"FeaturesGeneration\", \"DatasetFeaturization\", \"DatasetFeaturizationCompleted\", \"DatasetCrossValidationSplit\", \"ModelSelection\", \"BestRunExplainModel\", \"ModelExplanationDataSetSetup\", \"PickSurrogateModel\", \"EngineeredFeatureExplanations\", \"EngineeredFeatureExplanations\", \"RawFeaturesExplanations\", \"RawFeaturesExplanations\", \"BestRunExplainModel\"]}]}, {\"name\": \"experiment_status_description\", \"run_id\": \"AutoML_aee3095f-aebf-486a-863a-869674d7d68d\", \"categories\": [0, 1, 2, 3, 4, 5, 6, 7, 8, 9, 10, 11, 12, 13], \"series\": [{\"data\": [\"Gathering dataset statistics.\", \"Generating features for the dataset.\", \"Beginning to fit featurizers and featurize the dataset.\", \"Completed fit featurizers and featurizing the dataset.\", \"Generating individually featurized CV splits.\", \"Beginning model selection.\", \"Best run model explanations started\", \"Model explanations data setup completed\", \"Choosing LightGBM as the surrogate model for explanations\", \"Computation of engineered features started\", \"Computation of engineered features completed\", \"Computation of raw features started\", \"Computation of raw features completed\", \"Best run model explanations completed\"]}]}, {\"name\": \"average_precision_score_macro\", \"run_id\": \"AutoML_aee3095f-aebf-486a-863a-869674d7d68d\", \"categories\": [0], \"series\": [{\"data\": [0.8965977031743249]}]}, {\"name\": \"precision_score_micro\", \"run_id\": \"AutoML_aee3095f-aebf-486a-863a-869674d7d68d\", \"categories\": [0], \"series\": [{\"data\": [0.8763276836158193]}]}, {\"name\": \"balanced_accuracy\", \"run_id\": \"AutoML_aee3095f-aebf-486a-863a-869674d7d68d\", \"categories\": [0], \"series\": [{\"data\": [0.8416666666666668]}]}, {\"name\": \"accuracy\", \"run_id\": \"AutoML_aee3095f-aebf-486a-863a-869674d7d68d\", \"categories\": [0], \"series\": [{\"data\": [0.8763276836158193]}]}, {\"name\": \"average_precision_score_micro\", \"run_id\": \"AutoML_aee3095f-aebf-486a-863a-869674d7d68d\", \"categories\": [0], \"series\": [{\"data\": [0.916008586872039]}]}, {\"name\": \"average_precision_score_weighted\", \"run_id\": \"AutoML_aee3095f-aebf-486a-863a-869674d7d68d\", \"categories\": [0], \"series\": [{\"data\": [0.9207681681542855]}]}, {\"name\": \"weighted_accuracy\", \"run_id\": \"AutoML_aee3095f-aebf-486a-863a-869674d7d68d\", \"categories\": [0], \"series\": [{\"data\": [0.8997121064304476]}]}, {\"name\": \"recall_score_weighted\", \"run_id\": \"AutoML_aee3095f-aebf-486a-863a-869674d7d68d\", \"categories\": [0], \"series\": [{\"data\": [0.8763276836158193]}]}, {\"name\": \"AUC_micro\", \"run_id\": \"AutoML_aee3095f-aebf-486a-863a-869674d7d68d\", \"categories\": [0], \"series\": [{\"data\": [0.9142065977209614]}]}, {\"name\": \"matthews_correlation\", \"run_id\": \"AutoML_aee3095f-aebf-486a-863a-869674d7d68d\", \"categories\": [0], \"series\": [{\"data\": [0.7269575497896184]}]}, {\"name\": \"recall_score_macro\", \"run_id\": \"AutoML_aee3095f-aebf-486a-863a-869674d7d68d\", \"categories\": [0], \"series\": [{\"data\": [0.8416666666666668]}]}, {\"name\": \"norm_macro_recall\", \"run_id\": \"AutoML_aee3095f-aebf-486a-863a-869674d7d68d\", \"categories\": [0], \"series\": [{\"data\": [0.6833333333333333]}]}, {\"name\": \"f1_score_micro\", \"run_id\": \"AutoML_aee3095f-aebf-486a-863a-869674d7d68d\", \"categories\": [0], \"series\": [{\"data\": [0.8763276836158193]}]}, {\"name\": \"AUC_macro\", \"run_id\": \"AutoML_aee3095f-aebf-486a-863a-869674d7d68d\", \"categories\": [0], \"series\": [{\"data\": [0.9108596576227391]}]}, {\"name\": \"f1_score_weighted\", \"run_id\": \"AutoML_aee3095f-aebf-486a-863a-869674d7d68d\", \"categories\": [0], \"series\": [{\"data\": [0.8709088221678037]}]}, {\"name\": \"f1_score_macro\", \"run_id\": \"AutoML_aee3095f-aebf-486a-863a-869674d7d68d\", \"categories\": [0], \"series\": [{\"data\": [0.8492454760969371]}]}, {\"name\": \"precision_score_weighted\", \"run_id\": \"AutoML_aee3095f-aebf-486a-863a-869674d7d68d\", \"categories\": [0], \"series\": [{\"data\": [0.893293760159746]}]}, {\"name\": \"precision_score_macro\", \"run_id\": \"AutoML_aee3095f-aebf-486a-863a-869674d7d68d\", \"categories\": [0], \"series\": [{\"data\": [0.88911213872394]}]}, {\"name\": \"AUC_weighted\", \"run_id\": \"AutoML_aee3095f-aebf-486a-863a-869674d7d68d\", \"categories\": [0], \"series\": [{\"data\": [0.9108596576227388]}]}, {\"name\": \"log_loss\", \"run_id\": \"AutoML_aee3095f-aebf-486a-863a-869674d7d68d\", \"categories\": [0], \"series\": [{\"data\": [0.4000847584925241]}]}, {\"name\": \"recall_score_micro\", \"run_id\": \"AutoML_aee3095f-aebf-486a-863a-869674d7d68d\", \"categories\": [0], \"series\": [{\"data\": [0.8763276836158193]}]}], \"run_logs\": \"\\nRun is completed.\", \"graph\": {}, \"widget_settings\": {\"childWidgetDisplay\": \"popup\", \"send_telemetry\": false, \"log_level\": \"INFO\", \"sdk_version\": \"1.27.0\"}, \"loading\": false}"
          },
          "metadata": {}
        },
        {
          "output_type": "display_data",
          "data": {
            "text/plain": "<IPython.core.display.HTML object>",
            "text/html": "<table style=\"width:100%\"><tr><th>Experiment</th><th>Id</th><th>Type</th><th>Status</th><th>Details Page</th><th>Docs Page</th></tr><tr><td>heart-failure-aml-exp</td><td>AutoML_aee3095f-aebf-486a-863a-869674d7d68d</td><td>automl</td><td>NotStarted</td><td><a href=\"https://ml.azure.com/runs/AutoML_aee3095f-aebf-486a-863a-869674d7d68d?wsid=/subscriptions/b329467a-d1f8-4c9b-b3dc-95cdc7bff7fa/resourcegroups/udacity-ml-capstone-rg/workspaces/udacity-ml-capstone-ws&amp;tid=d2e5496e-227d-4db9-89b8-356c2cf9a452\" target=\"_blank\" rel=\"noopener\">Link to Azure Machine Learning studio</a></td><td><a href=\"https://docs.microsoft.com/en-us/python/api/overview/azure/ml/intro?view=azure-ml-py\" target=\"_blank\" rel=\"noopener\">Link to Documentation</a></td></tr></table>"
          },
          "metadata": {}
        },
        {
          "output_type": "stream",
          "name": "stdout",
          "text": [
            "\n",
            "Current status: FeaturesGeneration. Generating features for the dataset.\n",
            "Current status: ModelSelection. Beginning model selection.\n",
            "\n",
            "****************************************************************************************************\n",
            "DATA GUARDRAILS: \n",
            "\n",
            "TYPE:         Class balancing detection\n",
            "STATUS:       PASSED\n",
            "DESCRIPTION:  Your inputs were analyzed, and all classes are balanced in your training data.\n",
            "              Learn more about imbalanced data: https://aka.ms/AutomatedMLImbalancedData\n",
            "\n",
            "****************************************************************************************************\n",
            "\n",
            "TYPE:         Missing feature values imputation\n",
            "STATUS:       PASSED\n",
            "DESCRIPTION:  No feature missing values were detected in the training data.\n",
            "              Learn more about missing value imputation: https://aka.ms/AutomatedMLFeaturization\n",
            "\n",
            "****************************************************************************************************\n",
            "\n",
            "TYPE:         High cardinality feature detection\n",
            "STATUS:       PASSED\n",
            "DESCRIPTION:  Your inputs were analyzed, and no high cardinality features were detected.\n",
            "              Learn more about high cardinality feature handling: https://aka.ms/AutomatedMLFeaturization\n",
            "\n",
            "****************************************************************************************************\n",
            "\n",
            "****************************************************************************************************\n",
            "ITERATION: The iteration being evaluated.\n",
            "PIPELINE: A summary description of the pipeline being evaluated.\n",
            "DURATION: Time taken for the current iteration.\n",
            "METRIC: The result of computing score on the fitted pipeline.\n",
            "BEST: The best observed score thus far.\n",
            "****************************************************************************************************\n",
            "\n",
            " ITERATION   PIPELINE                                       DURATION      METRIC      BEST\n",
            "         0   MaxAbsScaler LightGBM                          0:00:47       0.8060    0.8060\n",
            "         3   MinMaxScaler RandomForest                      0:00:53       0.8228    0.8228\n",
            "         1   MaxAbsScaler XGBoostClassifier                 0:00:52       0.8259    0.8259\n",
            "         2   MinMaxScaler RandomForest                      0:00:44       0.8259    0.8259\n",
            "         4   MinMaxScaler RandomForest                      0:01:52       0.8293    0.8293\n",
            "         5   RobustScaler LogisticRegression                0:00:52       0.7859    0.8293\n",
            "         6   SparseNormalizer XGBoostClassifier             0:00:49       0.8262    0.8293\n",
            "         7   StandardScalerWrapper SVM                      0:00:51       0.8027    0.8293\n",
            "         8   MinMaxScaler SVM                               0:00:51       0.7091    0.8293\n",
            "         9   SparseNormalizer XGBoostClassifier             0:00:55       0.8463    0.8463\n",
            "        10   SparseNormalizer XGBoostClassifier             0:00:49       0.8262    0.8463\n",
            "        11   MinMaxScaler SVM                               0:00:46       0.7024    0.8463\n",
            "        12   SparseNormalizer LightGBM                      0:00:47       0.8330    0.8463\n",
            "        13   MaxAbsScaler GradientBoosting                  0:00:46       0.8327    0.8463\n",
            "        14   MaxAbsScaler ExtremeRandomTrees                0:00:56       0.8428    0.8463\n",
            "        15   StandardScalerWrapper LightGBM                 0:00:45       0.8093    0.8463\n",
            "        16   StandardScalerWrapper LightGBM                 0:00:48       0.7259    0.8463\n",
            "        17   SparseNormalizer XGBoostClassifier             0:00:49       0.8496    0.8496\n",
            "        18   MinMaxScaler LightGBM                          0:00:46       0.8162    0.8496\n",
            "        19   MaxAbsScaler LightGBM                          0:00:51       0.8027    0.8496\n",
            "        20   SparseNormalizer XGBoostClassifier             0:00:47       0.8397    0.8496\n",
            "        21   MaxAbsScaler LightGBM                          0:00:44       0.8493    0.8496\n",
            "        22   MinMaxScaler LightGBM                          0:00:49       0.8361    0.8496\n",
            "        23   StandardScalerWrapper GradientBoosting         0:00:48       0.8428    0.8496\n",
            "        24   StandardScalerWrapper RandomForest             0:00:49       0.7927    0.8496\n",
            "        25   SparseNormalizer XGBoostClassifier             0:00:52       0.6791    0.8496\n",
            "        26   StandardScalerWrapper LightGBM                 0:00:54       0.8160    0.8496\n",
            "        27   SparseNormalizer ExtremeRandomTrees            0:00:48       0.7860    0.8496\n",
            "        28   StandardScalerWrapper ExtremeRandomTrees       0:00:51       0.8259    0.8496\n",
            "        29   MaxAbsScaler RandomForest                      0:00:49       0.8259    0.8496\n",
            "        30   PCA XGBoostClassifier                          0:00:48       0.6791    0.8496\n",
            "        31   SparseNormalizer XGBoostClassifier             0:00:50       0.8529    0.8529\n",
            "        32   SparseNormalizer ExtremeRandomTrees            0:00:49       0.7762    0.8529\n",
            "        33   RobustScaler LightGBM                          0:00:54       0.8028    0.8529\n",
            "        34   StandardScalerWrapper LightGBM                 0:00:50       0.7894    0.8529\n",
            "        35   StandardScalerWrapper XGBoostClassifier        0:00:55       0.8227    0.8529\n",
            "        36   MaxAbsScaler RandomForest                      0:00:50       0.7525    0.8529\n",
            "        37   SparseNormalizer LightGBM                      0:00:51       0.8160    0.8529\n",
            "        38   MaxAbsScaler LightGBM                          0:00:49       0.8360    0.8529\n",
            "        39   SparseNormalizer XGBoostClassifier             0:00:51       0.8295    0.8529\n",
            "        40   SparseNormalizer XGBoostClassifier             0:00:50       0.7859    0.8529\n",
            "        41   RobustScaler RandomForest                      0:00:51       0.8495    0.8529\n",
            "        42   MinMaxScaler LightGBM                          0:00:50       0.7994    0.8529\n",
            "        43   StandardScalerWrapper RandomForest             0:00:56       0.8294    0.8529\n",
            "        44   SparseNormalizer XGBoostClassifier             0:00:50       0.8195    0.8529\n",
            "        45   StandardScalerWrapper XGBoostClassifier        0:00:49       0.8260    0.8529\n",
            "        48                                                  0:00:31          nan    0.8529\n",
            "        49                                                  0:00:27          nan    0.8529\n",
            "        46   MinMaxScaler LightGBM                          0:00:23          nan    0.8529\n",
            "        47                                                  0:00:13          nan    0.8529\n",
            "        50    VotingEnsemble                                0:01:18       0.8763    0.8763\n",
            "        51    StackEnsemble                                 0:01:16       0.8595    0.8763\n"
          ]
        },
        {
          "output_type": "execute_result",
          "execution_count": 8,
          "data": {
            "text/plain": "Run(Experiment: heart-failure-aml-exp,\nId: AutoML_aee3095f-aebf-486a-863a-869674d7d68d,\nType: automl,\nStatus: Completed)",
            "text/html": "<table style=\"width:100%\"><tr><th>Experiment</th><th>Id</th><th>Type</th><th>Status</th><th>Details Page</th><th>Docs Page</th></tr><tr><td>heart-failure-aml-exp</td><td>AutoML_aee3095f-aebf-486a-863a-869674d7d68d</td><td>automl</td><td>Completed</td><td><a href=\"https://ml.azure.com/runs/AutoML_aee3095f-aebf-486a-863a-869674d7d68d?wsid=/subscriptions/b329467a-d1f8-4c9b-b3dc-95cdc7bff7fa/resourcegroups/udacity-ml-capstone-rg/workspaces/udacity-ml-capstone-ws&amp;tid=d2e5496e-227d-4db9-89b8-356c2cf9a452\" target=\"_blank\" rel=\"noopener\">Link to Azure Machine Learning studio</a></td><td><a href=\"https://docs.microsoft.com/en-us/python/api/overview/azure/ml/intro?view=azure-ml-py\" target=\"_blank\" rel=\"noopener\">Link to Documentation</a></td></tr></table>"
          },
          "metadata": {}
        }
      ],
      "execution_count": 8,
      "metadata": {
        "gather": {
          "logged": 1620764219749
        },
        "jupyter": {
          "outputs_hidden": false,
          "source_hidden": false
        },
        "nteract": {
          "transient": {
            "deleting": false
          }
        }
      }
    },
    {
      "cell_type": "markdown",
      "source": [
        "## Best Model\n",
        "\n",
        "The cell below gets the best model from the AutoML experiments and display all the properties of the model."
      ],
      "metadata": {}
    },
    {
      "cell_type": "code",
      "source": [
        "# Retrieve and save the best model\n",
        "best_run, fitted_model = remote_run.get_output()\n",
        "remote_run.get_metrics()"
      ],
      "outputs": [
        {
          "output_type": "execute_result",
          "execution_count": 9,
          "data": {
            "text/plain": "{'experiment_status': ['DatasetEvaluation',\n  'FeaturesGeneration',\n  'DatasetFeaturization',\n  'DatasetFeaturizationCompleted',\n  'DatasetCrossValidationSplit',\n  'ModelSelection'],\n 'experiment_status_description': ['Gathering dataset statistics.',\n  'Generating features for the dataset.',\n  'Beginning to fit featurizers and featurize the dataset.',\n  'Completed fit featurizers and featurizing the dataset.',\n  'Generating individually featurized CV splits.',\n  'Beginning model selection.'],\n 'average_precision_score_macro': 0.8965977031743249,\n 'precision_score_micro': 0.8763276836158193,\n 'balanced_accuracy': 0.8416666666666668,\n 'accuracy': 0.8763276836158193,\n 'average_precision_score_micro': 0.916008586872039,\n 'average_precision_score_weighted': 0.9207681681542855,\n 'weighted_accuracy': 0.8997121064304476,\n 'recall_score_weighted': 0.8763276836158193,\n 'AUC_micro': 0.9142065977209614,\n 'matthews_correlation': 0.7269575497896184,\n 'recall_score_macro': 0.8416666666666668,\n 'norm_macro_recall': 0.6833333333333333,\n 'f1_score_micro': 0.8763276836158193,\n 'AUC_macro': 0.9108596576227391,\n 'f1_score_weighted': 0.8709088221678037,\n 'f1_score_macro': 0.8492454760969371,\n 'precision_score_weighted': 0.893293760159746,\n 'precision_score_macro': 0.88911213872394,\n 'AUC_weighted': 0.9108596576227388,\n 'log_loss': 0.4000847584925241,\n 'recall_score_micro': 0.8763276836158193}"
          },
          "metadata": {}
        }
      ],
      "execution_count": 9,
      "metadata": {
        "gather": {
          "logged": 1620764286877
        },
        "jupyter": {
          "outputs_hidden": false,
          "source_hidden": false
        },
        "nteract": {
          "transient": {
            "deleting": false
          }
        }
      }
    },
    {
      "cell_type": "code",
      "source": [
        "print(best_run)"
      ],
      "outputs": [
        {
          "output_type": "stream",
          "name": "stdout",
          "text": [
            "Run(Experiment: heart-failure-aml-exp,\n",
            "Id: AutoML_aee3095f-aebf-486a-863a-869674d7d68d_50,\n",
            "Type: azureml.scriptrun,\n",
            "Status: Completed)\n"
          ]
        }
      ],
      "execution_count": 10,
      "metadata": {
        "gather": {
          "logged": 1620764492068
        },
        "jupyter": {
          "outputs_hidden": false,
          "source_hidden": false
        },
        "nteract": {
          "transient": {
            "deleting": false
          }
        }
      }
    },
    {
      "cell_type": "code",
      "source": [
        "print(fitted_model)"
      ],
      "outputs": [
        {
          "output_type": "stream",
          "name": "stdout",
          "text": [
            "Pipeline(memory=None,\n",
            "         steps=[('datatransformer',\n",
            "                 DataTransformer(enable_dnn=None, enable_feature_sweeping=None,\n",
            "                                 feature_sweeping_config=None,\n",
            "                                 feature_sweeping_timeout=None,\n",
            "                                 featurization_config=None, force_text_dnn=None,\n",
            "                                 is_cross_validation=None,\n",
            "                                 is_onnx_compatible=None, logger=None,\n",
            "                                 observer=None, task=None, working_dir=None)),\n",
            "                ('prefittedsoftvotingclassifier',...\n",
            "                                                                                               reg_lambda=1.7708333333333335,\n",
            "                                                                                               scale_pos_weight=1,\n",
            "                                                                                               seed=None,\n",
            "                                                                                               silent=None,\n",
            "                                                                                               subsample=0.8,\n",
            "                                                                                               tree_method='auto',\n",
            "                                                                                               verbose=-10,\n",
            "                                                                                               verbosity=0))],\n",
            "                                                                     verbose=False))],\n",
            "                                               flatten_transform=None,\n",
            "                                               weights=[0.1111111111111111,\n",
            "                                                        0.1111111111111111,\n",
            "                                                        0.1111111111111111,\n",
            "                                                        0.1111111111111111,\n",
            "                                                        0.1111111111111111,\n",
            "                                                        0.1111111111111111,\n",
            "                                                        0.1111111111111111,\n",
            "                                                        0.1111111111111111,\n",
            "                                                        0.1111111111111111]))],\n",
            "         verbose=False)\n"
          ]
        }
      ],
      "execution_count": 11,
      "metadata": {
        "collapsed": true,
        "jupyter": {
          "source_hidden": false,
          "outputs_hidden": false
        },
        "nteract": {
          "transient": {
            "deleting": false
          }
        },
        "gather": {
          "logged": 1620764493954
        }
      }
    },
    {
      "cell_type": "markdown",
      "source": [
        "## Test the model\n",
        "\n",
        "### Load test data\n",
        "\n",
        "For the test data, it should have the same preparation step as the train data. Otherwise it might get failed at the preprocessing step."
      ],
      "metadata": {
        "nteract": {
          "transient": {
            "deleting": false
          }
        }
      }
    },
    {
      "cell_type": "code",
      "source": [
        "dataset_test = Dataset.Tabular.from_delimited_files(path=data_path)\n",
        "df_test = dataset_test.to_pandas_dataframe()\n",
        "df_test = df_test[pd.notnull(df_test['DEATH_EVENT'])]\n",
        "\n",
        "y_test = df_test['DEATH_EVENT']\n",
        "X_test = df_test.drop(['DEATH_EVENT'], axis=1)"
      ],
      "outputs": [],
      "execution_count": 12,
      "metadata": {
        "collapsed": true,
        "jupyter": {
          "source_hidden": false,
          "outputs_hidden": false
        },
        "nteract": {
          "transient": {
            "deleting": false
          }
        },
        "gather": {
          "logged": 1620764498960
        }
      }
    },
    {
      "cell_type": "markdown",
      "source": [
        "### Testing our best fitted model\n",
        "\n",
        "We will use confusion matrix to see how our model works."
      ],
      "metadata": {
        "nteract": {
          "transient": {
            "deleting": false
          }
        }
      }
    },
    {
      "cell_type": "code",
      "source": [
        "ypred = fitted_model.predict(X_test)\n",
        "cm = confusion_matrix(y_test, ypred)"
      ],
      "outputs": [],
      "execution_count": 13,
      "metadata": {
        "collapsed": true,
        "jupyter": {
          "source_hidden": false,
          "outputs_hidden": false
        },
        "nteract": {
          "transient": {
            "deleting": false
          }
        },
        "gather": {
          "logged": 1620764500043
        }
      }
    },
    {
      "cell_type": "code",
      "source": [
        "# Visualize the confusion matrix\n",
        "pd.DataFrame(cm).style.background_gradient(cmap='Blues', low=0, high=0.9)"
      ],
      "outputs": [
        {
          "output_type": "execute_result",
          "execution_count": 14,
          "data": {
            "text/plain": "<pandas.io.formats.style.Styler at 0x7fedcc06eba8>",
            "text/html": "<style  type=\"text/css\" >\n    #T_7f60a512_b296_11eb_8b2c_911faaaf574crow0_col0 {\n            background-color:  #63a8d3;\n            color:  #000000;\n        }    #T_7f60a512_b296_11eb_8b2c_911faaaf574crow0_col1 {\n            background-color:  #f7fbff;\n            color:  #000000;\n        }    #T_7f60a512_b296_11eb_8b2c_911faaaf574crow1_col0 {\n            background-color:  #f7fbff;\n            color:  #000000;\n        }    #T_7f60a512_b296_11eb_8b2c_911faaaf574crow1_col1 {\n            background-color:  #63a8d3;\n            color:  #000000;\n        }</style><table id=\"T_7f60a512_b296_11eb_8b2c_911faaaf574c\" ><thead>    <tr>        <th class=\"blank level0\" ></th>        <th class=\"col_heading level0 col0\" >0</th>        <th class=\"col_heading level0 col1\" >1</th>    </tr></thead><tbody>\n                <tr>\n                        <th id=\"T_7f60a512_b296_11eb_8b2c_911faaaf574clevel0_row0\" class=\"row_heading level0 row0\" >0</th>\n                        <td id=\"T_7f60a512_b296_11eb_8b2c_911faaaf574crow0_col0\" class=\"data row0 col0\" >197</td>\n                        <td id=\"T_7f60a512_b296_11eb_8b2c_911faaaf574crow0_col1\" class=\"data row0 col1\" >6</td>\n            </tr>\n            <tr>\n                        <th id=\"T_7f60a512_b296_11eb_8b2c_911faaaf574clevel0_row1\" class=\"row_heading level0 row1\" >1</th>\n                        <td id=\"T_7f60a512_b296_11eb_8b2c_911faaaf574crow1_col0\" class=\"data row1 col0\" >20</td>\n                        <td id=\"T_7f60a512_b296_11eb_8b2c_911faaaf574crow1_col1\" class=\"data row1 col1\" >76</td>\n            </tr>\n    </tbody></table>"
          },
          "metadata": {}
        }
      ],
      "execution_count": 14,
      "metadata": {
        "collapsed": true,
        "jupyter": {
          "source_hidden": false,
          "outputs_hidden": false
        },
        "nteract": {
          "transient": {
            "deleting": false
          }
        },
        "gather": {
          "logged": 1620764501815
        }
      }
    },
    {
      "cell_type": "markdown",
      "source": [
        "## Model Deployment\n",
        "\n",
        "As the AutoML model performed better than the HyperDrive model, we will register this model, create an inference config and deploy it as a web service.\n",
        "\n",
        "### Save and register model"
      ],
      "metadata": {}
    },
    {
      "cell_type": "code",
      "source": [
        "# Save the model, scoring script and conda environment of the best run\n",
        "inference_folder_name = 'inference'\n",
        "automl_model = os.path.join(inference_folder_name, 'model.pkl')\n",
        "score_script = os.path.join(inference_folder_name, 'score.py')\n",
        "conda_env = os.path.join(inference_folder_name, 'conda_env.yml')\n",
        "best_run.download_file('outputs/model.pkl', automl_model)\n",
        "best_run.download_file('outputs/scoring_file_v_1_0_0.py', score_script)\n",
        "best_run.download_file('outputs/conda_env_v_1_0_0.yml', conda_env)"
      ],
      "outputs": [],
      "execution_count": 15,
      "metadata": {
        "gather": {
          "logged": 1620764505003
        },
        "jupyter": {
          "outputs_hidden": false,
          "source_hidden": false
        },
        "nteract": {
          "transient": {
            "deleting": false
          }
        }
      }
    },
    {
      "cell_type": "code",
      "source": [
        "# Register the model\n",
        "model = Model.register(\n",
        "    workspace=ws,\n",
        "    model_name=best_run.properties['model_name'],\n",
        "    model_path=automl_model,\n",
        "    model_framework=Model.Framework.SCIKITLEARN,\n",
        "    model_framework_version=sklearn.__version__,\n",
        "    description='Auto ML model predicting deaths caused by heart failure'\n",
        "    )\n",
        "\n",
        "print('Name:', model.name)\n",
        "print('Version:', model.version)"
      ],
      "outputs": [
        {
          "output_type": "stream",
          "name": "stdout",
          "text": [
            "Registering model AutoMLaee3095fa50\n",
            "Name: AutoMLaee3095fa50\n",
            "Version: 1\n"
          ]
        }
      ],
      "execution_count": 16,
      "metadata": {
        "collapsed": true,
        "jupyter": {
          "source_hidden": false,
          "outputs_hidden": false
        },
        "nteract": {
          "transient": {
            "deleting": false
          }
        },
        "gather": {
          "logged": 1620764508130
        }
      }
    },
    {
      "cell_type": "code",
      "source": [
        "# Create inference configuration\n",
        "env = Environment.from_conda_specification(name=\"env\", file_path=conda_env)\n",
        "inference_conf = InferenceConfig(entry_script=score_script, environment=env)\n",
        "\n",
        "# Display the environment file\n",
        "with open(conda_env, 'r') as file:\n",
        "    env_file = file.read()\n",
        "    print(env_file)"
      ],
      "outputs": [
        {
          "output_type": "stream",
          "name": "stdout",
          "text": [
            "# Conda environment specification. The dependencies defined in this file will\n",
            "# be automatically provisioned for runs with userManagedDependencies=False.\n",
            "\n",
            "# Details about the Conda environment file format:\n",
            "# https://conda.io/docs/user-guide/tasks/manage-environments.html#create-env-file-manually\n",
            "\n",
            "name: project_environment\n",
            "dependencies:\n",
            "  # The python interpreter version.\n",
            "  # Currently Azure ML only supports 3.5.2 and later.\n",
            "- python=3.6.2\n",
            "\n",
            "- pip:\n",
            "  - azureml-train-automl-runtime==1.27.0.post1\n",
            "  - inference-schema\n",
            "  - azureml-interpret==1.27.0\n",
            "  - azureml-defaults==1.27.0\n",
            "- numpy>=1.16.0,<1.19.0\n",
            "- pandas==0.25.1\n",
            "- scikit-learn==0.22.1\n",
            "- py-xgboost<=0.90\n",
            "- fbprophet==0.5\n",
            "- holidays==0.9.11\n",
            "- psutil>=5.2.2,<6.0.0\n",
            "channels:\n",
            "- anaconda\n",
            "- conda-forge\n",
            "\n"
          ]
        }
      ],
      "execution_count": 17,
      "metadata": {
        "collapsed": true,
        "jupyter": {
          "source_hidden": false,
          "outputs_hidden": false
        },
        "nteract": {
          "transient": {
            "deleting": false
          }
        },
        "gather": {
          "logged": 1620764519458
        }
      }
    },
    {
      "cell_type": "markdown",
      "source": [
        "### Deploy webservice"
      ],
      "metadata": {
        "nteract": {
          "transient": {
            "deleting": false
          }
        }
      }
    },
    {
      "cell_type": "code",
      "source": [
        "# Define deployment configuration\n",
        "deployment_conf = AciWebservice.deploy_configuration(\n",
        "    cpu_cores=1,\n",
        "    memory_gb=1,\n",
        "    description='Predicting deaths caused by heart failure',\n",
        "    enable_app_insights=True)\n",
        "\n",
        "# Deploy model as webservice using Azure Container Instance (ACI)\n",
        "service_name = \"aci-heart-failure-web\"\n",
        "\n",
        "service = Model.deploy(\n",
        "    workspace=ws,\n",
        "    name=service_name, \n",
        "    models=[model], \n",
        "    inference_config=inference_conf, \n",
        "    deployment_config=deployment_conf, \n",
        "    overwrite=True)\n",
        "\n",
        "service.wait_for_deployment(show_output=True)\n",
        "\n",
        "print(service.state)"
      ],
      "outputs": [
        {
          "output_type": "stream",
          "name": "stdout",
          "text": [
            "Tips: You can try get_logs(): https://aka.ms/debugimage#dockerlog or local deployment: https://aka.ms/debugimage#debug-locally to debug if deployment takes longer than 10 minutes.\n",
            "Running\n",
            "2021-05-11 20:40:56+00:00 Creating Container Registry if not exists.\n",
            "2021-05-11 20:40:57+00:00 Registering the environment.\n",
            "2021-05-11 20:40:57+00:00 Use the existing image.\n",
            "2021-05-11 20:40:57+00:00 Generating deployment configuration.\n",
            "2021-05-11 20:40:58+00:00 Submitting deployment to compute..\n",
            "2021-05-11 20:41:31+00:00 Checking the status of deployment aci-heart-failure-web..\n",
            "2021-05-11 20:44:57+00:00 Checking the status of inference endpoint aci-heart-failure-web.\n",
            "Succeeded\n",
            "ACI service creation operation finished, operation \"Succeeded\"\n",
            "Healthy\n"
          ]
        }
      ],
      "execution_count": 25,
      "metadata": {
        "collapsed": true,
        "jupyter": {
          "source_hidden": false,
          "outputs_hidden": false
        },
        "nteract": {
          "transient": {
            "deleting": false
          }
        },
        "gather": {
          "logged": 1620765898768
        }
      }
    },
    {
      "cell_type": "markdown",
      "source": [
        "### Consume webservice"
      ],
      "metadata": {
        "collapsed": true,
        "gather": {
          "logged": 1598431657736
        },
        "jupyter": {
          "outputs_hidden": false,
          "source_hidden": false
        },
        "nteract": {
          "transient": {
            "deleting": false
          }
        }
      }
    },
    {
      "cell_type": "code",
      "source": [
        "\n",
        "import json\n",
        "import requests\n",
        "\n",
        "test_data = json.dumps({\n",
        "    \"data\": [\n",
        "        [55, 0, 1820, 0, 38, 0, 270000, 1.2, 139, 0, 0, 271],\n",
        "        [55, 0, 1199, 0, 20, 0, 263358.03, 1.83,134, 1, 1, 241],\n",
        "        [65, 1, 258, 1, 25, 0, 198000, 1.4, 129, 1, 0, 235],\n",
        "        [50, 0, 196, 0, 45, 0, 395000, 1.6, 136, 1, 1, 285]\n",
        "    ]})\n",
        "\n",
        "response = requests.post(\n",
        "    service.scoring_uri, \n",
        "    data=test_data, \n",
        "    headers={'Content-Type':'application/json'})\n",
        "\n",
        "print(\"Results:\", response.json())"
      ],
      "outputs": [
        {
          "output_type": "stream",
          "name": "stdout",
          "text": [
            "Results: {\"result\": [0, 1, 0, 0]}\n"
          ]
        }
      ],
      "execution_count": 29,
      "metadata": {
        "gather": {
          "logged": 1620767625562
        },
        "jupyter": {
          "outputs_hidden": false,
          "source_hidden": false
        },
        "nteract": {
          "transient": {
            "deleting": false
          }
        }
      }
    },
    {
      "cell_type": "markdown",
      "source": [
        "### Print the logs of the webservice"
      ],
      "metadata": {
        "collapsed": true,
        "gather": {
          "logged": 1598432765711
        },
        "jupyter": {
          "outputs_hidden": false,
          "source_hidden": false
        },
        "nteract": {
          "transient": {
            "deleting": false
          }
        }
      }
    },
    {
      "cell_type": "code",
      "source": [
        "print(service.get_logs())"
      ],
      "outputs": [
        {
          "output_type": "stream",
          "name": "stdout",
          "text": [
            "2021-05-11T20:44:48,759135100+00:00 - iot-server/run \n",
            "2021-05-11T20:44:48,758708900+00:00 - gunicorn/run \n",
            "2021-05-11T20:44:48,771593200+00:00 - rsyslog/run \n",
            "rsyslogd: /azureml-envs/azureml_f8f5ff2f983718fa04a09abf22f98303/lib/libuuid.so.1: no version information available (required by rsyslogd)\n",
            "2021-05-11T20:44:48,807947600+00:00 - nginx/run \n",
            "/usr/sbin/nginx: /azureml-envs/azureml_f8f5ff2f983718fa04a09abf22f98303/lib/libcrypto.so.1.0.0: no version information available (required by /usr/sbin/nginx)\n",
            "/usr/sbin/nginx: /azureml-envs/azureml_f8f5ff2f983718fa04a09abf22f98303/lib/libcrypto.so.1.0.0: no version information available (required by /usr/sbin/nginx)\n",
            "/usr/sbin/nginx: /azureml-envs/azureml_f8f5ff2f983718fa04a09abf22f98303/lib/libssl.so.1.0.0: no version information available (required by /usr/sbin/nginx)\n",
            "/usr/sbin/nginx: /azureml-envs/azureml_f8f5ff2f983718fa04a09abf22f98303/lib/libssl.so.1.0.0: no version information available (required by /usr/sbin/nginx)\n",
            "/usr/sbin/nginx: /azureml-envs/azureml_f8f5ff2f983718fa04a09abf22f98303/lib/libssl.so.1.0.0: no version information available (required by /usr/sbin/nginx)\n",
            "EdgeHubConnectionString and IOTEDGE_IOTHUBHOSTNAME are not set. Exiting...\n",
            "2021-05-11T20:44:49,165435500+00:00 - iot-server/finish 1 0\n",
            "2021-05-11T20:44:49,167282700+00:00 - Exit code 1 is normal. Not restarting iot-server.\n",
            "Starting gunicorn 19.9.0\n",
            "Listening at: http://127.0.0.1:31311 (75)\n",
            "Using worker: sync\n",
            "worker timeout is set to 300\n",
            "Booting worker with pid: 105\n",
            "SPARK_HOME not set. Skipping PySpark Initialization.\n",
            "Generating new fontManager, this may take some time...\n",
            "Initializing logger\n",
            "2021-05-11 20:44:51,369 | root | INFO | Starting up app insights client\n",
            "2021-05-11 20:44:51,369 | root | INFO | Starting up request id generator\n",
            "2021-05-11 20:44:51,370 | root | INFO | Starting up app insight hooks\n",
            "2021-05-11 20:44:51,370 | root | INFO | Invoking user's init function\n",
            "2021-05-11 20:44:55,513 | azureml.core | WARNING | Failure while loading azureml_run_type_providers. Failed to load entrypoint automl = azureml.train.automl.run:AutoMLRun._from_run_dto with exception cannot import name 'RunType'.\n",
            "Failure while loading azureml_run_type_providers. Failed to load entrypoint automl = azureml.train.automl.run:AutoMLRun._from_run_dto with exception cannot import name 'RunType'.\n",
            "2021-05-11 20:44:55,911 | root | INFO | Users's init has completed successfully\n",
            "2021-05-11 20:44:55,919 | root | INFO | Skipping middleware: dbg_model_info as it's not enabled.\n",
            "2021-05-11 20:44:55,919 | root | INFO | Skipping middleware: dbg_resource_usage as it's not enabled.\n",
            "2021-05-11 20:44:55,925 | root | INFO | Scoring timeout is found from os.environ: 60000 ms\n",
            "2021-05-11 20:44:57,220 | root | INFO | 200\n",
            "127.0.0.1 - - [11/May/2021:20:44:57 +0000] \"GET /swagger.json HTTP/1.0\" 200 3045 \"-\" \"Go-http-client/1.1\"\n",
            "2021-05-11 20:44:58,591 | root | INFO | 200\n",
            "127.0.0.1 - - [11/May/2021:20:44:58 +0000] \"GET /swagger.json HTTP/1.0\" 200 3045 \"-\" \"Go-http-client/1.1\"\n",
            "2021-05-11 20:44:58,689 | root | INFO | Validation Request Content-Type\n",
            "2021-05-11 20:44:58,689 | root | INFO | Scoring Timer is set to 60.0 seconds\n",
            "2021-05-11 20:44:58,952 | root | INFO | 200\n",
            "127.0.0.1 - - [11/May/2021:20:44:58 +0000] \"POST /score HTTP/1.0\" 200 28 \"-\" \"python-requests/2.25.1\"\n",
            "2021-05-11 20:45:07,842 | root | INFO | Validation Request Content-Type\n",
            "2021-05-11 20:45:07,842 | root | INFO | Scoring Timer is set to 60.0 seconds\n",
            "2021-05-11 20:45:08,083 | root | INFO | 200\n",
            "127.0.0.1 - - [11/May/2021:20:45:08 +0000] \"POST /score HTTP/1.0\" 200 28 \"-\" \"python-requests/2.25.1\"\n",
            "\n"
          ]
        }
      ],
      "execution_count": 28,
      "metadata": {
        "jupyter": {
          "outputs_hidden": false,
          "source_hidden": false
        },
        "nteract": {
          "transient": {
            "deleting": false
          }
        },
        "gather": {
          "logged": 1620765911068
        }
      }
    },
    {
      "cell_type": "markdown",
      "source": [
        "### Clean up"
      ],
      "metadata": {
        "nteract": {
          "transient": {
            "deleting": false
          }
        }
      }
    },
    {
      "cell_type": "code",
      "source": [
        "# Delete the web service and the model\n",
        "service.delete()\n",
        "model.delete()"
      ],
      "outputs": [],
      "execution_count": null,
      "metadata": {
        "collapsed": true,
        "jupyter": {
          "source_hidden": false,
          "outputs_hidden": false
        },
        "nteract": {
          "transient": {
            "deleting": false
          }
        }
      }
    }
  ],
  "metadata": {
    "kernel_info": {
      "name": "python3"
    },
    "kernelspec": {
      "name": "python3",
      "language": "python",
      "display_name": "Python 3"
    },
    "language_info": {
      "name": "python",
      "version": "3.6.9",
      "mimetype": "text/x-python",
      "codemirror_mode": {
        "name": "ipython",
        "version": 3
      },
      "pygments_lexer": "ipython3",
      "nbconvert_exporter": "python",
      "file_extension": ".py"
    },
    "nteract": {
      "version": "nteract-front-end@1.0.0"
    },
    "microsoft": {
      "host": {
        "AzureML": {
          "notebookHasBeenCompleted": true
        }
      }
    }
  },
  "nbformat": 4,
  "nbformat_minor": 2
}